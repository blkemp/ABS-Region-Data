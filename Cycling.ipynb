{
 "cells": [
  {
   "cell_type": "code",
   "execution_count": null,
   "metadata": {},
   "outputs": [],
   "source": []
  },
  {
   "cell_type": "code",
   "execution_count": 6,
   "metadata": {},
   "outputs": [
    {
     "data": {
      "text/plain": [
       "<module 'cleanfunc' from 'C:\\\\Users\\\\chris\\\\ABS-Region-Data\\\\cleanfunc.py'>"
      ]
     },
     "execution_count": 6,
     "metadata": {},
     "output_type": "execute_result"
    }
   ],
   "source": [
    "import importlib\n",
    "import numpy as np\n",
    "import pandas as pd\n",
    "import matplotlib.pyplot as plt\n",
    "from sklearn.linear_model import LinearRegression\n",
    "from sklearn.model_selection import train_test_split\n",
    "from sklearn.metrics import r2_score, mean_squared_error\n",
    "import seaborn as sns\n",
    "import os\n",
    "from textwrap import wrap\n",
    "from sklearn.preprocessing import MinMaxScaler\n",
    "from sklearn.ensemble import RandomForestRegressor, AdaBoostRegressor\n",
    "from sklearn.model_selection import GridSearchCV\n",
    "import eli5\n",
    "import cleanfunc\n",
    "import re\n",
    "from sklearn.metrics import r2_score\n",
    "\n",
    "importlib.reload(cleanfunc)\n"
   ]
  },
  {
   "cell_type": "code",
   "execution_count": 20,
   "metadata": {},
   "outputs": [
    {
     "name": "stderr",
     "output_type": "stream",
     "text": [
      "C:\\Users\\chris\\Anaconda3\\lib\\site-packages\\IPython\\core\\interactiveshell.py:2901: DtypeWarning: Columns (0) have mixed types. Specify dtype option on import or set low_memory=False.\n",
      "  if self.run_code(code, result):\n",
      "C:\\Users\\chris\\Anaconda3\\lib\\site-packages\\pandas\\core\\indexing.py:543: SettingWithCopyWarning: \n",
      "A value is trying to be set on a copy of a slice from a DataFrame.\n",
      "Try using .loc[row_indexer,col_indexer] = value instead\n",
      "\n",
      "See the caveats in the documentation: http://pandas.pydata.org/pandas-docs/stable/indexing.html#indexing-view-versus-copy\n",
      "  self.obj[item] = s\n",
      "C:\\Users\\chris\\Anaconda3\\lib\\site-packages\\pandas\\core\\generic.py:5434: SettingWithCopyWarning: \n",
      "A value is trying to be set on a copy of a slice from a DataFrame\n",
      "\n",
      "See the caveats in the documentation: http://pandas.pydata.org/pandas-docs/stable/indexing.html#indexing-view-versus-copy\n",
      "  self._update_inplace(new_data)\n"
     ]
    }
   ],
   "source": [
    "df = cleanfunc.load_merge_clean()"
   ]
  },
  {
   "cell_type": "code",
   "execution_count": 21,
   "metadata": {},
   "outputs": [
    {
     "data": {
      "text/html": [
       "<div>\n",
       "<style scoped>\n",
       "    .dataframe tbody tr th:only-of-type {\n",
       "        vertical-align: middle;\n",
       "    }\n",
       "\n",
       "    .dataframe tbody tr th {\n",
       "        vertical-align: top;\n",
       "    }\n",
       "\n",
       "    .dataframe thead th {\n",
       "        text-align: right;\n",
       "    }\n",
       "</style>\n",
       "<table border=\"1\" class=\"dataframe\">\n",
       "  <thead>\n",
       "    <tr style=\"text-align: right;\">\n",
       "      <th></th>\n",
       "      <th>NUMBER OF BUSINESSES Number of non-employing businesses no.</th>\n",
       "      <th>NUMBER OF BUSINESSES 1-4 employees no.</th>\n",
       "      <th>NUMBER OF BUSINESSES 5-19 employees no.</th>\n",
       "      <th>NUMBER OF BUSINESSES 20 or more employees no.</th>\n",
       "      <th>NUMBER OF BUSINESSES Total number of businesses no.</th>\n",
       "      <th>BUSINESS ENTRIES Number of non-employing business entries  no.</th>\n",
       "      <th>BUSINESS ENTRIES 1-4 employees no.</th>\n",
       "      <th>BUSINESS ENTRIES 5-19 employees no.</th>\n",
       "      <th>BUSINESS ENTRIES 20 or more employees no.</th>\n",
       "      <th>BUSINESS ENTRIES Total number of business entries no.</th>\n",
       "      <th>...</th>\n",
       "      <th>RELIGIOUS AFFILIATION Judaism   %</th>\n",
       "      <th>RELIGIOUS AFFILIATION Other Religions   %</th>\n",
       "      <th>RELIGIOUS AFFILIATION Secular Beliefs, Other Spiritual Beliefs and No Religious Affiliation  %</th>\n",
       "      <th>RELIGIOUS AFFILIATION Inadequately described or not stated   %</th>\n",
       "      <th>AUSTRALIAN CITIZENSHIP Australian citizen  %</th>\n",
       "      <th>AUSTRALIAN CITIZENSHIP Not an Australian citizen  %</th>\n",
       "      <th>AUSTRALIAN CITIZENSHIP Australian Citizenship - Not stated  %</th>\n",
       "      <th>SPEAKS A LANGUAGE OTHER THAN ENGLISH AT HOME Proportion of total population  %</th>\n",
       "      <th>lat</th>\n",
       "      <th>long</th>\n",
       "    </tr>\n",
       "    <tr>\n",
       "      <th>LABEL</th>\n",
       "      <th></th>\n",
       "      <th></th>\n",
       "      <th></th>\n",
       "      <th></th>\n",
       "      <th></th>\n",
       "      <th></th>\n",
       "      <th></th>\n",
       "      <th></th>\n",
       "      <th></th>\n",
       "      <th></th>\n",
       "      <th></th>\n",
       "      <th></th>\n",
       "      <th></th>\n",
       "      <th></th>\n",
       "      <th></th>\n",
       "      <th></th>\n",
       "      <th></th>\n",
       "      <th></th>\n",
       "      <th></th>\n",
       "      <th></th>\n",
       "      <th></th>\n",
       "    </tr>\n",
       "  </thead>\n",
       "  <tbody>\n",
       "    <tr>\n",
       "      <th>Braidwood</th>\n",
       "      <td>404.0</td>\n",
       "      <td>149.0</td>\n",
       "      <td>33.0</td>\n",
       "      <td>3.0</td>\n",
       "      <td>589.0</td>\n",
       "      <td>42.0</td>\n",
       "      <td>15.0</td>\n",
       "      <td>6.550351</td>\n",
       "      <td>3.855263</td>\n",
       "      <td>52.0</td>\n",
       "      <td>...</td>\n",
       "      <td>0.748598</td>\n",
       "      <td>0.5</td>\n",
       "      <td>35.3</td>\n",
       "      <td>14.6</td>\n",
       "      <td>85.0</td>\n",
       "      <td>3.2</td>\n",
       "      <td>11.7</td>\n",
       "      <td>3.4</td>\n",
       "      <td>-35.444450</td>\n",
       "      <td>149.799675</td>\n",
       "    </tr>\n",
       "    <tr>\n",
       "      <th>Karabar</th>\n",
       "      <td>209.0</td>\n",
       "      <td>106.0</td>\n",
       "      <td>17.0</td>\n",
       "      <td>3.0</td>\n",
       "      <td>335.0</td>\n",
       "      <td>25.0</td>\n",
       "      <td>19.0</td>\n",
       "      <td>6.550351</td>\n",
       "      <td>3.855263</td>\n",
       "      <td>38.0</td>\n",
       "      <td>...</td>\n",
       "      <td>0.748598</td>\n",
       "      <td>0.8</td>\n",
       "      <td>24.5</td>\n",
       "      <td>8.1</td>\n",
       "      <td>89.7</td>\n",
       "      <td>4.0</td>\n",
       "      <td>6.2</td>\n",
       "      <td>13.5</td>\n",
       "      <td>-35.375943</td>\n",
       "      <td>149.232872</td>\n",
       "    </tr>\n",
       "    <tr>\n",
       "      <th>Queanbeyan</th>\n",
       "      <td>402.0</td>\n",
       "      <td>193.0</td>\n",
       "      <td>89.0</td>\n",
       "      <td>27.0</td>\n",
       "      <td>712.0</td>\n",
       "      <td>75.0</td>\n",
       "      <td>32.0</td>\n",
       "      <td>5.000000</td>\n",
       "      <td>3.855263</td>\n",
       "      <td>111.0</td>\n",
       "      <td>...</td>\n",
       "      <td>0.100000</td>\n",
       "      <td>2.1</td>\n",
       "      <td>28.5</td>\n",
       "      <td>10.5</td>\n",
       "      <td>80.6</td>\n",
       "      <td>11.2</td>\n",
       "      <td>8.2</td>\n",
       "      <td>21.2</td>\n",
       "      <td>-35.352466</td>\n",
       "      <td>149.233725</td>\n",
       "    </tr>\n",
       "    <tr>\n",
       "      <th>Queanbeyan - East</th>\n",
       "      <td>292.0</td>\n",
       "      <td>144.0</td>\n",
       "      <td>90.0</td>\n",
       "      <td>24.0</td>\n",
       "      <td>554.0</td>\n",
       "      <td>39.0</td>\n",
       "      <td>23.0</td>\n",
       "      <td>4.000000</td>\n",
       "      <td>3.855263</td>\n",
       "      <td>67.0</td>\n",
       "      <td>...</td>\n",
       "      <td>0.200000</td>\n",
       "      <td>2.6</td>\n",
       "      <td>27.4</td>\n",
       "      <td>9.2</td>\n",
       "      <td>82.0</td>\n",
       "      <td>11.4</td>\n",
       "      <td>6.4</td>\n",
       "      <td>20.4</td>\n",
       "      <td>-35.345549</td>\n",
       "      <td>149.246507</td>\n",
       "    </tr>\n",
       "    <tr>\n",
       "      <th>Queanbeyan Region</th>\n",
       "      <td>915.0</td>\n",
       "      <td>487.0</td>\n",
       "      <td>119.0</td>\n",
       "      <td>9.0</td>\n",
       "      <td>1526.0</td>\n",
       "      <td>149.0</td>\n",
       "      <td>50.0</td>\n",
       "      <td>3.000000</td>\n",
       "      <td>3.855263</td>\n",
       "      <td>202.0</td>\n",
       "      <td>...</td>\n",
       "      <td>0.748598</td>\n",
       "      <td>0.6</td>\n",
       "      <td>32.5</td>\n",
       "      <td>12.2</td>\n",
       "      <td>87.8</td>\n",
       "      <td>2.6</td>\n",
       "      <td>9.7</td>\n",
       "      <td>5.8</td>\n",
       "      <td>-35.352466</td>\n",
       "      <td>149.233725</td>\n",
       "    </tr>\n",
       "  </tbody>\n",
       "</table>\n",
       "<p>5 rows × 456 columns</p>\n",
       "</div>"
      ],
      "text/plain": [
       "                   NUMBER OF BUSINESSES Number of non-employing businesses no.  \\\n",
       "LABEL                                                                            \n",
       "Braidwood                                                      404.0             \n",
       "Karabar                                                        209.0             \n",
       "Queanbeyan                                                     402.0             \n",
       "Queanbeyan - East                                              292.0             \n",
       "Queanbeyan Region                                              915.0             \n",
       "\n",
       "                   NUMBER OF BUSINESSES 1-4 employees no.  \\\n",
       "LABEL                                                       \n",
       "Braidwood                                           149.0   \n",
       "Karabar                                             106.0   \n",
       "Queanbeyan                                          193.0   \n",
       "Queanbeyan - East                                   144.0   \n",
       "Queanbeyan Region                                   487.0   \n",
       "\n",
       "                   NUMBER OF BUSINESSES 5-19 employees no.  \\\n",
       "LABEL                                                        \n",
       "Braidwood                                             33.0   \n",
       "Karabar                                               17.0   \n",
       "Queanbeyan                                            89.0   \n",
       "Queanbeyan - East                                     90.0   \n",
       "Queanbeyan Region                                    119.0   \n",
       "\n",
       "                   NUMBER OF BUSINESSES 20 or more employees no.  \\\n",
       "LABEL                                                              \n",
       "Braidwood                                                    3.0   \n",
       "Karabar                                                      3.0   \n",
       "Queanbeyan                                                  27.0   \n",
       "Queanbeyan - East                                           24.0   \n",
       "Queanbeyan Region                                            9.0   \n",
       "\n",
       "                   NUMBER OF BUSINESSES Total number of businesses no.  \\\n",
       "LABEL                                                                    \n",
       "Braidwood                                                      589.0     \n",
       "Karabar                                                        335.0     \n",
       "Queanbeyan                                                     712.0     \n",
       "Queanbeyan - East                                              554.0     \n",
       "Queanbeyan Region                                             1526.0     \n",
       "\n",
       "                   BUSINESS ENTRIES Number of non-employing business entries  no.  \\\n",
       "LABEL                                                                               \n",
       "Braidwood                                                       42.0                \n",
       "Karabar                                                         25.0                \n",
       "Queanbeyan                                                      75.0                \n",
       "Queanbeyan - East                                               39.0                \n",
       "Queanbeyan Region                                              149.0                \n",
       "\n",
       "                   BUSINESS ENTRIES 1-4 employees no.  \\\n",
       "LABEL                                                   \n",
       "Braidwood                                        15.0   \n",
       "Karabar                                          19.0   \n",
       "Queanbeyan                                       32.0   \n",
       "Queanbeyan - East                                23.0   \n",
       "Queanbeyan Region                                50.0   \n",
       "\n",
       "                   BUSINESS ENTRIES 5-19 employees no.  \\\n",
       "LABEL                                                    \n",
       "Braidwood                                     6.550351   \n",
       "Karabar                                       6.550351   \n",
       "Queanbeyan                                    5.000000   \n",
       "Queanbeyan - East                             4.000000   \n",
       "Queanbeyan Region                             3.000000   \n",
       "\n",
       "                   BUSINESS ENTRIES 20 or more employees no.  \\\n",
       "LABEL                                                          \n",
       "Braidwood                                           3.855263   \n",
       "Karabar                                             3.855263   \n",
       "Queanbeyan                                          3.855263   \n",
       "Queanbeyan - East                                   3.855263   \n",
       "Queanbeyan Region                                   3.855263   \n",
       "\n",
       "                   BUSINESS ENTRIES Total number of business entries no.  \\\n",
       "LABEL                                                                      \n",
       "Braidwood                                                       52.0       \n",
       "Karabar                                                         38.0       \n",
       "Queanbeyan                                                     111.0       \n",
       "Queanbeyan - East                                               67.0       \n",
       "Queanbeyan Region                                              202.0       \n",
       "\n",
       "                      ...      RELIGIOUS AFFILIATION Judaism   %  \\\n",
       "LABEL                 ...                                          \n",
       "Braidwood             ...                               0.748598   \n",
       "Karabar               ...                               0.748598   \n",
       "Queanbeyan            ...                               0.100000   \n",
       "Queanbeyan - East     ...                               0.200000   \n",
       "Queanbeyan Region     ...                               0.748598   \n",
       "\n",
       "                   RELIGIOUS AFFILIATION Other Religions   %  \\\n",
       "LABEL                                                          \n",
       "Braidwood                                                0.5   \n",
       "Karabar                                                  0.8   \n",
       "Queanbeyan                                               2.1   \n",
       "Queanbeyan - East                                        2.6   \n",
       "Queanbeyan Region                                        0.6   \n",
       "\n",
       "                   RELIGIOUS AFFILIATION Secular Beliefs, Other Spiritual Beliefs and No Religious Affiliation  %  \\\n",
       "LABEL                                                                                                               \n",
       "Braidwood                                                       35.3                                                \n",
       "Karabar                                                         24.5                                                \n",
       "Queanbeyan                                                      28.5                                                \n",
       "Queanbeyan - East                                               27.4                                                \n",
       "Queanbeyan Region                                               32.5                                                \n",
       "\n",
       "                   RELIGIOUS AFFILIATION Inadequately described or not stated   %  \\\n",
       "LABEL                                                                               \n",
       "Braidwood                                                       14.6                \n",
       "Karabar                                                          8.1                \n",
       "Queanbeyan                                                      10.5                \n",
       "Queanbeyan - East                                                9.2                \n",
       "Queanbeyan Region                                               12.2                \n",
       "\n",
       "                   AUSTRALIAN CITIZENSHIP Australian citizen  %  \\\n",
       "LABEL                                                             \n",
       "Braidwood                                                  85.0   \n",
       "Karabar                                                    89.7   \n",
       "Queanbeyan                                                 80.6   \n",
       "Queanbeyan - East                                          82.0   \n",
       "Queanbeyan Region                                          87.8   \n",
       "\n",
       "                   AUSTRALIAN CITIZENSHIP Not an Australian citizen  %  \\\n",
       "LABEL                                                                    \n",
       "Braidwood                                                        3.2     \n",
       "Karabar                                                          4.0     \n",
       "Queanbeyan                                                      11.2     \n",
       "Queanbeyan - East                                               11.4     \n",
       "Queanbeyan Region                                                2.6     \n",
       "\n",
       "                   AUSTRALIAN CITIZENSHIP Australian Citizenship - Not stated  %  \\\n",
       "LABEL                                                                              \n",
       "Braidwood                                                       11.7               \n",
       "Karabar                                                          6.2               \n",
       "Queanbeyan                                                       8.2               \n",
       "Queanbeyan - East                                                6.4               \n",
       "Queanbeyan Region                                                9.7               \n",
       "\n",
       "                   SPEAKS A LANGUAGE OTHER THAN ENGLISH AT HOME Proportion of total population  %  \\\n",
       "LABEL                                                                                               \n",
       "Braidwood                                                        3.4                                \n",
       "Karabar                                                         13.5                                \n",
       "Queanbeyan                                                      21.2                                \n",
       "Queanbeyan - East                                               20.4                                \n",
       "Queanbeyan Region                                                5.8                                \n",
       "\n",
       "                         lat        long  \n",
       "LABEL                                     \n",
       "Braidwood         -35.444450  149.799675  \n",
       "Karabar           -35.375943  149.232872  \n",
       "Queanbeyan        -35.352466  149.233725  \n",
       "Queanbeyan - East -35.345549  149.246507  \n",
       "Queanbeyan Region -35.352466  149.233725  \n",
       "\n",
       "[5 rows x 456 columns]"
      ]
     },
     "execution_count": 21,
     "metadata": {},
     "output_type": "execute_result"
    }
   ],
   "source": [
    "df.head()\n"
   ]
  },
  {
   "cell_type": "code",
   "execution_count": 23,
   "metadata": {},
   "outputs": [
    {
     "data": {
      "text/plain": [
       "(557, 456)"
      ]
     },
     "execution_count": 23,
     "metadata": {},
     "output_type": "execute_result"
    }
   ],
   "source": [
    "df.shape"
   ]
  },
  {
   "cell_type": "code",
   "execution_count": null,
   "metadata": {},
   "outputs": [],
   "source": []
  },
  {
   "cell_type": "code",
   "execution_count": null,
   "metadata": {},
   "outputs": [],
   "source": []
  },
  {
   "cell_type": "code",
   "execution_count": 24,
   "metadata": {},
   "outputs": [],
   "source": [
    "\n",
    "cycle_col = 'METHOD OF TRAVEL TO WORK - EMPLOYED PERSONS Used one method - Bicycle no.'\n",
    "y=df[cycle_col]\n",
    "y = y/df['HOUSEHOLDS BY TYPE Total households no.']"
   ]
  },
  {
   "cell_type": "code",
   "execution_count": 25,
   "metadata": {},
   "outputs": [
    {
     "data": {
      "text/plain": [
       "LABEL\n",
       "Badgerys Creek    2.202652\n",
       "dtype: float64"
      ]
     },
     "execution_count": 25,
     "metadata": {},
     "output_type": "execute_result"
    }
   ],
   "source": [
    "y[y>1]"
   ]
  },
  {
   "cell_type": "code",
   "execution_count": 26,
   "metadata": {},
   "outputs": [],
   "source": [
    "df = df[y<0.02]\n",
    "#df = df[y>0.02]\n",
    "y=df[cycle_col]\n",
    "y = y/df['HOUSEHOLDS BY TYPE Total households no.']\n",
    "X = df.drop([cycle_col], axis = 1)"
   ]
  },
  {
   "cell_type": "code",
   "execution_count": 35,
   "metadata": {},
   "outputs": [
    {
     "data": {
      "text/plain": [
       "array([2, 3, 3, 3, 2, 3, 3, 3, 2, 2, 3, 2, 3, 3, 2, 2, 2, 2, 2, 2, 2, 1,\n",
       "       2, 1, 1, 2, 2, 2, 2, 2, 2, 2, 2, 3, 2, 2, 2, 2, 2, 2, 2, 1, 2, 3,\n",
       "       2, 1, 2, 2, 1, 2, 2, 2, 3, 3, 1, 2, 2, 2, 2, 2, 2, 2, 2, 2, 2, 1,\n",
       "       2, 1, 1, 3, 2, 1, 3, 1, 3, 3, 3, 3, 2, 2, 2, 3, 2, 2, 3, 3, 2, 3,\n",
       "       2, 2, 2, 1, 2, 3, 2, 1, 2, 2, 1, 1, 2, 3, 2, 1, 2, 2, 2, 3, 2, 2,\n",
       "       2, 2, 2, 2, 2, 3, 2, 2, 2, 2, 2, 3, 2, 2, 2, 2, 2, 2, 2, 2, 2, 2,\n",
       "       2, 3, 3, 3, 2, 3, 3, 3, 3, 2, 3, 1, 3, 2, 2, 2, 3, 3, 2, 2, 3, 3,\n",
       "       1, 2, 2, 2, 2, 1, 1, 3, 3, 3, 2, 3, 3, 2, 3, 2, 2, 3, 2, 3, 3, 3,\n",
       "       2, 3, 2, 2, 1, 2, 2, 2, 2, 2, 2, 3, 3, 2, 2, 2, 2, 2, 3, 3, 2, 3,\n",
       "       2, 2, 2, 2, 1, 2, 2, 2, 1, 1, 3, 2, 3, 3, 3, 2, 3, 3, 2, 2, 3, 3,\n",
       "       3, 3, 2, 3, 2, 2, 3, 2, 3, 3, 2, 3, 3, 3, 2, 3, 3, 2, 3, 2, 2, 1,\n",
       "       3, 2, 3, 3, 3, 2, 3, 2, 2, 2, 2, 3, 3, 3, 2, 3, 3, 2, 1, 2, 1, 2,\n",
       "       2, 2, 2, 2, 1, 2, 2, 1, 2, 2, 2, 2, 2, 1, 1, 2, 2, 2, 2, 1, 2, 2,\n",
       "       2, 2, 2, 2, 2, 2, 2, 2, 2, 2, 1, 3, 2, 3, 3, 3, 3, 3, 2, 3, 3, 3,\n",
       "       4, 3, 2, 3, 2, 1, 2, 2, 2, 1, 2, 2, 2, 2, 3, 2, 1, 1, 1, 2, 2, 1,\n",
       "       2, 2, 1, 2, 3, 2, 2, 2, 2, 2, 2, 2, 3, 3, 3, 3, 3, 3, 3, 3, 3, 2,\n",
       "       3, 3, 3, 3, 3, 2, 2, 2, 2, 2, 2, 3, 3, 3, 2, 3, 3, 3, 3, 3, 3, 3,\n",
       "       3, 2, 2, 3, 3, 3, 3, 3, 3, 3, 3, 1, 2, 2, 1, 2, 2, 2, 2, 1, 1, 1,\n",
       "       2, 2, 1, 1, 3, 2, 2, 2, 2, 1, 2, 1, 2, 2, 2, 2, 1, 2, 2, 3, 2, 1,\n",
       "       2, 2, 2, 2, 3, 2, 2, 2, 2, 2, 2, 2, 3, 2, 2, 2, 2, 2, 1, 1, 2, 3,\n",
       "       2, 2, 2, 2, 2, 2, 2, 3, 2, 3, 3, 3, 3, 3, 3, 3, 3, 1, 1, 1, 1, 1,\n",
       "       1, 1, 1, 1, 1, 2, 2, 2, 1, 2, 2, 1, 2, 1, 2, 2, 3, 1, 1, 1, 3, 2,\n",
       "       2, 2, 2, 3, 2, 3, 2, 1, 2, 3, 3, 2], dtype=int64)"
      ]
     },
     "execution_count": 35,
     "metadata": {},
     "output_type": "execute_result"
    },
    {
     "data": {
      "image/png": "[encoded data removed]",
      "text/plain": [
       "<Figure size 432x288 with 1 Axes>"
      ]
     },
     "metadata": {
      "needs_background": "light"
     },
     "output_type": "display_data"
    }
   ],
   "source": [
    "bins     = np.geomspace(min(y), max(y), 4)\n",
    "y_binned = np.digitize(y, bins)\n",
    "y.hist()\n",
    "df.shape\n",
    "y_binned"
   ]
  },
  {
   "cell_type": "code",
   "execution_count": 38,
   "metadata": {},
   "outputs": [],
   "source": [
    "X_train, X_test, y_train, y_test = train_test_split(X, y, test_size = 0.2, random_state = 43)"
   ]
  },
  {
   "cell_type": "code",
   "execution_count": 39,
   "metadata": {},
   "outputs": [
    {
     "data": {
      "text/plain": [
       "AdaBoostRegressor(base_estimator=None, learning_rate=1.0, loss='linear',\n",
       "         n_estimators=50, random_state=None)"
      ]
     },
     "execution_count": 39,
     "metadata": {},
     "output_type": "execute_result"
    }
   ],
   "source": [
    "ada = AdaBoostRegressor()\n",
    "ada.fit(X_train, y_train)"
   ]
  },
  {
   "cell_type": "code",
   "execution_count": null,
   "metadata": {},
   "outputs": [],
   "source": []
  },
  {
   "cell_type": "code",
   "execution_count": 40,
   "metadata": {},
   "outputs": [
    {
     "data": {
      "text/plain": [
       "Text(0,0.5,'Actuals')"
      ]
     },
     "execution_count": 40,
     "metadata": {},
     "output_type": "execute_result"
    },
    {
     "data": {
      "image/png": "[encoded data removed]",
      "text/plain": [
       "<Figure size 432x288 with 1 Axes>"
      ]
     },
     "metadata": {
      "needs_background": "light"
     },
     "output_type": "display_data"
    }
   ],
   "source": [
    "y_pred = ada.predict(X_test)\n",
    "plt.scatter(y_pred, y_test)\n",
    "plt.xlabel('Predictions')\n",
    "plt.ylabel('Actuals')"
   ]
  },
  {
   "cell_type": "code",
   "execution_count": 41,
   "metadata": {},
   "outputs": [],
   "source": [
    "perm = eli5.sklearn.PermutationImportance(ada).fit(X_test, y_test)"
   ]
  },
  {
   "cell_type": "code",
   "execution_count": 42,
   "metadata": {},
   "outputs": [
    {
     "data": {
      "text/html": [
       "\n",
       "    <style>\n",
       "    table.eli5-weights tr:hover {\n",
       "        filter: brightness(85%);\n",
       "    }\n",
       "</style>\n",
       "\n",
       "\n",
       "\n",
       "    \n",
       "\n",
       "    \n",
       "\n",
       "    \n",
       "\n",
       "    \n",
       "\n",
       "    \n",
       "\n",
       "    \n",
       "\n",
       "\n",
       "    \n",
       "\n",
       "    \n",
       "\n",
       "    \n",
       "\n",
       "    \n",
       "\n",
       "    \n",
       "\n",
       "    \n",
       "\n",
       "\n",
       "    \n",
       "\n",
       "    \n",
       "\n",
       "    \n",
       "\n",
       "    \n",
       "\n",
       "    \n",
       "        <table class=\"eli5-weights eli5-feature-importances\" style=\"border-collapse: collapse; border: none; margin-top: 0em; table-layout: auto;\">\n",
       "    <thead>\n",
       "    <tr style=\"border: none;\">\n",
       "        <th style=\"padding: 0 1em 0 0.5em; text-align: right; border: none;\">Weight</th>\n",
       "        <th style=\"padding: 0 0.5em 0 0.5em; text-align: left; border: none;\">Feature</th>\n",
       "    </tr>\n",
       "    </thead>\n",
       "    <tbody>\n",
       "    \n",
       "        <tr style=\"background-color: hsl(120, 100.00%, 80.00%); border: none;\">\n",
       "            <td style=\"padding: 0 1em 0 0.5em; text-align: right; border: none;\">\n",
       "                0.0403\n",
       "                \n",
       "                    &plusmn; 0.0675\n",
       "                \n",
       "            </td>\n",
       "            <td style=\"padding: 0 0.5em 0 0.5em; text-align: left; border: none;\">\n",
       "                COMMUTING TO WORK Average commuting distance from Place of Usual Residence kms\n",
       "            </td>\n",
       "        </tr>\n",
       "    \n",
       "        <tr style=\"background-color: hsl(120, 100.00%, 82.94%); border: none;\">\n",
       "            <td style=\"padding: 0 1em 0 0.5em; text-align: right; border: none;\">\n",
       "                0.0321\n",
       "                \n",
       "                    &plusmn; 0.0137\n",
       "                \n",
       "            </td>\n",
       "            <td style=\"padding: 0 0.5em 0 0.5em; text-align: left; border: none;\">\n",
       "                COMMUTING TO WORK Median commuting distance from Place of Usual Residence kms\n",
       "            </td>\n",
       "        </tr>\n",
       "    \n",
       "        <tr style=\"background-color: hsl(120, 100.00%, 88.78%); border: none;\">\n",
       "            <td style=\"padding: 0 1em 0 0.5em; text-align: right; border: none;\">\n",
       "                0.0176\n",
       "                \n",
       "                    &plusmn; 0.0112\n",
       "                \n",
       "            </td>\n",
       "            <td style=\"padding: 0 0.5em 0 0.5em; text-align: left; border: none;\">\n",
       "                SOLAR INSTALLATIONS Increase in SWH installations from previous year %\n",
       "            </td>\n",
       "        </tr>\n",
       "    \n",
       "        <tr style=\"background-color: hsl(120, 100.00%, 90.90%); border: none;\">\n",
       "            <td style=\"padding: 0 1em 0 0.5em; text-align: right; border: none;\">\n",
       "                0.0131\n",
       "                \n",
       "                    &plusmn; 0.0054\n",
       "                \n",
       "            </td>\n",
       "            <td style=\"padding: 0 0.5em 0 0.5em; text-align: left; border: none;\">\n",
       "                TENURE TYPE Rented %\n",
       "            </td>\n",
       "        </tr>\n",
       "    \n",
       "        <tr style=\"background-color: hsl(120, 100.00%, 92.38%); border: none;\">\n",
       "            <td style=\"padding: 0 1em 0 0.5em; text-align: right; border: none;\">\n",
       "                0.0101\n",
       "                \n",
       "                    &plusmn; 0.0363\n",
       "                \n",
       "            </td>\n",
       "            <td style=\"padding: 0 0.5em 0 0.5em; text-align: left; border: none;\">\n",
       "                long\n",
       "            </td>\n",
       "        </tr>\n",
       "    \n",
       "        <tr style=\"background-color: hsl(120, 100.00%, 92.59%); border: none;\">\n",
       "            <td style=\"padding: 0 1em 0 0.5em; text-align: right; border: none;\">\n",
       "                0.0097\n",
       "                \n",
       "                    &plusmn; 0.0103\n",
       "                \n",
       "            </td>\n",
       "            <td style=\"padding: 0 0.5em 0 0.5em; text-align: left; border: none;\">\n",
       "                EMPLOYED BY INDUSTRY Retail Trade %\n",
       "            </td>\n",
       "        </tr>\n",
       "    \n",
       "        <tr style=\"background-color: hsl(120, 100.00%, 92.73%); border: none;\">\n",
       "            <td style=\"padding: 0 1em 0 0.5em; text-align: right; border: none;\">\n",
       "                0.0095\n",
       "                \n",
       "                    &plusmn; 0.0075\n",
       "                \n",
       "            </td>\n",
       "            <td style=\"padding: 0 0.5em 0 0.5em; text-align: left; border: none;\">\n",
       "                OVERSEAS BORN POPULATION (PROPORTION OF TOTAL POPULATION) Born in North-West Europe  %\n",
       "            </td>\n",
       "        </tr>\n",
       "    \n",
       "        <tr style=\"background-color: hsl(120, 100.00%, 93.60%); border: none;\">\n",
       "            <td style=\"padding: 0 1em 0 0.5em; text-align: right; border: none;\">\n",
       "                0.0079\n",
       "                \n",
       "                    &plusmn; 0.0314\n",
       "                \n",
       "            </td>\n",
       "            <td style=\"padding: 0 0.5em 0 0.5em; text-align: left; border: none;\">\n",
       "                HOUSEHOLDS BY TYPE Group households no.\n",
       "            </td>\n",
       "        </tr>\n",
       "    \n",
       "        <tr style=\"background-color: hsl(120, 100.00%, 93.84%); border: none;\">\n",
       "            <td style=\"padding: 0 1em 0 0.5em; text-align: right; border: none;\">\n",
       "                0.0075\n",
       "                \n",
       "                    &plusmn; 0.0048\n",
       "                \n",
       "            </td>\n",
       "            <td style=\"padding: 0 0.5em 0 0.5em; text-align: left; border: none;\">\n",
       "                HOUSING SUITABILITY Dwellings with extra bedrooms needed no.\n",
       "            </td>\n",
       "        </tr>\n",
       "    \n",
       "        <tr style=\"background-color: hsl(120, 100.00%, 94.61%); border: none;\">\n",
       "            <td style=\"padding: 0 1em 0 0.5em; text-align: right; border: none;\">\n",
       "                0.0062\n",
       "                \n",
       "                    &plusmn; 0.0099\n",
       "                \n",
       "            </td>\n",
       "            <td style=\"padding: 0 0.5em 0 0.5em; text-align: left; border: none;\">\n",
       "                METHOD OF TRAVEL TO WORK - EMPLOYED PERSONS Used one method - Motor bike/scooter no.\n",
       "            </td>\n",
       "        </tr>\n",
       "    \n",
       "        <tr style=\"background-color: hsl(120, 100.00%, 94.74%); border: none;\">\n",
       "            <td style=\"padding: 0 1em 0 0.5em; text-align: right; border: none;\">\n",
       "                0.0060\n",
       "                \n",
       "                    &plusmn; 0.0042\n",
       "                \n",
       "            </td>\n",
       "            <td style=\"padding: 0 0.5em 0 0.5em; text-align: left; border: none;\">\n",
       "                OCCUPATION OF PERSONS BORN OVERSEAS Machinery operators and drivers  %\n",
       "            </td>\n",
       "        </tr>\n",
       "    \n",
       "        <tr style=\"background-color: hsl(120, 100.00%, 94.80%); border: none;\">\n",
       "            <td style=\"padding: 0 1em 0 0.5em; text-align: right; border: none;\">\n",
       "                0.0059\n",
       "                \n",
       "                    &plusmn; 0.0066\n",
       "                \n",
       "            </td>\n",
       "            <td style=\"padding: 0 0.5em 0 0.5em; text-align: left; border: none;\">\n",
       "                COMMUTING TO WORK Median commuting distance to place of work kms\n",
       "            </td>\n",
       "        </tr>\n",
       "    \n",
       "        <tr style=\"background-color: hsl(120, 100.00%, 95.18%); border: none;\">\n",
       "            <td style=\"padding: 0 1em 0 0.5em; text-align: right; border: none;\">\n",
       "                0.0053\n",
       "                \n",
       "                    &plusmn; 0.0043\n",
       "                \n",
       "            </td>\n",
       "            <td style=\"padding: 0 0.5em 0 0.5em; text-align: left; border: none;\">\n",
       "                TENURE TYPE Owned with a mortgage %\n",
       "            </td>\n",
       "        </tr>\n",
       "    \n",
       "        <tr style=\"background-color: hsl(120, 100.00%, 95.44%); border: none;\">\n",
       "            <td style=\"padding: 0 1em 0 0.5em; text-align: right; border: none;\">\n",
       "                0.0049\n",
       "                \n",
       "                    &plusmn; 0.0061\n",
       "                \n",
       "            </td>\n",
       "            <td style=\"padding: 0 0.5em 0 0.5em; text-align: left; border: none;\">\n",
       "                RELIGIOUS AFFILIATION Secular Beliefs, Other Spiritual Beliefs and No Religious Affiliation  %\n",
       "            </td>\n",
       "        </tr>\n",
       "    \n",
       "        <tr style=\"background-color: hsl(120, 100.00%, 95.54%); border: none;\">\n",
       "            <td style=\"padding: 0 1em 0 0.5em; text-align: right; border: none;\">\n",
       "                0.0047\n",
       "                \n",
       "                    &plusmn; 0.0045\n",
       "                \n",
       "            </td>\n",
       "            <td style=\"padding: 0 0.5em 0 0.5em; text-align: left; border: none;\">\n",
       "                EMPLOYED BY INDUSTRY Health Care &amp; Social Assistance %\n",
       "            </td>\n",
       "        </tr>\n",
       "    \n",
       "        <tr style=\"background-color: hsl(120, 100.00%, 95.67%); border: none;\">\n",
       "            <td style=\"padding: 0 1em 0 0.5em; text-align: right; border: none;\">\n",
       "                0.0045\n",
       "                \n",
       "                    &plusmn; 0.0266\n",
       "                \n",
       "            </td>\n",
       "            <td style=\"padding: 0 0.5em 0 0.5em; text-align: left; border: none;\">\n",
       "                NUMBER OF BUSINESSES BY INDUSTRY Arts &amp; Recreation Services no.\n",
       "            </td>\n",
       "        </tr>\n",
       "    \n",
       "        <tr style=\"background-color: hsl(120, 100.00%, 95.70%); border: none;\">\n",
       "            <td style=\"padding: 0 1em 0 0.5em; text-align: right; border: none;\">\n",
       "                0.0045\n",
       "                \n",
       "                    &plusmn; 0.0065\n",
       "                \n",
       "            </td>\n",
       "            <td style=\"padding: 0 0.5em 0 0.5em; text-align: left; border: none;\">\n",
       "                YEAR OF ARRIVAL OF PERSONS BORN OVERSEAS Arrived 5-10 years ago  %\n",
       "            </td>\n",
       "        </tr>\n",
       "    \n",
       "        <tr style=\"background-color: hsl(120, 100.00%, 95.84%); border: none;\">\n",
       "            <td style=\"padding: 0 1em 0 0.5em; text-align: right; border: none;\">\n",
       "                0.0043\n",
       "                \n",
       "                    &plusmn; 0.0028\n",
       "                \n",
       "            </td>\n",
       "            <td style=\"padding: 0 0.5em 0 0.5em; text-align: left; border: none;\">\n",
       "                TOTAL PERSONAL INCOME (WEEKLY) OF PERSONS BORN OVERSEAS, 15 YEARS AND OVER Persons earning $3000 or more per week  %\n",
       "            </td>\n",
       "        </tr>\n",
       "    \n",
       "        <tr style=\"background-color: hsl(120, 100.00%, 95.96%); border: none;\">\n",
       "            <td style=\"padding: 0 1em 0 0.5em; text-align: right; border: none;\">\n",
       "                0.0041\n",
       "                \n",
       "                    &plusmn; 0.0028\n",
       "                \n",
       "            </td>\n",
       "            <td style=\"padding: 0 0.5em 0 0.5em; text-align: left; border: none;\">\n",
       "                SOCIAL MARITAL STATUS &amp; REGISTERED MARITAL STATUS Divorced %\n",
       "            </td>\n",
       "        </tr>\n",
       "    \n",
       "        <tr style=\"background-color: hsl(120, 100.00%, 96.20%); border: none;\">\n",
       "            <td style=\"padding: 0 1em 0 0.5em; text-align: right; border: none;\">\n",
       "                0.0038\n",
       "                \n",
       "                    &plusmn; 0.0042\n",
       "                \n",
       "            </td>\n",
       "            <td style=\"padding: 0 0.5em 0 0.5em; text-align: left; border: none;\">\n",
       "                DWELLING STRUCTURE Flat or apartment  no.\n",
       "            </td>\n",
       "        </tr>\n",
       "    \n",
       "    \n",
       "        \n",
       "            <tr style=\"background-color: hsl(120, 100.00%, 96.20%); border: none;\">\n",
       "                <td colspan=\"2\" style=\"padding: 0 0.5em 0 0.5em; text-align: center; border: none; white-space: nowrap;\">\n",
       "                    <i>&hellip; 435 more &hellip;</i>\n",
       "                </td>\n",
       "            </tr>\n",
       "        \n",
       "    \n",
       "    </tbody>\n",
       "</table>\n",
       "    \n",
       "\n",
       "    \n",
       "\n",
       "\n",
       "    \n",
       "\n",
       "    \n",
       "\n",
       "    \n",
       "\n",
       "    \n",
       "\n",
       "    \n",
       "\n",
       "    \n",
       "\n",
       "\n",
       "\n"
      ],
      "text/plain": [
       "<IPython.core.display.HTML object>"
      ]
     },
     "execution_count": 42,
     "metadata": {},
     "output_type": "execute_result"
    }
   ],
   "source": [
    "eli5.show_weights(perm, feature_names = X.columns.tolist())"
   ]
  },
  {
   "cell_type": "code",
   "execution_count": 44,
   "metadata": {},
   "outputs": [
    {
     "data": {
      "text/plain": [
       "0.3667987022569045"
      ]
     },
     "execution_count": 44,
     "metadata": {},
     "output_type": "execute_result"
    }
   ],
   "source": [
    "r2_score(y_test, y_pred)\n"
   ]
  },
  {
   "cell_type": "code",
   "execution_count": 49,
   "metadata": {},
   "outputs": [],
   "source": [
    "paramgrid = {'n_estimators': [50, 100, 1000],\n",
    "             'learning_rate':[0.01,0.1,1]\n",
    "            }\n",
    "\n",
    "gb = GridSearchCV(AdaBoostRegressor(), param_grid = paramgrid, verbose = 2)"
   ]
  },
  {
   "cell_type": "code",
   "execution_count": 46,
   "metadata": {},
   "outputs": [
    {
     "name": "stderr",
     "output_type": "stream",
     "text": [
      "C:\\Users\\chris\\Anaconda3\\lib\\site-packages\\sklearn\\model_selection\\_split.py:1943: FutureWarning: You should specify a value for 'cv' instead of relying on the default value. The default value will change from 3 to 5 in version 0.22.\n",
      "  warnings.warn(CV_WARNING, FutureWarning)\n"
     ]
    },
    {
     "data": {
      "text/plain": [
       "GridSearchCV(cv='warn', error_score='raise-deprecating',\n",
       "       estimator=AdaBoostRegressor(base_estimator=None, learning_rate=1.0, loss='linear',\n",
       "         n_estimators=50, random_state=None),\n",
       "       fit_params=None, iid='warn', n_jobs=None,\n",
       "       param_grid={'learning_rate': [0.01, 0.1, 1], 'n_estimators': [50, 100, 1000]},\n",
       "       pre_dispatch='2*n_jobs', refit=True, return_train_score='warn',\n",
       "       scoring=None, verbose=0)"
      ]
     },
     "execution_count": 46,
     "metadata": {},
     "output_type": "execute_result"
    }
   ],
   "source": [
    "#ada.get_params().keys()\n",
    "gb.fit(X_train, y_train)"
   ]
  },
  {
   "cell_type": "code",
   "execution_count": 47,
   "metadata": {},
   "outputs": [
    {
     "data": {
      "text/plain": [
       "Text(0,0.5,'Actuals')"
      ]
     },
     "execution_count": 47,
     "metadata": {},
     "output_type": "execute_result"
    },
    {
     "data": {
      "image/png": "[encoded data removed]",
      "text/plain": [
       "<Figure size 432x288 with 1 Axes>"
      ]
     },
     "metadata": {
      "needs_background": "light"
     },
     "output_type": "display_data"
    }
   ],
   "source": [
    "y_pred = gb.predict(X_test)\n",
    "plt.scatter(y_pred, y_test)\n",
    "plt.xlabel('Predictions')\n",
    "plt.ylabel('Actuals')"
   ]
  },
  {
   "cell_type": "code",
   "execution_count": 48,
   "metadata": {},
   "outputs": [
    {
     "data": {
      "text/plain": [
       "0.4076373143559462"
      ]
     },
     "execution_count": 48,
     "metadata": {},
     "output_type": "execute_result"
    }
   ],
   "source": [
    "r2_score(y_test, y_pred)\n"
   ]
  },
  {
   "cell_type": "code",
   "execution_count": 89,
   "metadata": {},
   "outputs": [
    {
     "data": {
      "text/plain": [
       "{'learning_rate': 1, 'n_estimators': 100}"
      ]
     },
     "execution_count": 89,
     "metadata": {},
     "output_type": "execute_result"
    }
   ],
   "source": [
    "gb.best_params_"
   ]
  },
  {
   "cell_type": "code",
   "execution_count": null,
   "metadata": {},
   "outputs": [],
   "source": []
  }
 ],
 "metadata": {
  "kernelspec": {
   "display_name": "Python 3",
   "language": "python",
   "name": "python3"
  },
  "language_info": {
   "codemirror_mode": {
    "name": "ipython",
    "version": 3
   },
   "file_extension": ".py",
   "mimetype": "text/x-python",
   "name": "python",
   "nbconvert_exporter": "python",
   "pygments_lexer": "ipython3",
   "version": "3.5.6"
  }
 },
 "nbformat": 4,
 "nbformat_minor": 2
}
