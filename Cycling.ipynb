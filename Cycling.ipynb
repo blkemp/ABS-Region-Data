{
 "cells": [
  {
   "cell_type": "code",
   "execution_count": 3,
   "metadata": {},
   "outputs": [
    {
     "data": {
      "text/plain": [
       "<module 'cleanfunc' from 'C:\\\\Users\\\\cartechr\\\\OneDrive - Mars Inc\\\\GitHub\\\\ABS-Region-Data\\\\cleanfunc.py'>"
      ]
     },
     "execution_count": 3,
     "metadata": {},
     "output_type": "execute_result"
    }
   ],
   "source": [
    "import importlib\n",
    "import numpy as np\n",
    "import pandas as pd\n",
    "import matplotlib.pyplot as plt\n",
    "from sklearn.linear_model import LinearRegression\n",
    "from sklearn.model_selection import train_test_split\n",
    "from sklearn.metrics import r2_score, mean_squared_error\n",
    "import seaborn as sns\n",
    "import os\n",
    "from textwrap import wrap\n",
    "from sklearn.preprocessing import MinMaxScaler\n",
    "from sklearn.ensemble import RandomForestRegressor\n",
    "import eli5\n",
    "import cleanfunc\n",
    "import re\n",
    "importlib.reload(cleanfunc)\n"
   ]
  },
  {
   "cell_type": "code",
   "execution_count": 4,
   "metadata": {},
   "outputs": [
    {
     "name": "stderr",
     "output_type": "stream",
     "text": [
      "C:\\Users\\cartechr\\AppData\\Local\\Continuum\\anaconda3\\lib\\site-packages\\IPython\\core\\interactiveshell.py:2903: DtypeWarning: Columns (0) have mixed types. Specify dtype option on import or set low_memory=False.\n",
      "  if self.run_code(code, result):\n",
      "C:\\Users\\cartechr\\AppData\\Local\\Continuum\\anaconda3\\lib\\site-packages\\pandas\\core\\indexing.py:543: SettingWithCopyWarning: \n",
      "A value is trying to be set on a copy of a slice from a DataFrame.\n",
      "Try using .loc[row_indexer,col_indexer] = value instead\n",
      "\n",
      "See the caveats in the documentation: http://pandas.pydata.org/pandas-docs/stable/indexing.html#indexing-view-versus-copy\n",
      "  self.obj[item] = s\n",
      "C:\\Users\\cartechr\\AppData\\Local\\Continuum\\anaconda3\\lib\\site-packages\\pandas\\core\\generic.py:5430: SettingWithCopyWarning: \n",
      "A value is trying to be set on a copy of a slice from a DataFrame\n",
      "\n",
      "See the caveats in the documentation: http://pandas.pydata.org/pandas-docs/stable/indexing.html#indexing-view-versus-copy\n",
      "  self._update_inplace(new_data)\n"
     ]
    }
   ],
   "source": [
    "df = cleanfunc.load_merge_clean()"
   ]
  },
  {
   "cell_type": "code",
   "execution_count": 5,
   "metadata": {},
   "outputs": [
    {
     "data": {
      "text/html": [
       "<div>\n",
       "<style scoped>\n",
       "    .dataframe tbody tr th:only-of-type {\n",
       "        vertical-align: middle;\n",
       "    }\n",
       "\n",
       "    .dataframe tbody tr th {\n",
       "        vertical-align: top;\n",
       "    }\n",
       "\n",
       "    .dataframe thead th {\n",
       "        text-align: right;\n",
       "    }\n",
       "</style>\n",
       "<table border=\"1\" class=\"dataframe\">\n",
       "  <thead>\n",
       "    <tr style=\"text-align: right;\">\n",
       "      <th></th>\n",
       "      <th></th>\n",
       "      <th>NUMBER OF BUSINESSES Number of non-employing businesses no.</th>\n",
       "      <th>NUMBER OF BUSINESSES 1-4 employees no.</th>\n",
       "      <th>NUMBER OF BUSINESSES 5-19 employees no.</th>\n",
       "      <th>NUMBER OF BUSINESSES 20 or more employees no.</th>\n",
       "      <th>NUMBER OF BUSINESSES Total number of businesses no.</th>\n",
       "      <th>BUSINESS ENTRIES Number of non-employing business entries  no.</th>\n",
       "      <th>BUSINESS ENTRIES 1-4 employees no.</th>\n",
       "      <th>BUSINESS ENTRIES 5-19 employees no.</th>\n",
       "      <th>BUSINESS ENTRIES 20 or more employees no.</th>\n",
       "      <th>BUSINESS ENTRIES Total number of business entries no.</th>\n",
       "      <th>...</th>\n",
       "      <th>RELIGIOUS AFFILIATION Hinduism   %</th>\n",
       "      <th>RELIGIOUS AFFILIATION Islam  %</th>\n",
       "      <th>RELIGIOUS AFFILIATION Judaism   %</th>\n",
       "      <th>RELIGIOUS AFFILIATION Other Religions   %</th>\n",
       "      <th>RELIGIOUS AFFILIATION Secular Beliefs, Other Spiritual Beliefs and No Religious Affiliation  %</th>\n",
       "      <th>RELIGIOUS AFFILIATION Inadequately described or not stated   %</th>\n",
       "      <th>AUSTRALIAN CITIZENSHIP Australian citizen  %</th>\n",
       "      <th>AUSTRALIAN CITIZENSHIP Not an Australian citizen  %</th>\n",
       "      <th>AUSTRALIAN CITIZENSHIP Australian Citizenship - Not stated  %</th>\n",
       "      <th>SPEAKS A LANGUAGE OTHER THAN ENGLISH AT HOME Proportion of total population  %</th>\n",
       "    </tr>\n",
       "    <tr>\n",
       "      <th>CODE</th>\n",
       "      <th>LABEL</th>\n",
       "      <th></th>\n",
       "      <th></th>\n",
       "      <th></th>\n",
       "      <th></th>\n",
       "      <th></th>\n",
       "      <th></th>\n",
       "      <th></th>\n",
       "      <th></th>\n",
       "      <th></th>\n",
       "      <th></th>\n",
       "      <th></th>\n",
       "      <th></th>\n",
       "      <th></th>\n",
       "      <th></th>\n",
       "      <th></th>\n",
       "      <th></th>\n",
       "      <th></th>\n",
       "      <th></th>\n",
       "      <th></th>\n",
       "      <th></th>\n",
       "      <th></th>\n",
       "    </tr>\n",
       "  </thead>\n",
       "  <tbody>\n",
       "    <tr>\n",
       "      <th>101021007</th>\n",
       "      <th>Braidwood</th>\n",
       "      <td>404.0</td>\n",
       "      <td>149.0</td>\n",
       "      <td>33.0</td>\n",
       "      <td>3.0</td>\n",
       "      <td>589.0</td>\n",
       "      <td>42.0</td>\n",
       "      <td>15.0</td>\n",
       "      <td>6.550351</td>\n",
       "      <td>3.855263</td>\n",
       "      <td>52.0</td>\n",
       "      <td>...</td>\n",
       "      <td>1.984069</td>\n",
       "      <td>3.172277</td>\n",
       "      <td>0.748598</td>\n",
       "      <td>0.5</td>\n",
       "      <td>35.3</td>\n",
       "      <td>14.6</td>\n",
       "      <td>85.0</td>\n",
       "      <td>3.2</td>\n",
       "      <td>11.7</td>\n",
       "      <td>3.4</td>\n",
       "    </tr>\n",
       "    <tr>\n",
       "      <th>101021008</th>\n",
       "      <th>Karabar</th>\n",
       "      <td>209.0</td>\n",
       "      <td>106.0</td>\n",
       "      <td>17.0</td>\n",
       "      <td>3.0</td>\n",
       "      <td>335.0</td>\n",
       "      <td>25.0</td>\n",
       "      <td>19.0</td>\n",
       "      <td>6.550351</td>\n",
       "      <td>3.855263</td>\n",
       "      <td>38.0</td>\n",
       "      <td>...</td>\n",
       "      <td>0.700000</td>\n",
       "      <td>0.700000</td>\n",
       "      <td>0.748598</td>\n",
       "      <td>0.8</td>\n",
       "      <td>24.5</td>\n",
       "      <td>8.1</td>\n",
       "      <td>89.7</td>\n",
       "      <td>4.0</td>\n",
       "      <td>6.2</td>\n",
       "      <td>13.5</td>\n",
       "    </tr>\n",
       "    <tr>\n",
       "      <th>101021009</th>\n",
       "      <th>Queanbeyan</th>\n",
       "      <td>402.0</td>\n",
       "      <td>193.0</td>\n",
       "      <td>89.0</td>\n",
       "      <td>27.0</td>\n",
       "      <td>712.0</td>\n",
       "      <td>75.0</td>\n",
       "      <td>32.0</td>\n",
       "      <td>5.000000</td>\n",
       "      <td>3.855263</td>\n",
       "      <td>111.0</td>\n",
       "      <td>...</td>\n",
       "      <td>3.100000</td>\n",
       "      <td>2.400000</td>\n",
       "      <td>0.100000</td>\n",
       "      <td>2.1</td>\n",
       "      <td>28.5</td>\n",
       "      <td>10.5</td>\n",
       "      <td>80.6</td>\n",
       "      <td>11.2</td>\n",
       "      <td>8.2</td>\n",
       "      <td>21.2</td>\n",
       "    </tr>\n",
       "    <tr>\n",
       "      <th>101021010</th>\n",
       "      <th>Queanbeyan - East</th>\n",
       "      <td>292.0</td>\n",
       "      <td>144.0</td>\n",
       "      <td>90.0</td>\n",
       "      <td>24.0</td>\n",
       "      <td>554.0</td>\n",
       "      <td>39.0</td>\n",
       "      <td>23.0</td>\n",
       "      <td>4.000000</td>\n",
       "      <td>3.855263</td>\n",
       "      <td>67.0</td>\n",
       "      <td>...</td>\n",
       "      <td>3.200000</td>\n",
       "      <td>3.900000</td>\n",
       "      <td>0.200000</td>\n",
       "      <td>2.6</td>\n",
       "      <td>27.4</td>\n",
       "      <td>9.2</td>\n",
       "      <td>82.0</td>\n",
       "      <td>11.4</td>\n",
       "      <td>6.4</td>\n",
       "      <td>20.4</td>\n",
       "    </tr>\n",
       "    <tr>\n",
       "      <th>101021011</th>\n",
       "      <th>Queanbeyan Region</th>\n",
       "      <td>915.0</td>\n",
       "      <td>487.0</td>\n",
       "      <td>119.0</td>\n",
       "      <td>9.0</td>\n",
       "      <td>1526.0</td>\n",
       "      <td>149.0</td>\n",
       "      <td>50.0</td>\n",
       "      <td>3.000000</td>\n",
       "      <td>3.855263</td>\n",
       "      <td>202.0</td>\n",
       "      <td>...</td>\n",
       "      <td>0.300000</td>\n",
       "      <td>0.200000</td>\n",
       "      <td>0.748598</td>\n",
       "      <td>0.6</td>\n",
       "      <td>32.5</td>\n",
       "      <td>12.2</td>\n",
       "      <td>87.8</td>\n",
       "      <td>2.6</td>\n",
       "      <td>9.7</td>\n",
       "      <td>5.8</td>\n",
       "    </tr>\n",
       "  </tbody>\n",
       "</table>\n",
       "<p>5 rows × 454 columns</p>\n",
       "</div>"
      ],
      "text/plain": [
       "                             NUMBER OF BUSINESSES Number of non-employing businesses no.  \\\n",
       "CODE      LABEL                                                                            \n",
       "101021007 Braidwood                                                      404.0             \n",
       "101021008 Karabar                                                        209.0             \n",
       "101021009 Queanbeyan                                                     402.0             \n",
       "101021010 Queanbeyan - East                                              292.0             \n",
       "101021011 Queanbeyan Region                                              915.0             \n",
       "\n",
       "                             NUMBER OF BUSINESSES 1-4 employees no.  \\\n",
       "CODE      LABEL                                                       \n",
       "101021007 Braidwood                                           149.0   \n",
       "101021008 Karabar                                             106.0   \n",
       "101021009 Queanbeyan                                          193.0   \n",
       "101021010 Queanbeyan - East                                   144.0   \n",
       "101021011 Queanbeyan Region                                   487.0   \n",
       "\n",
       "                             NUMBER OF BUSINESSES 5-19 employees no.  \\\n",
       "CODE      LABEL                                                        \n",
       "101021007 Braidwood                                             33.0   \n",
       "101021008 Karabar                                               17.0   \n",
       "101021009 Queanbeyan                                            89.0   \n",
       "101021010 Queanbeyan - East                                     90.0   \n",
       "101021011 Queanbeyan Region                                    119.0   \n",
       "\n",
       "                             NUMBER OF BUSINESSES 20 or more employees no.  \\\n",
       "CODE      LABEL                                                              \n",
       "101021007 Braidwood                                                    3.0   \n",
       "101021008 Karabar                                                      3.0   \n",
       "101021009 Queanbeyan                                                  27.0   \n",
       "101021010 Queanbeyan - East                                           24.0   \n",
       "101021011 Queanbeyan Region                                            9.0   \n",
       "\n",
       "                             NUMBER OF BUSINESSES Total number of businesses no.  \\\n",
       "CODE      LABEL                                                                    \n",
       "101021007 Braidwood                                                      589.0     \n",
       "101021008 Karabar                                                        335.0     \n",
       "101021009 Queanbeyan                                                     712.0     \n",
       "101021010 Queanbeyan - East                                              554.0     \n",
       "101021011 Queanbeyan Region                                             1526.0     \n",
       "\n",
       "                             BUSINESS ENTRIES Number of non-employing business entries  no.  \\\n",
       "CODE      LABEL                                                                               \n",
       "101021007 Braidwood                                                       42.0                \n",
       "101021008 Karabar                                                         25.0                \n",
       "101021009 Queanbeyan                                                      75.0                \n",
       "101021010 Queanbeyan - East                                               39.0                \n",
       "101021011 Queanbeyan Region                                              149.0                \n",
       "\n",
       "                             BUSINESS ENTRIES 1-4 employees no.  \\\n",
       "CODE      LABEL                                                   \n",
       "101021007 Braidwood                                        15.0   \n",
       "101021008 Karabar                                          19.0   \n",
       "101021009 Queanbeyan                                       32.0   \n",
       "101021010 Queanbeyan - East                                23.0   \n",
       "101021011 Queanbeyan Region                                50.0   \n",
       "\n",
       "                             BUSINESS ENTRIES 5-19 employees no.  \\\n",
       "CODE      LABEL                                                    \n",
       "101021007 Braidwood                                     6.550351   \n",
       "101021008 Karabar                                       6.550351   \n",
       "101021009 Queanbeyan                                    5.000000   \n",
       "101021010 Queanbeyan - East                             4.000000   \n",
       "101021011 Queanbeyan Region                             3.000000   \n",
       "\n",
       "                             BUSINESS ENTRIES 20 or more employees no.  \\\n",
       "CODE      LABEL                                                          \n",
       "101021007 Braidwood                                           3.855263   \n",
       "101021008 Karabar                                             3.855263   \n",
       "101021009 Queanbeyan                                          3.855263   \n",
       "101021010 Queanbeyan - East                                   3.855263   \n",
       "101021011 Queanbeyan Region                                   3.855263   \n",
       "\n",
       "                             BUSINESS ENTRIES Total number of business entries no.  \\\n",
       "CODE      LABEL                                                                      \n",
       "101021007 Braidwood                                                       52.0       \n",
       "101021008 Karabar                                                         38.0       \n",
       "101021009 Queanbeyan                                                     111.0       \n",
       "101021010 Queanbeyan - East                                               67.0       \n",
       "101021011 Queanbeyan Region                                              202.0       \n",
       "\n",
       "                                                                  ...                                        \\\n",
       "CODE      LABEL                                                   ...                                         \n",
       "101021007 Braidwood                                               ...                                         \n",
       "101021008 Karabar                                                 ...                                         \n",
       "101021009 Queanbeyan                                              ...                                         \n",
       "101021010 Queanbeyan - East                                       ...                                         \n",
       "101021011 Queanbeyan Region                                       ...                                         \n",
       "\n",
       "                             RELIGIOUS AFFILIATION Hinduism   %  \\\n",
       "CODE      LABEL                                                   \n",
       "101021007 Braidwood                                    1.984069   \n",
       "101021008 Karabar                                      0.700000   \n",
       "101021009 Queanbeyan                                   3.100000   \n",
       "101021010 Queanbeyan - East                            3.200000   \n",
       "101021011 Queanbeyan Region                            0.300000   \n",
       "\n",
       "                             RELIGIOUS AFFILIATION Islam  %  \\\n",
       "CODE      LABEL                                               \n",
       "101021007 Braidwood                                3.172277   \n",
       "101021008 Karabar                                  0.700000   \n",
       "101021009 Queanbeyan                               2.400000   \n",
       "101021010 Queanbeyan - East                        3.900000   \n",
       "101021011 Queanbeyan Region                        0.200000   \n",
       "\n",
       "                             RELIGIOUS AFFILIATION Judaism   %  \\\n",
       "CODE      LABEL                                                  \n",
       "101021007 Braidwood                                   0.748598   \n",
       "101021008 Karabar                                     0.748598   \n",
       "101021009 Queanbeyan                                  0.100000   \n",
       "101021010 Queanbeyan - East                           0.200000   \n",
       "101021011 Queanbeyan Region                           0.748598   \n",
       "\n",
       "                             RELIGIOUS AFFILIATION Other Religions   %  \\\n",
       "CODE      LABEL                                                          \n",
       "101021007 Braidwood                                                0.5   \n",
       "101021008 Karabar                                                  0.8   \n",
       "101021009 Queanbeyan                                               2.1   \n",
       "101021010 Queanbeyan - East                                        2.6   \n",
       "101021011 Queanbeyan Region                                        0.6   \n",
       "\n",
       "                             RELIGIOUS AFFILIATION Secular Beliefs, Other Spiritual Beliefs and No Religious Affiliation  %  \\\n",
       "CODE      LABEL                                                                                                               \n",
       "101021007 Braidwood                                                       35.3                                                \n",
       "101021008 Karabar                                                         24.5                                                \n",
       "101021009 Queanbeyan                                                      28.5                                                \n",
       "101021010 Queanbeyan - East                                               27.4                                                \n",
       "101021011 Queanbeyan Region                                               32.5                                                \n",
       "\n",
       "                             RELIGIOUS AFFILIATION Inadequately described or not stated   %  \\\n",
       "CODE      LABEL                                                                               \n",
       "101021007 Braidwood                                                       14.6                \n",
       "101021008 Karabar                                                          8.1                \n",
       "101021009 Queanbeyan                                                      10.5                \n",
       "101021010 Queanbeyan - East                                                9.2                \n",
       "101021011 Queanbeyan Region                                               12.2                \n",
       "\n",
       "                             AUSTRALIAN CITIZENSHIP Australian citizen  %  \\\n",
       "CODE      LABEL                                                             \n",
       "101021007 Braidwood                                                  85.0   \n",
       "101021008 Karabar                                                    89.7   \n",
       "101021009 Queanbeyan                                                 80.6   \n",
       "101021010 Queanbeyan - East                                          82.0   \n",
       "101021011 Queanbeyan Region                                          87.8   \n",
       "\n",
       "                             AUSTRALIAN CITIZENSHIP Not an Australian citizen  %  \\\n",
       "CODE      LABEL                                                                    \n",
       "101021007 Braidwood                                                        3.2     \n",
       "101021008 Karabar                                                          4.0     \n",
       "101021009 Queanbeyan                                                      11.2     \n",
       "101021010 Queanbeyan - East                                               11.4     \n",
       "101021011 Queanbeyan Region                                                2.6     \n",
       "\n",
       "                             AUSTRALIAN CITIZENSHIP Australian Citizenship - Not stated  %  \\\n",
       "CODE      LABEL                                                                              \n",
       "101021007 Braidwood                                                       11.7               \n",
       "101021008 Karabar                                                          6.2               \n",
       "101021009 Queanbeyan                                                       8.2               \n",
       "101021010 Queanbeyan - East                                                6.4               \n",
       "101021011 Queanbeyan Region                                                9.7               \n",
       "\n",
       "                             SPEAKS A LANGUAGE OTHER THAN ENGLISH AT HOME Proportion of total population  %  \n",
       "CODE      LABEL                                                                                              \n",
       "101021007 Braidwood                                                        3.4                               \n",
       "101021008 Karabar                                                         13.5                               \n",
       "101021009 Queanbeyan                                                      21.2                               \n",
       "101021010 Queanbeyan - East                                               20.4                               \n",
       "101021011 Queanbeyan Region                                                5.8                               \n",
       "\n",
       "[5 rows x 454 columns]"
      ]
     },
     "execution_count": 5,
     "metadata": {},
     "output_type": "execute_result"
    }
   ],
   "source": [
    "df.head()\n"
   ]
  },
  {
   "cell_type": "code",
   "execution_count": null,
   "metadata": {},
   "outputs": [],
   "source": [
    "cycle_col = 'METHOD OF TRAVEL TO WORK - EMPLOYED PERSONS Used one method - Bicycle no.'"
   ]
  },
  {
   "cell_type": "code",
   "execution_count": null,
   "metadata": {},
   "outputs": [],
   "source": [
    "y=df[cycle_col]\n",
    "y = y/df['HOUSEHOLDS BY TYPE Total households no.']"
   ]
  },
  {
   "cell_type": "code",
   "execution_count": null,
   "metadata": {},
   "outputs": [],
   "source": [
    "y[y>1]"
   ]
  },
  {
   "cell_type": "code",
   "execution_count": null,
   "metadata": {},
   "outputs": [],
   "source": [
    "X = df.drop([cycle_col], axis = 1)"
   ]
  },
  {
   "cell_type": "code",
   "execution_count": null,
   "metadata": {},
   "outputs": [],
   "source": []
  },
  {
   "cell_type": "code",
   "execution_count": null,
   "metadata": {},
   "outputs": [],
   "source": [
    "X_train, X_test, y_train, y_test = train_test_split(X, y, test_size = 0.2, random_state = 43)"
   ]
  },
  {
   "cell_type": "code",
   "execution_count": null,
   "metadata": {},
   "outputs": [],
   "source": [
    "rf = RandomForestRegressor()\n",
    "rf.fit(X_train, y_train)"
   ]
  },
  {
   "cell_type": "code",
   "execution_count": null,
   "metadata": {},
   "outputs": [],
   "source": [
    "y_pred = rf.predict(X_test)"
   ]
  },
  {
   "cell_type": "code",
   "execution_count": null,
   "metadata": {},
   "outputs": [],
   "source": [
    "\n",
    "plt.scatter(y_pred, y_test)\n",
    "plt.xlabel('Predictions')\n",
    "plt.ylabel('Actuals')"
   ]
  },
  {
   "cell_type": "code",
   "execution_count": null,
   "metadata": {},
   "outputs": [],
   "source": [
    "perm = eli5.sklearn.PermutationImportance(rf).fit(X_test, y_test)"
   ]
  },
  {
   "cell_type": "code",
   "execution_count": null,
   "metadata": {},
   "outputs": [],
   "source": [
    "eli5.show_weights(perm)"
   ]
  },
  {
   "cell_type": "code",
   "execution_count": null,
   "metadata": {},
   "outputs": [],
   "source": [
    "print(X.columns[148])\n",
    "print(X.columns[174])\n",
    "print(X.columns[141])\n"
   ]
  },
  {
   "cell_type": "code",
   "execution_count": null,
   "metadata": {},
   "outputs": [],
   "source": []
  },
  {
   "cell_type": "code",
   "execution_count": null,
   "metadata": {},
   "outputs": [],
   "source": [
    "import geocoder\n",
    "g = geocoder.osm('Badgerys Creek')\n",
    "\n"
   ]
  },
  {
   "cell_type": "code",
   "execution_count": null,
   "metadata": {},
   "outputs": [],
   "source": [
    "print(g)\n",
    "print(g.latlng[0])\n",
    "print(g.latlng[1])"
   ]
  },
  {
   "cell_type": "code",
   "execution_count": null,
   "metadata": {},
   "outputs": [],
   "source": [
    "addresses = X.index.levels[1].tolist()"
   ]
  },
  {
   "cell_type": "code",
   "execution_count": null,
   "metadata": {},
   "outputs": [],
   "source": [
    "lat = []\n",
    "lng = []\n",
    "for address in addresses:\n",
    "    address = re.sub('Region', '', address)\n",
    "    try:\n",
    "        callstr = address\n",
    "        print(callstr)\n",
    "        g = geocoder.osm(callstr)\n",
    "        assert g.country == 'Australia'\n",
    "        lat.append(g.latlng[0])\n",
    "        lng.append(g.latlng[1])\n",
    "        print(g)\n",
    "        continue\n",
    "    except:\n",
    "        pass\n",
    "    \n",
    "    try:\n",
    "        callstr = address.split('-', 1)[0]+' Australia'\n",
    "        print(callstr)\n",
    "        g = geocoder.osm(callstr)\n",
    "        assert g.country == 'Australia'\n",
    "        lat.append(g.latlng[0])\n",
    "        lng.append(g.latlng[1])\n",
    "        print(g)\n",
    "        continue\n",
    "    except:\n",
    "        pass\n",
    "    \n",
    "    try:\n",
    "        callstr = address.split(' ', 1)[0]+' Australia'\n",
    "        print(callstr)\n",
    "        g = geocoder.osm(callstr)\n",
    "        assert g.country == 'Australia'\n",
    "        lat.append(g.latlng[0])\n",
    "        lng.append(g.latlng[1])\n",
    "        print(g)\n",
    "        continue\n",
    "    except:\n",
    "        pass\n",
    "    \n",
    "    try:\n",
    "        callstr = address.split('-', 1)[0]\n",
    "        print(callstr)\n",
    "        g = geocoder.osm(callstr)\n",
    "        assert g.country == 'Australia'\n",
    "        lat.append(g.latlng[0])\n",
    "        lng.append(g.latlng[1])\n",
    "        print(g)\n",
    "        continue\n",
    "    except:\n",
    "        pass\n",
    "    \n",
    "    \n",
    "    lat.append(None)\n",
    "    lng.append(None)\n",
    "    "
   ]
  },
  {
   "cell_type": "code",
   "execution_count": null,
   "metadata": {},
   "outputs": [],
   "source": [
    "#because of multiple spelling of Woolaware/Wooloware we have a single error to fix\n",
    "callstr = 'woolooware'\n",
    "print(callstr)\n",
    "g = geocoder.osm(callstr)\n",
    "lat[550] = g.latlng[0]\n",
    "lng[550] = g.latlng[1]\n"
   ]
  },
  {
   "cell_type": "code",
   "execution_count": null,
   "metadata": {},
   "outputs": [],
   "source": []
  },
  {
   "cell_type": "code",
   "execution_count": null,
   "metadata": {},
   "outputs": [],
   "source": [
    "latlng = pd.DataFrame({'lat':lat, 'long':lng}, index = X.index.levels[1].tolist())\n",
    "latlng.index.name = 'LABEL'"
   ]
  },
  {
   "cell_type": "code",
   "execution_count": null,
   "metadata": {},
   "outputs": [],
   "source": [
    "latlng.to_csv('latlng.csv')"
   ]
  },
  {
   "cell_type": "code",
   "execution_count": null,
   "metadata": {},
   "outputs": [],
   "source": [
    "latlng.head()"
   ]
  },
  {
   "cell_type": "code",
   "execution_count": null,
   "metadata": {},
   "outputs": [],
   "source": [
    "df.head()"
   ]
  },
  {
   "cell_type": "code",
   "execution_count": null,
   "metadata": {},
   "outputs": [],
   "source": [
    "newdf = pd.merge(df, latlng, how = 'left', left_on=['LABEL'], right_on = ['LABEL'])"
   ]
  },
  {
   "cell_type": "code",
   "execution_count": null,
   "metadata": {},
   "outputs": [],
   "source": [
    "newdf.head()"
   ]
  },
  {
   "cell_type": "code",
   "execution_count": null,
   "metadata": {},
   "outputs": [],
   "source": [
    "#newdf = newdf.drop('Badgerys Creek', axis = 0)\n",
    "y=newdf[cycle_col]\n",
    "y = y/newdf['HOUSEHOLDS BY TYPE Total households no.']\n",
    "X = newdf.drop([cycle_col], axis = 1)\n",
    "X_train, X_test, y_train, y_test = train_test_split(X, y, test_size = 0.2, random_state = 43)\n",
    "rf = RandomForestRegressor()\n",
    "rf.fit(X_train, y_train)"
   ]
  },
  {
   "cell_type": "code",
   "execution_count": null,
   "metadata": {},
   "outputs": [],
   "source": [
    "from sklearn.ensemble import AdaBoostRegressor\n",
    "\n",
    "ada = AdaBoostRegressor()\n",
    "ada.fit(X_train, y_train)\n",
    "y_pred = ada.predict(X_test)\n",
    "\n",
    "plt.scatter(y_pred, y_test)\n",
    "plt.xlabel('Predictions')\n",
    "plt.ylabel('Actuals')\n",
    "\n",
    "\n",
    "\n"
   ]
  },
  {
   "cell_type": "code",
   "execution_count": null,
   "metadata": {},
   "outputs": [],
   "source": [
    "#perm = eli5.sklearn.PermutationImportance(ada).fit(X_test, y_test)\n",
    "eli5.show_weights(ada)"
   ]
  },
  {
   "cell_type": "code",
   "execution_count": null,
   "metadata": {},
   "outputs": [],
   "source": [
    "eli5.sklearn.explain_prediction.explain_prediction_tree_regressor(ada, X_test[1])"
   ]
  },
  {
   "cell_type": "code",
   "execution_count": null,
   "metadata": {},
   "outputs": [],
   "source": [
    "X.shape"
   ]
  },
  {
   "cell_type": "code",
   "execution_count": null,
   "metadata": {},
   "outputs": [],
   "source": [
    "from sklearn.metrics import r2_score\n",
    "r2_score(y_test, y_pred)"
   ]
  },
  {
   "cell_type": "code",
   "execution_count": null,
   "metadata": {},
   "outputs": [],
   "source": []
  }
 ],
 "metadata": {
  "kernelspec": {
   "display_name": "Python 3",
   "language": "python",
   "name": "python3"
  },
  "language_info": {
   "codemirror_mode": {
    "name": "ipython",
    "version": 3
   },
   "file_extension": ".py",
   "mimetype": "text/x-python",
   "name": "python",
   "nbconvert_exporter": "python",
   "pygments_lexer": "ipython3",
   "version": "3.6.5"
  }
 },
 "nbformat": 4,
 "nbformat_minor": 2
}
