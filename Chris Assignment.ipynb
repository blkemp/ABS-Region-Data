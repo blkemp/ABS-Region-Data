{
 "cells": [
  {
   "cell_type": "markdown",
   "metadata": {},
   "source": [
    "# First we need to import a number of libraries including our custom functions\n",
    "There is some overlap in our plotting, but it's nice to be able to both make quick histograms of our data and to have more interactive versions using Bokeh"
   ]
  },
  {
   "cell_type": "code",
   "execution_count": 23,
   "metadata": {},
   "outputs": [
    {
     "data": {
      "text/plain": [
       "<module 'cleanfunc' from 'C:\\\\Users\\\\cartechr\\\\OneDrive - Mars Inc\\\\GitHub\\\\ABS-Region-Data\\\\cleanfunc.py'>"
      ]
     },
     "execution_count": 23,
     "metadata": {},
     "output_type": "execute_result"
    }
   ],
   "source": [
    "import importlib\n",
    "import operator\n",
    "import numpy as np\n",
    "import pandas as pd\n",
    "import matplotlib.pyplot as plt\n",
    "from sklearn.linear_model import LinearRegression\n",
    "from sklearn.model_selection import train_test_split\n",
    "from sklearn.metrics import r2_score, mean_squared_error\n",
    "import seaborn as sns\n",
    "import os\n",
    "from textwrap import wrap\n",
    "from sklearn.preprocessing import MinMaxScaler\n",
    "from sklearn.ensemble import RandomForestRegressor, AdaBoostRegressor\n",
    "from sklearn.model_selection import GridSearchCV\n",
    "import eli5\n",
    "import cleanfunc\n",
    "import re\n",
    "from sklearn.metrics import r2_score\n",
    "from bokeh.models import HoverTool\n",
    "from bokeh.plotting import figure, output_notebook, show, ColumnDataSource\n",
    "importlib.reload(cleanfunc)"
   ]
  },
  {
   "cell_type": "markdown",
   "metadata": {},
   "source": [
    "We're going to just read in the pre-prepared data. Functions are included in cleanfunc.py to read the raw excel files you can get from the ABS, but this can take significant time to process, so we have exported the cleaned data for use here"
   ]
  },
  {
   "cell_type": "code",
   "execution_count": null,
   "metadata": {},
   "outputs": [],
   "source": [
    "df = pd.read_csv('df.csv', index_col = \"LABEL\")\n",
    "df.head()\n"
   ]
  },
  {
   "cell_type": "markdown",
   "metadata": {},
   "source": [
    "We're interested in looking at the cycling data. There are a number of different region sizes, so it makes sense to normalise the cyclists by the number of households in an area.\n",
    "\n",
    "The value we are trying to predict (y) is then this column. We should drop this column from our original dataframe to create X"
   ]
  },
  {
   "cell_type": "code",
   "execution_count": 3,
   "metadata": {},
   "outputs": [],
   "source": [
    "cycle_col = 'METHOD OF TRAVEL TO WORK - EMPLOYED PERSONS Used one method - Bicycle no.'\n",
    "residents_col = 'ESTIMATED RESIDENT POPULATION (USUAL RESIDENTS, ERP AT 30 JUNE)  Total no.'\n",
    "y = df[cycle_col]/df[residents_col]\n",
    "y.index = df.index\n",
    "X = df.drop([cycle_col, residents_col], axis = 1)\n"
   ]
  },
  {
   "cell_type": "markdown",
   "metadata": {},
   "source": [
    "Let's visually explore our data to see what we're working with"
   ]
  },
  {
   "cell_type": "code",
   "execution_count": 4,
   "metadata": {},
   "outputs": [
    {
     "data": {
      "text/plain": [
       "<matplotlib.axes._subplots.AxesSubplot at 0x1d3a96f6e80>"
      ]
     },
     "execution_count": 4,
     "metadata": {},
     "output_type": "execute_result"
    },
    {
     "data": {
      "image/png": "[encoded data removed]",
      "text/plain": [
       "<Figure size 432x288 with 1 Axes>"
      ]
     },
     "metadata": {},
     "output_type": "display_data"
    }
   ],
   "source": [
    "y.hist()"
   ]
  },
  {
   "cell_type": "markdown",
   "metadata": {},
   "source": [
    "We can see that there is a real outlier at the top. This will skew our analysis so we should probably drop it. But let's investigate it first"
   ]
  },
  {
   "cell_type": "code",
   "execution_count": 5,
   "metadata": {},
   "outputs": [
    {
     "name": "stdout",
     "output_type": "stream",
     "text": [
      "                  METHOD OF TRAVEL TO WORK - EMPLOYED PERSONS Used one method - Bicycle no.  \\\n",
      "LABEL                                                                                         \n",
      "Lord Howe Island                                          54.000000                           \n",
      "Badgerys Creek                                            44.129032                           \n",
      "\n",
      "                  ESTIMATED RESIDENT POPULATION (USUAL RESIDENTS, ERP AT 30 JUNE)  Total no.  \n",
      "LABEL                                                                                         \n",
      "Lord Howe Island                                              194.0                           \n",
      "Badgerys Creek                                                 23.0                           \n",
      "Median population of each region: 6445.0\n"
     ]
    }
   ],
   "source": [
    "print(df.loc[y>0.1,[cycle_col, residents_col]])\n",
    "print(\"Median population of each region: {}\".format(df[residents_col].median()))"
   ]
  },
  {
   "cell_type": "markdown",
   "metadata": {},
   "source": [
    "Both of these outliers have extremely small resident population which when combined with a moderate number of cyclists gives an unusual result. We will drop both these points from our analysis"
   ]
  },
  {
   "cell_type": "code",
   "execution_count": 6,
   "metadata": {},
   "outputs": [
    {
     "data": {
      "text/plain": [
       "<matplotlib.axes._subplots.AxesSubplot at 0x1d3a9f04208>"
      ]
     },
     "execution_count": 6,
     "metadata": {},
     "output_type": "execute_result"
    },
    {
     "data": {
      "image/png": "[encoded data removed]",
      "text/plain": [
       "<Figure size 432x288 with 1 Axes>"
      ]
     },
     "metadata": {},
     "output_type": "display_data"
    }
   ],
   "source": [
    "X = X[y<0.1]\n",
    "y = y[y<0.1]\n",
    "\n",
    "y.hist()"
   ]
  },
  {
   "cell_type": "markdown",
   "metadata": {},
   "source": [
    "That's a little better, though we still have a significant cluster below the 1% mark. We might deal with that later."
   ]
  },
  {
   "cell_type": "markdown",
   "metadata": {},
   "source": [
    "# Machine Learning - First Pass\n",
    "Now that we have a clean dataframe, we would like to apply some machine learning to it to see if we can predict the number of cyclists. Once we can make predictions, we can interrogate those predictions to see what's going on."
   ]
  },
  {
   "cell_type": "code",
   "execution_count": 7,
   "metadata": {},
   "outputs": [],
   "source": [
    "y_binned = np.digitize(y, y.quantile([0, 0.2, 0.4, 0.6, 0.8]))\n",
    "X_train, X_test, y_train, y_test = train_test_split(X, y, test_size = 0.2, random_state = 43, stratify = y_binned)"
   ]
  },
  {
   "cell_type": "code",
   "execution_count": 8,
   "metadata": {},
   "outputs": [
    {
     "data": {
      "text/plain": [
       "RandomForestRegressor(bootstrap=True, criterion='mse', max_depth=None,\n",
       "           max_features='auto', max_leaf_nodes=None,\n",
       "           min_impurity_decrease=0.0, min_impurity_split=None,\n",
       "           min_samples_leaf=1, min_samples_split=2,\n",
       "           min_weight_fraction_leaf=0.0, n_estimators=100, n_jobs=1,\n",
       "           oob_score=False, random_state=None, verbose=0, warm_start=False)"
      ]
     },
     "execution_count": 8,
     "metadata": {},
     "output_type": "execute_result"
    }
   ],
   "source": [
    "rf = RandomForestRegressor(n_estimators=100)\n",
    "rf.fit(X_train, y_train)\n"
   ]
  },
  {
   "cell_type": "code",
   "execution_count": 9,
   "metadata": {},
   "outputs": [
    {
     "data": {
      "text/html": [
       "\n",
       "    <div class=\"bk-root\">\n",
       "        <a href=\"https://bokeh.pydata.org\" target=\"_blank\" class=\"bk-logo bk-logo-small bk-logo-notebook\"></a>\n",
       "        <span id=\"5e8c5d06-70b4-4aa2-80ad-fb820e8c8353\">Loading BokehJS ...</span>\n",
       "    </div>"
      ]
     },
     "metadata": {},
     "output_type": "display_data"
    },
    {
     "data": {
      "application/javascript": [
       "\n",
       "(function(root) {\n",
       "  function now() {\n",
       "    return new Date();\n",
       "  }\n",
       "\n",
       "  var force = true;\n",
       "\n",
       "  if (typeof (root._bokeh_onload_callbacks) === \"undefined\" || force === true) {\n",
       "    root._bokeh_onload_callbacks = [];\n",
       "    root._bokeh_is_loading = undefined;\n",
       "  }\n",
       "\n",
       "  var JS_MIME_TYPE = 'application/javascript';\n",
       "  var HTML_MIME_TYPE = 'text/html';\n",
       "  var EXEC_MIME_TYPE = 'application/vnd.bokehjs_exec.v0+json';\n",
       "  var CLASS_NAME = 'output_bokeh rendered_html';\n",
       "\n",
       "  /**\n",
       "   * Render data to the DOM node\n",
       "   */\n",
       "  function render(props, node) {\n",
       "    var script = document.createElement(\"script\");\n",
       "    node.appendChild(script);\n",
       "  }\n",
       "\n",
       "  /**\n",
       "   * Handle when an output is cleared or removed\n",
       "   */\n",
       "  function handleClearOutput(event, handle) {\n",
       "    var cell = handle.cell;\n",
       "\n",
       "    var id = cell.output_area._bokeh_element_id;\n",
       "    var server_id = cell.output_area._bokeh_server_id;\n",
       "    // Clean up Bokeh references\n",
       "    if (id !== undefined) {\n",
       "      Bokeh.index[id].model.document.clear();\n",
       "      delete Bokeh.index[id];\n",
       "    }\n",
       "\n",
       "    if (server_id !== undefined) {\n",
       "      // Clean up Bokeh references\n",
       "      var cmd = \"from bokeh.io.state import curstate; print(curstate().uuid_to_server['\" + server_id + \"'].get_sessions()[0].document.roots[0]._id)\";\n",
       "      cell.notebook.kernel.execute(cmd, {\n",
       "        iopub: {\n",
       "          output: function(msg) {\n",
       "            var element_id = msg.content.text.trim();\n",
       "            Bokeh.index[element_id].model.document.clear();\n",
       "            delete Bokeh.index[element_id];\n",
       "          }\n",
       "        }\n",
       "      });\n",
       "      // Destroy server and session\n",
       "      var cmd = \"import bokeh.io.notebook as ion; ion.destroy_server('\" + server_id + \"')\";\n",
       "      cell.notebook.kernel.execute(cmd);\n",
       "    }\n",
       "  }\n",
       "\n",
       "  /**\n",
       "   * Handle when a new output is added\n",
       "   */\n",
       "  function handleAddOutput(event, handle) {\n",
       "    var output_area = handle.output_area;\n",
       "    var output = handle.output;\n",
       "\n",
       "    // limit handleAddOutput to display_data with EXEC_MIME_TYPE content only\n",
       "    if ((output.output_type != \"display_data\") || (!output.data.hasOwnProperty(EXEC_MIME_TYPE))) {\n",
       "      return\n",
       "    }\n",
       "\n",
       "    var toinsert = output_area.element.find(\".\" + CLASS_NAME.split(' ')[0]);\n",
       "\n",
       "    if (output.metadata[EXEC_MIME_TYPE][\"id\"] !== undefined) {\n",
       "      toinsert[toinsert.length - 1].firstChild.textContent = output.data[JS_MIME_TYPE];\n",
       "      // store reference to embed id on output_area\n",
       "      output_area._bokeh_element_id = output.metadata[EXEC_MIME_TYPE][\"id\"];\n",
       "    }\n",
       "    if (output.metadata[EXEC_MIME_TYPE][\"server_id\"] !== undefined) {\n",
       "      var bk_div = document.createElement(\"div\");\n",
       "      bk_div.innerHTML = output.data[HTML_MIME_TYPE];\n",
       "      var script_attrs = bk_div.children[0].attributes;\n",
       "      for (var i = 0; i < script_attrs.length; i++) {\n",
       "        toinsert[toinsert.length - 1].firstChild.setAttribute(script_attrs[i].name, script_attrs[i].value);\n",
       "      }\n",
       "      // store reference to server id on output_area\n",
       "      output_area._bokeh_server_id = output.metadata[EXEC_MIME_TYPE][\"server_id\"];\n",
       "    }\n",
       "  }\n",
       "\n",
       "  function register_renderer(events, OutputArea) {\n",
       "\n",
       "    function append_mime(data, metadata, element) {\n",
       "      // create a DOM node to render to\n",
       "      var toinsert = this.create_output_subarea(\n",
       "        metadata,\n",
       "        CLASS_NAME,\n",
       "        EXEC_MIME_TYPE\n",
       "      );\n",
       "      this.keyboard_manager.register_events(toinsert);\n",
       "      // Render to node\n",
       "      var props = {data: data, metadata: metadata[EXEC_MIME_TYPE]};\n",
       "      render(props, toinsert[toinsert.length - 1]);\n",
       "      element.append(toinsert);\n",
       "      return toinsert\n",
       "    }\n",
       "\n",
       "    /* Handle when an output is cleared or removed */\n",
       "    events.on('clear_output.CodeCell', handleClearOutput);\n",
       "    events.on('delete.Cell', handleClearOutput);\n",
       "\n",
       "    /* Handle when a new output is added */\n",
       "    events.on('output_added.OutputArea', handleAddOutput);\n",
       "\n",
       "    /**\n",
       "     * Register the mime type and append_mime function with output_area\n",
       "     */\n",
       "    OutputArea.prototype.register_mime_type(EXEC_MIME_TYPE, append_mime, {\n",
       "      /* Is output safe? */\n",
       "      safe: true,\n",
       "      /* Index of renderer in `output_area.display_order` */\n",
       "      index: 0\n",
       "    });\n",
       "  }\n",
       "\n",
       "  // register the mime type if in Jupyter Notebook environment and previously unregistered\n",
       "  if (root.Jupyter !== undefined) {\n",
       "    var events = require('base/js/events');\n",
       "    var OutputArea = require('notebook/js/outputarea').OutputArea;\n",
       "\n",
       "    if (OutputArea.prototype.mime_types().indexOf(EXEC_MIME_TYPE) == -1) {\n",
       "      register_renderer(events, OutputArea);\n",
       "    }\n",
       "  }\n",
       "\n",
       "  \n",
       "  if (typeof (root._bokeh_timeout) === \"undefined\" || force === true) {\n",
       "    root._bokeh_timeout = Date.now() + 5000;\n",
       "    root._bokeh_failed_load = false;\n",
       "  }\n",
       "\n",
       "  var NB_LOAD_WARNING = {'data': {'text/html':\n",
       "     \"<div style='background-color: #fdd'>\\n\"+\n",
       "     \"<p>\\n\"+\n",
       "     \"BokehJS does not appear to have successfully loaded. If loading BokehJS from CDN, this \\n\"+\n",
       "     \"may be due to a slow or bad network connection. Possible fixes:\\n\"+\n",
       "     \"</p>\\n\"+\n",
       "     \"<ul>\\n\"+\n",
       "     \"<li>re-rerun `output_notebook()` to attempt to load from CDN again, or</li>\\n\"+\n",
       "     \"<li>use INLINE resources instead, as so:</li>\\n\"+\n",
       "     \"</ul>\\n\"+\n",
       "     \"<code>\\n\"+\n",
       "     \"from bokeh.resources import INLINE\\n\"+\n",
       "     \"output_notebook(resources=INLINE)\\n\"+\n",
       "     \"</code>\\n\"+\n",
       "     \"</div>\"}};\n",
       "\n",
       "  function display_loaded() {\n",
       "    var el = document.getElementById(\"5e8c5d06-70b4-4aa2-80ad-fb820e8c8353\");\n",
       "    if (el != null) {\n",
       "      el.textContent = \"BokehJS is loading...\";\n",
       "    }\n",
       "    if (root.Bokeh !== undefined) {\n",
       "      if (el != null) {\n",
       "        el.textContent = \"BokehJS \" + root.Bokeh.version + \" successfully loaded.\";\n",
       "      }\n",
       "    } else if (Date.now() < root._bokeh_timeout) {\n",
       "      setTimeout(display_loaded, 100)\n",
       "    }\n",
       "  }\n",
       "\n",
       "\n",
       "  function run_callbacks() {\n",
       "    try {\n",
       "      root._bokeh_onload_callbacks.forEach(function(callback) { callback() });\n",
       "    }\n",
       "    finally {\n",
       "      delete root._bokeh_onload_callbacks\n",
       "    }\n",
       "    console.info(\"Bokeh: all callbacks have finished\");\n",
       "  }\n",
       "\n",
       "  function load_libs(js_urls, callback) {\n",
       "    root._bokeh_onload_callbacks.push(callback);\n",
       "    if (root._bokeh_is_loading > 0) {\n",
       "      console.log(\"Bokeh: BokehJS is being loaded, scheduling callback at\", now());\n",
       "      return null;\n",
       "    }\n",
       "    if (js_urls == null || js_urls.length === 0) {\n",
       "      run_callbacks();\n",
       "      return null;\n",
       "    }\n",
       "    console.log(\"Bokeh: BokehJS not loaded, scheduling load and callback at\", now());\n",
       "    root._bokeh_is_loading = js_urls.length;\n",
       "    for (var i = 0; i < js_urls.length; i++) {\n",
       "      var url = js_urls[i];\n",
       "      var s = document.createElement('script');\n",
       "      s.src = url;\n",
       "      s.async = false;\n",
       "      s.onreadystatechange = s.onload = function() {\n",
       "        root._bokeh_is_loading--;\n",
       "        if (root._bokeh_is_loading === 0) {\n",
       "          console.log(\"Bokeh: all BokehJS libraries loaded\");\n",
       "          run_callbacks()\n",
       "        }\n",
       "      };\n",
       "      s.onerror = function() {\n",
       "        console.warn(\"failed to load library \" + url);\n",
       "      };\n",
       "      console.log(\"Bokeh: injecting script tag for BokehJS library: \", url);\n",
       "      document.getElementsByTagName(\"head\")[0].appendChild(s);\n",
       "    }\n",
       "  };var element = document.getElementById(\"5e8c5d06-70b4-4aa2-80ad-fb820e8c8353\");\n",
       "  if (element == null) {\n",
       "    console.log(\"Bokeh: ERROR: autoload.js configured with elementid '5e8c5d06-70b4-4aa2-80ad-fb820e8c8353' but no matching script tag was found. \")\n",
       "    return false;\n",
       "  }\n",
       "\n",
       "  var js_urls = [\"https://cdn.pydata.org/bokeh/release/bokeh-0.12.16.min.js\", \"https://cdn.pydata.org/bokeh/release/bokeh-widgets-0.12.16.min.js\", \"https://cdn.pydata.org/bokeh/release/bokeh-tables-0.12.16.min.js\", \"https://cdn.pydata.org/bokeh/release/bokeh-gl-0.12.16.min.js\"];\n",
       "\n",
       "  var inline_js = [\n",
       "    function(Bokeh) {\n",
       "      Bokeh.set_log_level(\"info\");\n",
       "    },\n",
       "    \n",
       "    function(Bokeh) {\n",
       "      \n",
       "    },\n",
       "    function(Bokeh) {\n",
       "      console.log(\"Bokeh: injecting CSS: https://cdn.pydata.org/bokeh/release/bokeh-0.12.16.min.css\");\n",
       "      Bokeh.embed.inject_css(\"https://cdn.pydata.org/bokeh/release/bokeh-0.12.16.min.css\");\n",
       "      console.log(\"Bokeh: injecting CSS: https://cdn.pydata.org/bokeh/release/bokeh-widgets-0.12.16.min.css\");\n",
       "      Bokeh.embed.inject_css(\"https://cdn.pydata.org/bokeh/release/bokeh-widgets-0.12.16.min.css\");\n",
       "      console.log(\"Bokeh: injecting CSS: https://cdn.pydata.org/bokeh/release/bokeh-tables-0.12.16.min.css\");\n",
       "      Bokeh.embed.inject_css(\"https://cdn.pydata.org/bokeh/release/bokeh-tables-0.12.16.min.css\");\n",
       "    }\n",
       "  ];\n",
       "\n",
       "  function run_inline_js() {\n",
       "    \n",
       "    if ((root.Bokeh !== undefined) || (force === true)) {\n",
       "      for (var i = 0; i < inline_js.length; i++) {\n",
       "        inline_js[i].call(root, root.Bokeh);\n",
       "      }if (force === true) {\n",
       "        display_loaded();\n",
       "      }} else if (Date.now() < root._bokeh_timeout) {\n",
       "      setTimeout(run_inline_js, 100);\n",
       "    } else if (!root._bokeh_failed_load) {\n",
       "      console.log(\"Bokeh: BokehJS failed to load within specified timeout.\");\n",
       "      root._bokeh_failed_load = true;\n",
       "    } else if (force !== true) {\n",
       "      var cell = $(document.getElementById(\"5e8c5d06-70b4-4aa2-80ad-fb820e8c8353\")).parents('.cell').data().cell;\n",
       "      cell.output_area.append_execute_result(NB_LOAD_WARNING)\n",
       "    }\n",
       "\n",
       "  }\n",
       "\n",
       "  if (root._bokeh_is_loading === 0) {\n",
       "    console.log(\"Bokeh: BokehJS loaded, going straight to plotting\");\n",
       "    run_inline_js();\n",
       "  } else {\n",
       "    load_libs(js_urls, function() {\n",
       "      console.log(\"Bokeh: BokehJS plotting callback run at\", now());\n",
       "      run_inline_js();\n",
       "    });\n",
       "  }\n",
       "}(window));"
      ],
      "application/vnd.bokehjs_load.v0+json": "\n(function(root) {\n  function now() {\n    return new Date();\n  }\n\n  var force = true;\n\n  if (typeof (root._bokeh_onload_callbacks) === \"undefined\" || force === true) {\n    root._bokeh_onload_callbacks = [];\n    root._bokeh_is_loading = undefined;\n  }\n\n  \n\n  \n  if (typeof (root._bokeh_timeout) === \"undefined\" || force === true) {\n    root._bokeh_timeout = Date.now() + 5000;\n    root._bokeh_failed_load = false;\n  }\n\n  var NB_LOAD_WARNING = {'data': {'text/html':\n     \"<div style='background-color: #fdd'>\\n\"+\n     \"<p>\\n\"+\n     \"BokehJS does not appear to have successfully loaded. If loading BokehJS from CDN, this \\n\"+\n     \"may be due to a slow or bad network connection. Possible fixes:\\n\"+\n     \"</p>\\n\"+\n     \"<ul>\\n\"+\n     \"<li>re-rerun `output_notebook()` to attempt to load from CDN again, or</li>\\n\"+\n     \"<li>use INLINE resources instead, as so:</li>\\n\"+\n     \"</ul>\\n\"+\n     \"<code>\\n\"+\n     \"from bokeh.resources import INLINE\\n\"+\n     \"output_notebook(resources=INLINE)\\n\"+\n     \"</code>\\n\"+\n     \"</div>\"}};\n\n  function display_loaded() {\n    var el = document.getElementById(\"5e8c5d06-70b4-4aa2-80ad-fb820e8c8353\");\n    if (el != null) {\n      el.textContent = \"BokehJS is loading...\";\n    }\n    if (root.Bokeh !== undefined) {\n      if (el != null) {\n        el.textContent = \"BokehJS \" + root.Bokeh.version + \" successfully loaded.\";\n      }\n    } else if (Date.now() < root._bokeh_timeout) {\n      setTimeout(display_loaded, 100)\n    }\n  }\n\n\n  function run_callbacks() {\n    try {\n      root._bokeh_onload_callbacks.forEach(function(callback) { callback() });\n    }\n    finally {\n      delete root._bokeh_onload_callbacks\n    }\n    console.info(\"Bokeh: all callbacks have finished\");\n  }\n\n  function load_libs(js_urls, callback) {\n    root._bokeh_onload_callbacks.push(callback);\n    if (root._bokeh_is_loading > 0) {\n      console.log(\"Bokeh: BokehJS is being loaded, scheduling callback at\", now());\n      return null;\n    }\n    if (js_urls == null || js_urls.length === 0) {\n      run_callbacks();\n      return null;\n    }\n    console.log(\"Bokeh: BokehJS not loaded, scheduling load and callback at\", now());\n    root._bokeh_is_loading = js_urls.length;\n    for (var i = 0; i < js_urls.length; i++) {\n      var url = js_urls[i];\n      var s = document.createElement('script');\n      s.src = url;\n      s.async = false;\n      s.onreadystatechange = s.onload = function() {\n        root._bokeh_is_loading--;\n        if (root._bokeh_is_loading === 0) {\n          console.log(\"Bokeh: all BokehJS libraries loaded\");\n          run_callbacks()\n        }\n      };\n      s.onerror = function() {\n        console.warn(\"failed to load library \" + url);\n      };\n      console.log(\"Bokeh: injecting script tag for BokehJS library: \", url);\n      document.getElementsByTagName(\"head\")[0].appendChild(s);\n    }\n  };var element = document.getElementById(\"5e8c5d06-70b4-4aa2-80ad-fb820e8c8353\");\n  if (element == null) {\n    console.log(\"Bokeh: ERROR: autoload.js configured with elementid '5e8c5d06-70b4-4aa2-80ad-fb820e8c8353' but no matching script tag was found. \")\n    return false;\n  }\n\n  var js_urls = [\"https://cdn.pydata.org/bokeh/release/bokeh-0.12.16.min.js\", \"https://cdn.pydata.org/bokeh/release/bokeh-widgets-0.12.16.min.js\", \"https://cdn.pydata.org/bokeh/release/bokeh-tables-0.12.16.min.js\", \"https://cdn.pydata.org/bokeh/release/bokeh-gl-0.12.16.min.js\"];\n\n  var inline_js = [\n    function(Bokeh) {\n      Bokeh.set_log_level(\"info\");\n    },\n    \n    function(Bokeh) {\n      \n    },\n    function(Bokeh) {\n      console.log(\"Bokeh: injecting CSS: https://cdn.pydata.org/bokeh/release/bokeh-0.12.16.min.css\");\n      Bokeh.embed.inject_css(\"https://cdn.pydata.org/bokeh/release/bokeh-0.12.16.min.css\");\n      console.log(\"Bokeh: injecting CSS: https://cdn.pydata.org/bokeh/release/bokeh-widgets-0.12.16.min.css\");\n      Bokeh.embed.inject_css(\"https://cdn.pydata.org/bokeh/release/bokeh-widgets-0.12.16.min.css\");\n      console.log(\"Bokeh: injecting CSS: https://cdn.pydata.org/bokeh/release/bokeh-tables-0.12.16.min.css\");\n      Bokeh.embed.inject_css(\"https://cdn.pydata.org/bokeh/release/bokeh-tables-0.12.16.min.css\");\n    }\n  ];\n\n  function run_inline_js() {\n    \n    if ((root.Bokeh !== undefined) || (force === true)) {\n      for (var i = 0; i < inline_js.length; i++) {\n        inline_js[i].call(root, root.Bokeh);\n      }if (force === true) {\n        display_loaded();\n      }} else if (Date.now() < root._bokeh_timeout) {\n      setTimeout(run_inline_js, 100);\n    } else if (!root._bokeh_failed_load) {\n      console.log(\"Bokeh: BokehJS failed to load within specified timeout.\");\n      root._bokeh_failed_load = true;\n    } else if (force !== true) {\n      var cell = $(document.getElementById(\"5e8c5d06-70b4-4aa2-80ad-fb820e8c8353\")).parents('.cell').data().cell;\n      cell.output_area.append_execute_result(NB_LOAD_WARNING)\n    }\n\n  }\n\n  if (root._bokeh_is_loading === 0) {\n    console.log(\"Bokeh: BokehJS loaded, going straight to plotting\");\n    run_inline_js();\n  } else {\n    load_libs(js_urls, function() {\n      console.log(\"Bokeh: BokehJS plotting callback run at\", now());\n      run_inline_js();\n    });\n  }\n}(window));"
     },
     "metadata": {},
     "output_type": "display_data"
    },
    {
     "data": {
      "text/html": [
       "\n",
       "<div class=\"bk-root\">\n",
       "    <div class=\"bk-plotdiv\" id=\"f8145189-b237-4135-b764-7b09824d3998\"></div>\n",
       "</div>"
      ]
     },
     "metadata": {},
     "output_type": "display_data"
    },
    {
     "data": {
      "application/javascript": [
       "(function(root) {\n",
       "  function embed_document(root) {\n",
       "    \n",
       "  var docs_json = {\"3d37b1e8-47e2-48d2-955d-8345e4ade03b\":{\"roots\":{\"references\":[{\"attributes\":{},\"id\":\"b370f244-66dc-4aa6-bbfd-059a868f6067\",\"type\":\"Selection\"},{\"attributes\":{\"source\":{\"id\":\"21329d2c-e65e-4c63-a3d3-b432260f3a2a\",\"type\":\"ColumnDataSource\"}},\"id\":\"19b7dd36-795e-4bc6-b18f-f93e5dbc4f20\",\"type\":\"CDSView\"},{\"attributes\":{},\"id\":\"5c2b0bc7-7443-457e-84ef-932132d8cd07\",\"type\":\"UnionRenderers\"},{\"attributes\":{},\"id\":\"d3f85e45-279b-4e2b-ab44-77771f1ed3e0\",\"type\":\"LinearScale\"},{\"attributes\":{\"source\":{\"id\":\"a9135f74-db9b-4359-89f0-df6df5a003c0\",\"type\":\"ColumnDataSource\"}},\"id\":\"85fea66c-1157-453c-8146-6627b727afdc\",\"type\":\"CDSView\"},{\"attributes\":{},\"id\":\"52ed8080-1a0b-478b-9dbc-d8f985318dad\",\"type\":\"LinearScale\"},{\"attributes\":{\"data_source\":{\"id\":\"a9135f74-db9b-4359-89f0-df6df5a003c0\",\"type\":\"ColumnDataSource\"},\"glyph\":{\"id\":\"1a0b74a3-8de2-4397-acff-ee71915d7375\",\"type\":\"Line\"},\"hover_glyph\":null,\"muted_glyph\":null,\"nonselection_glyph\":{\"id\":\"ecec253a-be1d-443b-b140-ebc8ecd8a376\",\"type\":\"Line\"},\"selection_glyph\":null,\"view\":{\"id\":\"85fea66c-1157-453c-8146-6627b727afdc\",\"type\":\"CDSView\"}},\"id\":\"767f6fdf-245e-478d-8f62-f104d2f69df7\",\"type\":\"GlyphRenderer\"},{\"attributes\":{\"fill_alpha\":{\"value\":0.1},\"fill_color\":{\"value\":\"#1f77b4\"},\"line_alpha\":{\"value\":0.1},\"line_color\":{\"value\":\"#1f77b4\"},\"size\":{\"units\":\"screen\",\"value\":20},\"x\":{\"field\":\"x\"},\"y\":{\"field\":\"y\"}},\"id\":\"501c2ec1-7b15-4341-be64-f3afdb1753bb\",\"type\":\"Circle\"},{\"attributes\":{\"label\":{\"value\":\"line of perfect fit\"},\"renderers\":[{\"id\":\"767f6fdf-245e-478d-8f62-f104d2f69df7\",\"type\":\"GlyphRenderer\"}]},\"id\":\"e3b0937d-a647-4471-a675-c4c3a735459a\",\"type\":\"LegendItem\"},{\"attributes\":{\"axis_label\":\"Acutal\",\"formatter\":{\"id\":\"c0cc8461-4e07-4091-8b94-c05809653c48\",\"type\":\"BasicTickFormatter\"},\"plot\":{\"id\":\"a874fbbb-c665-4455-b9f5-f3b46de8f54f\",\"subtype\":\"Figure\",\"type\":\"Plot\"},\"ticker\":{\"id\":\"7a1783ab-0849-417f-bb9b-63ff297dd8b0\",\"type\":\"BasicTicker\"}},\"id\":\"041adf3e-bf3b-463c-8522-de029a5df83a\",\"type\":\"LinearAxis\"},{\"attributes\":{},\"id\":\"eb8a6b82-aef8-4a83-904a-3a38022d14b6\",\"type\":\"Selection\"},{\"attributes\":{},\"id\":\"7a1783ab-0849-417f-bb9b-63ff297dd8b0\",\"type\":\"BasicTicker\"},{\"attributes\":{\"plot\":{\"id\":\"a874fbbb-c665-4455-b9f5-f3b46de8f54f\",\"subtype\":\"Figure\",\"type\":\"Plot\"},\"ticker\":{\"id\":\"7a1783ab-0849-417f-bb9b-63ff297dd8b0\",\"type\":\"BasicTicker\"}},\"id\":\"dae20665-4dcd-4537-8c11-4d8b879db82c\",\"type\":\"Grid\"},{\"attributes\":{\"callback\":null,\"renderers\":\"auto\",\"tooltips\":[[\"index\",\"$index\"],[\"(x,y)\",\"($x, $y)\"],[\"desc\",\"@desc\"]]},\"id\":\"0aca6d28-b080-4cf9-981f-8f3e1162fa49\",\"type\":\"HoverTool\"},{\"attributes\":{\"axis_label\":\"Prediction\",\"formatter\":{\"id\":\"79ece42d-e216-4973-a239-e08d26e01869\",\"type\":\"BasicTickFormatter\"},\"plot\":{\"id\":\"a874fbbb-c665-4455-b9f5-f3b46de8f54f\",\"subtype\":\"Figure\",\"type\":\"Plot\"},\"ticker\":{\"id\":\"e7860d29-7517-4183-8db3-09ce024afff1\",\"type\":\"BasicTicker\"}},\"id\":\"a9ae9023-0bfb-4b77-8989-e18fe3d4fcea\",\"type\":\"LinearAxis\"},{\"attributes\":{},\"id\":\"e7860d29-7517-4183-8db3-09ce024afff1\",\"type\":\"BasicTicker\"},{\"attributes\":{\"dimension\":1,\"plot\":{\"id\":\"a874fbbb-c665-4455-b9f5-f3b46de8f54f\",\"subtype\":\"Figure\",\"type\":\"Plot\"},\"ticker\":{\"id\":\"e7860d29-7517-4183-8db3-09ce024afff1\",\"type\":\"BasicTicker\"}},\"id\":\"3ad78443-e2b7-4610-861f-682ce69ea65e\",\"type\":\"Grid\"},{\"attributes\":{\"bottom_units\":\"screen\",\"fill_alpha\":{\"value\":0.5},\"fill_color\":{\"value\":\"lightgrey\"},\"left_units\":\"screen\",\"level\":\"overlay\",\"line_alpha\":{\"value\":1.0},\"line_color\":{\"value\":\"black\"},\"line_dash\":[4,4],\"line_width\":{\"value\":2},\"plot\":null,\"render_mode\":\"css\",\"right_units\":\"screen\",\"top_units\":\"screen\"},\"id\":\"fb1ad930-63a9-4c5d-8091-63194d420b7a\",\"type\":\"BoxAnnotation\"},{\"attributes\":{\"line_color\":\"#1f77b4\",\"x\":{\"field\":\"x\"},\"y\":{\"field\":\"y\"}},\"id\":\"1a0b74a3-8de2-4397-acff-ee71915d7375\",\"type\":\"Line\"},{\"attributes\":{\"fill_alpha\":{\"value\":0.5},\"fill_color\":{\"value\":\"navy\"},\"line_alpha\":{\"value\":0.5},\"line_color\":{\"value\":\"navy\"},\"size\":{\"units\":\"screen\",\"value\":20},\"x\":{\"field\":\"x\"},\"y\":{\"field\":\"y\"}},\"id\":\"88ee3cb4-d043-4a17-8417-c7402367ea9e\",\"type\":\"Circle\"},{\"attributes\":{\"data_source\":{\"id\":\"21329d2c-e65e-4c63-a3d3-b432260f3a2a\",\"type\":\"ColumnDataSource\"},\"glyph\":{\"id\":\"88ee3cb4-d043-4a17-8417-c7402367ea9e\",\"type\":\"Circle\"},\"hover_glyph\":null,\"muted_glyph\":null,\"nonselection_glyph\":{\"id\":\"501c2ec1-7b15-4341-be64-f3afdb1753bb\",\"type\":\"Circle\"},\"selection_glyph\":null,\"view\":{\"id\":\"19b7dd36-795e-4bc6-b18f-f93e5dbc4f20\",\"type\":\"CDSView\"}},\"id\":\"990a5bdb-1fcf-4ac8-9804-0f7fbd532d39\",\"type\":\"GlyphRenderer\"},{\"attributes\":{},\"id\":\"c0cc8461-4e07-4091-8b94-c05809653c48\",\"type\":\"BasicTickFormatter\"},{\"attributes\":{},\"id\":\"1f6b1ff5-96a6-4c18-8a09-466e2ca60484\",\"type\":\"PanTool\"},{\"attributes\":{},\"id\":\"2c1e0d4d-d808-44b5-9302-6bccae19cb3b\",\"type\":\"WheelZoomTool\"},{\"attributes\":{\"overlay\":{\"id\":\"fb1ad930-63a9-4c5d-8091-63194d420b7a\",\"type\":\"BoxAnnotation\"}},\"id\":\"a49bd633-fb1a-47b9-af25-1e326867b1f1\",\"type\":\"BoxZoomTool\"},{\"attributes\":{},\"id\":\"5ca67ecc-4d83-4078-beea-e5b70410954e\",\"type\":\"SaveTool\"},{\"attributes\":{},\"id\":\"942404aa-3db9-4d5d-91e9-135eec0b3d2d\",\"type\":\"ResetTool\"},{\"attributes\":{},\"id\":\"4aa669c5-cf35-4229-9812-4341ea823193\",\"type\":\"HelpTool\"},{\"attributes\":{\"data_source\":{\"id\":\"9429f7ec-520f-43ba-beb0-f72511120054\",\"type\":\"ColumnDataSource\"},\"glyph\":{\"id\":\"d96f39c7-6ec7-4b2e-9c63-ab5c3e22678e\",\"type\":\"Circle\"},\"hover_glyph\":null,\"muted_glyph\":null,\"nonselection_glyph\":{\"id\":\"621558b0-e599-4fed-8832-0884ee6e892c\",\"type\":\"Circle\"},\"selection_glyph\":null,\"view\":{\"id\":\"9652cad0-5996-4652-8af8-1f9d1a37ba71\",\"type\":\"CDSView\"}},\"id\":\"8b378a81-5e5b-44a3-bd94-563fc74ecd04\",\"type\":\"GlyphRenderer\"},{\"attributes\":{\"callback\":null},\"id\":\"6ca52110-642a-48e7-86b7-e8694f666135\",\"type\":\"DataRange1d\"},{\"attributes\":{\"plot\":null,\"text\":\"\"},\"id\":\"53a13d91-4f15-4c4d-8c52-7d9a9429e157\",\"type\":\"Title\"},{\"attributes\":{\"callback\":null,\"data\":{\"x\":[0,0.042347548824232764],\"y\":[0,0.042347548824232764]},\"selected\":{\"id\":\"eb8a6b82-aef8-4a83-904a-3a38022d14b6\",\"type\":\"Selection\"},\"selection_policy\":{\"id\":\"8b0e73a5-082e-42f7-bd64-a174ba0de276\",\"type\":\"UnionRenderers\"}},\"id\":\"a9135f74-db9b-4359-89f0-df6df5a003c0\",\"type\":\"ColumnDataSource\"},{\"attributes\":{},\"id\":\"79ece42d-e216-4973-a239-e08d26e01869\",\"type\":\"BasicTickFormatter\"},{\"attributes\":{\"click_policy\":\"hide\",\"items\":[{\"id\":\"8c0f49f5-d2f7-4f1f-b17b-3330cb2adccd\",\"type\":\"LegendItem\"},{\"id\":\"be4844d8-c7c5-4683-aa25-14ba4cf877de\",\"type\":\"LegendItem\"},{\"id\":\"e3b0937d-a647-4471-a675-c4c3a735459a\",\"type\":\"LegendItem\"}],\"location\":\"top_left\",\"plot\":{\"id\":\"a874fbbb-c665-4455-b9f5-f3b46de8f54f\",\"subtype\":\"Figure\",\"type\":\"Plot\"}},\"id\":\"86dbabc2-57e9-45aa-9056-259444a8890b\",\"type\":\"Legend\"},{\"attributes\":{\"below\":[{\"id\":\"041adf3e-bf3b-463c-8522-de029a5df83a\",\"type\":\"LinearAxis\"}],\"left\":[{\"id\":\"a9ae9023-0bfb-4b77-8989-e18fe3d4fcea\",\"type\":\"LinearAxis\"}],\"plot_height\":400,\"renderers\":[{\"id\":\"041adf3e-bf3b-463c-8522-de029a5df83a\",\"type\":\"LinearAxis\"},{\"id\":\"dae20665-4dcd-4537-8c11-4d8b879db82c\",\"type\":\"Grid\"},{\"id\":\"a9ae9023-0bfb-4b77-8989-e18fe3d4fcea\",\"type\":\"LinearAxis\"},{\"id\":\"3ad78443-e2b7-4610-861f-682ce69ea65e\",\"type\":\"Grid\"},{\"id\":\"fb1ad930-63a9-4c5d-8091-63194d420b7a\",\"type\":\"BoxAnnotation\"},{\"id\":\"86dbabc2-57e9-45aa-9056-259444a8890b\",\"type\":\"Legend\"},{\"id\":\"990a5bdb-1fcf-4ac8-9804-0f7fbd532d39\",\"type\":\"GlyphRenderer\"},{\"id\":\"8b378a81-5e5b-44a3-bd94-563fc74ecd04\",\"type\":\"GlyphRenderer\"},{\"id\":\"767f6fdf-245e-478d-8f62-f104d2f69df7\",\"type\":\"GlyphRenderer\"}],\"title\":{\"id\":\"53a13d91-4f15-4c4d-8c52-7d9a9429e157\",\"type\":\"Title\"},\"toolbar\":{\"id\":\"8d8bc862-0643-45b8-ab7d-cfc0e20bafe0\",\"type\":\"Toolbar\"},\"x_range\":{\"id\":\"85a9ed6c-125f-4843-9e44-d653b9fd9ba8\",\"type\":\"DataRange1d\"},\"x_scale\":{\"id\":\"d3f85e45-279b-4e2b-ab44-77771f1ed3e0\",\"type\":\"LinearScale\"},\"y_range\":{\"id\":\"6ca52110-642a-48e7-86b7-e8694f666135\",\"type\":\"DataRange1d\"},\"y_scale\":{\"id\":\"52ed8080-1a0b-478b-9dbc-d8f985318dad\",\"type\":\"LinearScale\"}},\"id\":\"a874fbbb-c665-4455-b9f5-f3b46de8f54f\",\"subtype\":\"Figure\",\"type\":\"Plot\"},{\"attributes\":{\"fill_alpha\":{\"value\":0.5},\"fill_color\":{\"value\":\"red\"},\"line_alpha\":{\"value\":0.5},\"line_color\":{\"value\":\"red\"},\"size\":{\"units\":\"screen\",\"value\":10},\"x\":{\"field\":\"x\"},\"y\":{\"field\":\"y\"}},\"id\":\"d96f39c7-6ec7-4b2e-9c63-ab5c3e22678e\",\"type\":\"Circle\"},{\"attributes\":{\"label\":{\"value\":\"Test Data\"},\"renderers\":[{\"id\":\"990a5bdb-1fcf-4ac8-9804-0f7fbd532d39\",\"type\":\"GlyphRenderer\"}]},\"id\":\"8c0f49f5-d2f7-4f1f-b17b-3330cb2adccd\",\"type\":\"LegendItem\"},{\"attributes\":{\"active_drag\":\"auto\",\"active_inspect\":\"auto\",\"active_scroll\":\"auto\",\"active_tap\":\"auto\",\"tools\":[{\"id\":\"1f6b1ff5-96a6-4c18-8a09-466e2ca60484\",\"type\":\"PanTool\"},{\"id\":\"2c1e0d4d-d808-44b5-9302-6bccae19cb3b\",\"type\":\"WheelZoomTool\"},{\"id\":\"a49bd633-fb1a-47b9-af25-1e326867b1f1\",\"type\":\"BoxZoomTool\"},{\"id\":\"5ca67ecc-4d83-4078-beea-e5b70410954e\",\"type\":\"SaveTool\"},{\"id\":\"942404aa-3db9-4d5d-91e9-135eec0b3d2d\",\"type\":\"ResetTool\"},{\"id\":\"4aa669c5-cf35-4229-9812-4341ea823193\",\"type\":\"HelpTool\"},{\"id\":\"0aca6d28-b080-4cf9-981f-8f3e1162fa49\",\"type\":\"HoverTool\"}]},\"id\":\"8d8bc862-0643-45b8-ab7d-cfc0e20bafe0\",\"type\":\"Toolbar\"},{\"attributes\":{\"fill_alpha\":{\"value\":0.1},\"fill_color\":{\"value\":\"#1f77b4\"},\"line_alpha\":{\"value\":0.1},\"line_color\":{\"value\":\"#1f77b4\"},\"size\":{\"units\":\"screen\",\"value\":10},\"x\":{\"field\":\"x\"},\"y\":{\"field\":\"y\"}},\"id\":\"621558b0-e599-4fed-8832-0884ee6e892c\",\"type\":\"Circle\"},{\"attributes\":{\"source\":{\"id\":\"9429f7ec-520f-43ba-beb0-f72511120054\",\"type\":\"ColumnDataSource\"}},\"id\":\"9652cad0-5996-4652-8af8-1f9d1a37ba71\",\"type\":\"CDSView\"},{\"attributes\":{},\"id\":\"d875f4ae-43fb-43ad-ab36-d4b39ce9e02a\",\"type\":\"Selection\"},{\"attributes\":{\"callback\":null,\"data\":{\"desc\":[\"Cabramatta West - Mount Pritchard\",\"Rose Bay - Vaucluse - Watsons Bay\",\"Toronto - Awaba\",\"Thornton - Millers Forest\",\"Yagoona - Birrong\",\"Inverell Region - West\",\"Hassall Grove - Plumpton\",\"North Ryde - East Ryde\",\"Erina - Green Point\",\"Port Macquarie - East\",\"Tamworth Region\",\"Kiama Hinterland - Gerringong\",\"Dubbo Region\",\"Elderslie - Harrington Park\",\"Orange Region\",\"Queanbeyan\",\"Ballina\",\"Armidale Region - South\",\"Kurrajong Heights - Ebenezer\",\"Richmond - Clarendon\",\"Wollongong - West\",\"Ballina Region\",\"Jamisontown - South Penrith\",\"Sussex Inlet - Berrara\",\"Waitara - Wahroonga (West)\",\"Maroubra - West\",\"Seaham - Woodville\",\"Potts Point - Woolloomooloo\",\"Bargo\",\"Armidale Region - North\",\"Lavington\",\"Taree\",\"Newport - Bilgola\",\"Blacktown (West)\",\"Casino Region\",\"Williamtown - Medowie - Karuah\",\"Lambton - New Lambton\",\"Cromer\",\"Mount Annan - Currans Hill\",\"Wiley Park\",\"Cherrybrook\",\"Caringbah South\",\"Padstow\",\"Maitland\",\"Ashfield\",\"Glenwood\",\"Murwillumbah\",\"Tenterfield\",\"Jindabyne - Berridale\",\"Gosford - Springfield\",\"Orange - North\",\"Lennox Head - Skennars Head\",\"Nambucca Heads Region\",\"Belmont South - Blacksmiths\",\"Waratah - North Lambton\",\"Far West\",\"Gunnedah Region\",\"Port Macquarie Region\",\"Kingsford\",\"Bathurst\",\"Sans Souci - Ramsgate\",\"Doonside - Woodcroft\",\"Warriewood - Mona Vale\",\"Blayney\",\"Parklea - Kellyville Ridge\",\"Murwillumbah Region\",\"Yass\",\"Dover Heights\",\"Green Valley\",\"Greystanes - Pemulwuy\",\"Burwood - Croydon\",\"North Parramatta\",\"Ryde\",\"Riverwood\",\"Rosemeadow - Glen Alpine\",\"Mortdale - Penshurst\",\"Moree Region\",\"Bondi Junction - Waverly\",\"Newcastle - Cooks Hill\",\"The Entrance\",\"Broken Hill\",\"Coonamble\",\"Wagga Wagga - South\",\"Kiama Downs - Minnamurra\",\"Bondi Beach - North Bondi\",\"Strathfield South\",\"Lismore Region\",\"Narrabri Region\",\"Summerland Point - Gwandalan\",\"Kogarah\",\"Glebe - Forest Lodge\",\"Tweed Heads South\",\"Urunga\",\"Mayfield - Warabrook\",\"Balgownie - Fairy Meadow\",\"Gordon - Killara\",\"Bayview - Elanora Heights\",\"Terrey Hills - Duffys Forest\",\"Narwee - Beverly Hills\",\"Tuncurry\",\"Cessnock\",\"Merrylands - Holroyd\",\"Botany\",\"Corowa\",\"Guildford West - Merrylands West\",\"Chester Hill - Sefton\",\"Glendenning - Dean Park\",\"Wamberal - Forresters Beach\",\"Kyogle\",\"Belmont - Bennetts Green\",\"Auburn - Central\"],\"x\":{\"__ndarray__\":\"Co2t+aKCVD9+0hCm6kBxP7SLtxhxJVs/W44H6fNXYz/TV2zCVJpQPwBWAVgFYFU/+kVfDygFXD85YaZj8LR/P+tmBJ4W7ms/ZlAh310GdT8bBpb4kq1WPxMMvbWFJWs/70IljoaPUD9MMzaQdltjP5jcnB2Gd0s/vVG7ZI6Vgz8p7UZASruRP7qEPKCcoXQ/OnEvVnb1Rj9QgfVTYP2EP1ye2TEXk38/zkLC/8UCaz9efyF+G6plP7t+b6ma2nk/PPb0bYcTZj9O1G9eU0x5P/1aM4rgepA/DRjfuhqakD94iB8HOsxbP5k1X+JY9W8/hlJCrR4yeD/LC9IlUkRwP0XEO28+h2Y/KWpV8vdIXT/mFamadMSIPzdVHMWEFXQ/ytFYYpeCkD8xS0T75sSAP6oiASCmKmI//Z1tkn5oQT93sHx9Q6JeP+mv/De0gGo/sJ6aNbVPVz/YqPxAPrlqP/xSpRpr84E/Fmka/am8Yj8uH2cnqpx4P00XASrRdGE/8cDuX0pCfz9EGL8weqtrP5X7UAQiT2o/F1EI4HK2gj8WPoTXGv+GPxuaDDvEKWQ/pduIUkGGiT8pq8jQv7RhPzORX9oWKVY/KavI0L+0UT+WT7dsqiKKP4OlggvxfXM/xEG8Te9oYz8JMRb6fINJPx7UVt1yk3w/vdAmXMjOSj98cDuYSqJXP/dLhpegHmA/mv/WKvh1VD85S47Vaa1xP8XcYX6Ec0Q/X4M+ZhueXz8HI7KIv1pyPwSVy/7win8/3gzGR0rCcz/CceaffglBP5kcKgvFVk8/GFDLF1DLZz8k40sX9AhpPy4Dv6Nl5pk/zVjXeom/nD8hTqskzBRoP9QfDFOWe28/+AB8AD4AXz+CxauvGzJvP1x2MgXn0lo/OPk9eC2flz9XdL2tkV+YPz007RqOA2Q/kECD20PnkT+vE6v0JDKOP5H2MywDsmg/khyI8pOupT+l7/5nyjaEPyi8SRTSbmg/Gpf7u0srkD+ru6aUM7F9P89uRjScQnQ/mmB47qfaaj/mP7hFH1NuPxp80TpIjVA/Mks0I909dz9h7AikO65bP9Onhu5KMGE/SMaSBpUrhD+RkJCQkJBwPzQoiMc+xFA//XHovybTUD+gcnYLvxpjP5/DlyjfNmU/tKNLEl6VXj+3bdu2bdtmPxQ7sRM7sVM/\",\"dtype\":\"float64\",\"shape\":[111]},\"y\":{\"__ndarray__\":\"Mb+1GOhJUz9qHucipz+HPyBb2J8AD2o/86NvylJpYT8PMkGEErRXP3sBahAYs3k/CXlZk91bVj+OXPsbmnJ6PydbXvolA3I/cBvUSlZpgD8/RGblS2hsP3v4DGUiqW4/D6PcFQOzcz+WrGxtgUdhPzdV2Fj3mmU/IIHWvgNIfz96zJIIiAN9P5Sf+KzYzmo/muH/HmOsZj98liXTvT5pP6HPoFv7eXs/V4sjZ5zsdD8TylFGJWpjP4iCNdc5IHg/HBUdsbLrcz+bOmPu+lCFP4ghYgKQt3g/CQiQrgNUnT+PISHxw/xYP43Eso1m7YA/jEvQto0seT8E0ch8Sml9PzzPWwAJ9nw/DTNMHNkkXD9hZj7akGhkP+sH2TQ1C2M/BiompZyLgT/kucMD6xZ8P/rZgMefaHE/UcoT4CruYD8Ipp0mrFFrP9FosKhN5Gc/gRGX5lscZD8Y6vzb1vZiP38YZAp5jIY/hA5St0W/bT8BkVIQDd9vP5FcxW46IXE/l+HKCucCgD/48v5AEdV1PxhEdp7Eb3U/cXOv3ePSdz+8tXqhItdiP2PdCydQFWs/7e5OXyITgT8YDAu0/YqTPy6pYC+QL34/UkztiwC+ZD/xOl7zoEyQP4/o+pOtwHc/040b/RRgaj+FcDwt1ZpYP1T/nbQ9bHc/YPu+ROwLZj8gs3QNDxB5PxMvWjHupnQ/prxzmx2gcT8OgfhztgqOP5iFoAzE00s/seTDtvwWYz/JRtrJFit6P2VQWmO0424/Dp+bgO7Nej87rX8oAaBgP7MJRaDmP1c/IkxE9ESmcD+glYaTQBGEP+W8jWkecZU/SP0Bt0OMlD9kU3WG0d9xP+SyFemDmXw/Eb/Mg+bngD8kq4DlRXp5P7E3KhDAymc/ZBZm08Rynj+Qz0rFKRuAP0p4o9teaHI/kO8iAaSugT/mDv3MgKhbP7jw0H8gYWo/c+iMPNP+oz9PwKhKerB4P79Iz8orTHE/D0CBKM2ogz/6Ze6DgiJ3P4bJrpQi0ng/8WxXg9GOdz+DwhmkzduKP7hx6NOX12M/P5QY8dBXeT80+Bd1n5JmP7IUL495Jl8/Vg/g9g8bhD8Dyb9sge5xP+AlZYNpIFs/IdVdFKHmWj9MmL/Pj15XP+0CmpCd7Wk/dHA8RZ45aT8giXBEICRpPzzUtxa1VVw/\",\"dtype\":\"float64\",\"shape\":[111]}},\"selected\":{\"id\":\"d875f4ae-43fb-43ad-ab36-d4b39ce9e02a\",\"type\":\"Selection\"},\"selection_policy\":{\"id\":\"81686c87-5656-4f9c-b767-31f29644406e\",\"type\":\"UnionRenderers\"}},\"id\":\"21329d2c-e65e-4c63-a3d3-b432260f3a2a\",\"type\":\"ColumnDataSource\"},{\"attributes\":{},\"id\":\"81686c87-5656-4f9c-b767-31f29644406e\",\"type\":\"UnionRenderers\"},{\"attributes\":{\"line_alpha\":0.1,\"line_color\":\"#1f77b4\",\"x\":{\"field\":\"x\"},\"y\":{\"field\":\"y\"}},\"id\":\"ecec253a-be1d-443b-b140-ebc8ecd8a376\",\"type\":\"Line\"},{\"attributes\":{\"callback\":null},\"id\":\"85a9ed6c-125f-4843-9e44-d653b9fd9ba8\",\"type\":\"DataRange1d\"},{\"attributes\":{},\"id\":\"8b0e73a5-082e-42f7-bd64-a174ba0de276\",\"type\":\"UnionRenderers\"},{\"attributes\":{\"label\":{\"value\":\"Train Data\"},\"renderers\":[{\"id\":\"8b378a81-5e5b-44a3-bd94-563fc74ecd04\",\"type\":\"GlyphRenderer\"}]},\"id\":\"be4844d8-c7c5-4683-aa25-14ba4cf877de\",\"type\":\"LegendItem\"},{\"attributes\":{\"callback\":null,\"data\":{\"desc\":[\"Quirindi\",\"Rockdale - Banksia\",\"Stockton - Fullerton Cove\",\"Gilgandra\",\"Wangi Wangi - Rathmines\",\"Helensburgh\",\"Bega - Tathra\",\"Nyngan - Warren\",\"Concord West - North Strathfield\",\"Hornsby - East\",\"Bonnells Bay - Silverwater\",\"Blacktown (North) - Marayong\",\"Dorrigo\",\"Hamilton - Broadmeadow\",\"Narara\",\"Korora - Emerald Beach\",\"Camden - Ellis Lane\",\"Niagara Park - Lisarow\",\"Corrimal - Tarrawanna - Bellambi\",\"Penrith\",\"Moss Vale - Berrima\",\"Chatswood (West) - Lane Cove North\",\"North Sydney - Lavender Bay\",\"Warwick Farm\",\"Panania - Milperra - Picnic Point\",\"Albury - North\",\"Warragamba - Silverdale\",\"Parramatta - Rosehill\",\"Lawson - Hazelbrook - Linden\",\"Lake Munmorah - Mannering Park\",\"Canley Vale - Canley Heights\",\"Hunters Hill - Woolwich\",\"Randwick - South\",\"St Georges Basin - Erowal Bay\",\"Belmore - Belfield\",\"Taree Region\",\"Chatswood (East) - Artarmon\",\"Bolton Point - Teralba\",\"Casula\",\"Ulladulla\",\"Willoughby - Castle Cove - Northbridge\",\"Lalor Park - Kings Langley\",\"Tomerong - Wandandian - Woollamia\",\"St Clair\",\"Greenacre - Mount Lewis\",\"Bulahdelah - Stroud\",\"Winston Hills\",\"Southern Highlands\",\"Austral - Greendale\",\"Granville - Clyde\",\"St Ives\",\"Batemans Bay - South\",\"Redhead\",\"Roselands\",\"Wingham\",\"Woollahra\",\"Lismore\",\"Dulwich Hill - Lewisham\",\"Gymea - Grays Point\",\"Maitland - West\",\"Newtown - Camperdown - Darlington\",\"Avalon - Palm Beach\",\"Corowa Region\",\"Leichhardt - Annandale\",\"Queanbeyan Region\",\"Tuggerah - Kangy Angy\",\"Dee Why - North Curl Curl\",\"South Hurstville - Blakehurst\",\"Old Bar - Manning Point - Red Head\",\"Glen Innes\",\"Blacktown (East) - Kings Park\",\"Kogarah Bay - Carlton - Allawah\",\"Springwood - Winmalee\",\"Wentworth-Balranald Region\",\"Maitland - North\",\"Mudgee\",\"Wagga Wagga - West\",\"Huskisson - Vincentia\",\"Sawtell - Boambee\",\"Narromine\",\"Bexley\",\"Cowra Region\",\"Berry - Kangaroo Valley\",\"Hurstville\",\"Castle Hill - West\",\"Dubbo - South\",\"Adamstown - Kotara\",\"Shortland - Jesmond\",\"Woonona - Bulli - Russell Vale\",\"Balgowlah - Clontarf - Seaforth\",\"Moree\",\"Wallsend - Elermore Vale\",\"Broulee - Tomakin\",\"Waterloo - Beaconsfield\",\"Galston - Laughtondale\",\"Queanbeyan West - Jerrabomberra\",\"Minto - St Andrews\",\"Castle Hill - East\",\"Cabramatta - Lansvale\",\"Mount Hutton - Windale\",\"Cooma\",\"Wyoming\",\"Bega-Eden Hinterland\",\"Casino\",\"Campbelltown - Woodbine\",\"St Leonards - Naremburn\",\"Cremorne - Cammeray\",\"Muswellbrook Region\",\"Tumut Region\",\"Homebush\",\"Carlingford\",\"Maitland - East\",\"Lindfield - Roseville\",\"Dubbo - West\",\"Kingswood - Werrington\",\"Box Head - MacMasters Beach\",\"Parkes (NSW)\",\"Valentine - Eleebana\",\"Cobbitty - Leppington\",\"Sylvania - Taren Point\",\"Malabar - La Perouse - Chifley\",\"Ingleburn - Denham Court\",\"Grafton\",\"Mullumbimby\",\"Point Clare - Koolewong\",\"Bass Hill - Georges Hall\",\"Bankstown - South\",\"Oyster Bay - Como - Jannali\",\"Albion Park Rail\",\"Hornsby - West\",\"Beacon Hill - Narraweena\",\"Blaxland - Warrimoo - Lapstone\",\"Chipping Norton - Moorebank\",\"Coonabarabran\",\"Regents Park\",\"Saratoga - Davistown\",\"Guildford - South Granville\",\"Mudgee Region - East\",\"Tweed Heads\",\"Shellharbour - Oak Flats\",\"Charlestown - Dudley\",\"Epping - North Epping\",\"Erskineville - Alexandria\",\"Young\",\"Canterbury (North) - Ashbury\",\"Oberon\",\"Woolgoolga - Arrawarra\",\"Sydenham - Tempe - St Peters\",\"Glenmore Park - Regentville\",\"Terrigal - North Avoca\",\"Mulgoa - Luddenham - Orchard Hills\",\"Goulburn\",\"Randwick - North\",\"Tamworth - North\",\"Haberfield - Summer Hill\",\"Tea Gardens - Hawks Nest\",\"Bathurst - East\",\"Sydney - Haymarket - The Rocks\",\"Manly - Fairlight\",\"Drummoyne - Rodd Point\",\"Laurieton - Bonny Hills\",\"Dural - Kenthurst - Wisemans Ferry\",\"Beresfield - Hexham\",\"Balmain\",\"Smithfield - Wetherill Park\",\"Auburn - South\",\"West Ryde - Meadowbank\",\"Woolaware - Burraneer\",\"Inverell Region - East\",\"Turramurra\",\"Griffith Region\",\"Condell Park\",\"Gladesville - Huntleys Point\",\"Eurobodalla Hinterland\",\"Scone\",\"Chittaway Bay - Tumbi Umbi\",\"Bradbury - Wedderburn\",\"Orange\",\"Jilliby - Yarramalong\",\"Callala Bay - Currarong\",\"Horsley Park - Kemps Creek\",\"Narrabeen - Collaroy\",\"Nambucca Heads\",\"Banora Point\",\"Illawong - Alfords Point\",\"Menai - Lucas Heights - Woronora\",\"Hoxton Park - Carnes Hill - Horningsea Park\",\"Sutherland - Kirrawee\",\"Kingscliff - Fingal Head\",\"Coogee - Clovelly\",\"Castle Hill - North\",\"Wentworth - Buronga\",\"Inverell\",\"Berowra - Brooklyn - Cowan\",\"Toukley - Norah Head\",\"Nelson Bay Peninsula\",\"Kariong\",\"Dungog\",\"Queanbeyan - East\",\"Cobar\",\"Liverpool\",\"Narooma - Bermagui\",\"Mount Druitt - Whalan\",\"Pennant Hills - Cheltenham\",\"Coramba - Nana Glen - Bucca\",\"Pymble\",\"Miranda - Yowie Bay\",\"Edgeworth - Cameron Park\",\"Berala\",\"St Marys - North St Marys\",\"Cowra\",\"Nowra\",\"Forbes\",\"Rouse Hill - Beaumont Hills\",\"Katoomba - Leura\",\"Ulladulla Region\",\"Cambridge Park\",\"Wahroonga (East) - Warrawee\",\"Normanhurst - Thornleigh - Westleigh\",\"Kellyville\",\"Horsley - Kembla Grange\",\"Northmead\",\"Douglas Park - Appin\",\"Coffs Harbour - North\",\"Bowral\",\"Bellingen\",\"Morisset - Cooranbong\",\"Ashcroft - Busby - Miller\",\"Kempsey\",\"Robertson - Fitzroy Falls\",\"Grenfell\",\"Lakemba\",\"Macquarie Park - Marsfield\",\"Cecil Hills\",\"Lithgow Region\",\"Engadine\",\"Albury - South\",\"Tamworth - West\",\"Wentworthville - Westmead\",\"Port Macquarie - West\",\"Hinchinbrook\",\"Moama\",\"Lilyfield - Rozelle\",\"Evans Head\",\"Merimbula - Tura Beach\",\"Tumbarumba\",\"Bonnyrigg Heights - Bonnyrigg\",\"Berkeley - Lake Heights - Cringila\",\"Braidwood\",\"Castlereagh - Cranebrook\",\"Goulburn Region\",\"Blacktown (South)\",\"Karabar\",\"Wagga Wagga Region\",\"Kurri Kurri - Abermain\",\"Edensor Park\",\"North Rocks\",\"Punchbowl\",\"Windang - Primbee\",\"Acacia Gardens\",\"Wollongong - East\",\"Heathcote - Waterfall\",\"Eastwood - Denistone\",\"Calga - Kulnura\",\"Asquith - Mount Colah\",\"Thirroul - Austinmer - Coalcliff\",\"Kincumber - Picketts Valley\",\"Pitt Town - McGraths Hill\",\"Deniliquin Region\",\"Pendle Hill - Girraween\",\"Lurnea - Cartwright\",\"Cessnock Region\",\"Bankstown - North\",\"Griffith (NSW)\",\"Monterey - Brighton-le-Sands - Kyeemagh\",\"Mascot - Eastlakes\",\"Temora\",\"Muswellbrook\",\"Shellharbour - Flinders\",\"Batemans Bay\",\"Cronulla - Kurnell - Bundeena\",\"Forestville - Killarney Heights\",\"Bidwill - Hebersham - Emerton\",\"Port Kembla - Warrawong\",\"Culburra Beach\",\"Dapto - Avondale\",\"Swansea - Caves Beach\",\"Yass Region\",\"Wagga Wagga - East\",\"Albion Park - Macquarie Pass\",\"Freshwater - Brookvale\",\"Walcha\",\"West Wyalong\",\"Lithgow\",\"Baulkham Hills (East)\",\"West Pennant Hills\",\"Bondi - Tamarama - Bronte\",\"Grafton Region\",\"Wentworth Falls\",\"Kempsey Region\",\"Fairfield - East\",\"Quakers Hill\",\"Paddington - Moore Park\",\"Petersham - Stanmore\",\"Warilla\",\"Moruya - Tuross Head\",\"Glenhaven\",\"Ermington - Rydalmere\",\"South West Rocks\",\"Glendale - Cardiff - Hillsborough\",\"Macksville - Scotts Head\",\"Croydon Park - Enfield\",\"Redfern - Chippendale\",\"Kiama\",\"Concord - Mortlake - Cabarita\",\"Avoca Beach - Copacabana\",\"Kingsgrove (South) - Bardwell Park\",\"Erskine Park\",\"Tamworth - East\",\"Frenchs Forest - Belrose\",\"Singleton\",\"Arncliffe - Bardwell Valley\",\"Armidale\",\"Windsor - Bligh Park\",\"Forster-Tuncurry Region\",\"Greenfield Park - Prairiewood\",\"Castle Hill - Central\",\"Emu Plains - Leonay\",\"Warnervale - Wadalba\",\"Wauchope\",\"Gorokan - Kanwal - Charmhaven\",\"Mudgee Region - West\",\"Singleton Region\",\"Hill Top - Colo Vale\",\"Merewether - The Junction\",\"Peakhurst - Lugarno\",\"Deniliquin\",\"Blue Haven - San Remo\",\"Anna Bay\",\"Picton - Tahmoor - Buxton\",\"Leumeah - Minto Heights\",\"Manly Vale - Allambie Heights\",\"Eden\",\"Toongabbie - Constitution Hill\",\"Budgewoi - Buff Point - Halekulani\",\"Dubbo - East\",\"Maroubra - North\",\"Pottsville\",\"Lilli Pilli - Port Hacking - Dolans Bay\",\"Castle Hill - South\",\"Bangalow\",\"Branxton - Greta - Pokolbin\",\"Maryland - Fletcher - Minmi\",\"Byron Bay\",\"Walgett - Lightning Ridge\",\"Strathfield\",\"North Nowra - Bomaderry\",\"Cootamundra\",\"Narrandera\",\"Darlinghurst\",\"St Johns Park - Wakeley\",\"Coffs Harbour - South\",\"Caringbah\",\"Crows Nest - Waverton\",\"Lane Cove - Greenwich\",\"Macquarie Fields - Glenfield\",\"Double Bay - Bellevue Hill\",\"Oatlands - Dundas Valley\",\"Wickham - Carrington - Tighes Hill\",\"Figtree - Keiraville\",\"Gloucester\",\"Woy Woy - Blackwall\",\"Five Dock - Abbotsford\",\"Seven Hills - Toongabbie\",\"Bateau Bay - Killarney Vale\",\"Mosman\",\"Bourke - Brewarrina\",\"Albury Region\",\"Unanderra - Mount Kembla\",\"Goonellabah\",\"Bathurst Region\",\"Tumut\",\"Homebush Bay - Silverwater\",\"Lidcombe\",\"Scone Region\",\"Pagewood - Hillsdale - Daceyville\",\"Lemon Tree Passage - Tanilba Bay\",\"Albury - East\",\"Fairfield - West\",\"West Hoxton - Middleton Grange\",\"Oatley - Hurstville Grove\",\"Lethbridge Park - Tregear\",\"Mittagong\",\"Young Region\",\"West Wallsend - Barnsley - Killingworth\",\"Bilpin - Colo - St Albans\",\"Leeton\",\"Neutral Bay - Kirribilli\",\"Pyrmont - Ultimo\",\"Blackheath - Megalong Valley\",\"Wellington\",\"Prestons - Edmondson Park\",\"Bossley Park - Abbotsbury\",\"Kensington (NSW)\",\"Gunnedah\",\"Riverstone - Marsden Park\",\"Gundagai\",\"Revesby\",\"Claymore - Eagle Vale - Raby\",\"Ourimbah - Fountaindale\",\"Baulkham Hills (West) - Bella Vista\",\"Junee\",\"Surry Hills\",\"Bombala\",\"Yarramundi - Londonderry\",\"Wyong\",\"Tocumwal - Finley - Jerilderie\",\"Marrickville\",\"Warners Bay - Boolaroo\",\"Putney\",\"Fairfield\",\"Holsworthy - Wattle Grove\",\"Kingsgrove (North) - Earlwood\",\"Condobolin\",\"Colyton - Oxley Park\",\"The Oaks - Oakdale\",\"Umina - Booker Bay - Patonga\",\"Parkes Region\",\"Cooma Region\",\"Canterbury (South) - Campsie\",\"Hay\",\"Narrabri\",\"Raymond Terrace\",\"Terranora - North Tumblegum\",\"Brunswick Heads - Ocean Shores\",\"Rooty Hill - Minchinbury\",\"Maroubra - South\",\"Wagga Wagga - North\",\"Forster\",\"Maclean - Yamba - Iluka\",\"Auburn - North\"],\"x\":{\"__ndarray__\":\"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\",\"dtype\":\"float64\",\"shape\":[441]},\"y\":{\"__ndarray__\":\"xIfrP3f3gD8u+wuA2LRpP8/BpOOAnng/+AHtLij4az9pvIEV9AVZP8NV5UDlqGo/u46NuuaDdj/BYCAWh0l3P9yaORaf8Hc/YcIBARoIaD8vdwvyRz5XP6SwMq9YR10/vf8EjO2geT+N+2bpirqXP5OS61e0dmI/89Bla3d3Yz+sBOBLY7dUP1RxxqLG72E/5CKHioqLdj+NLjJXjt5wPxcrk7yKA2g/yYNikqd1iD/RcUz8SRmKP6Fea9HCXIQ/ANJOazQ/Yj8kmQXywqt8P/P4ckuBwlU/QTJO9Q/UcT/yCopAmDJoP5ibackG7lM/zbq1ze/mWD8KcwXbdeR+P+Us4zcTUpc/QGgRMHI5Zz/JymAW62liPxxR9xJGdF8/VuKS6KpbgD+BynCwfYldP29+4mFMTFM/KTVFIwtxcD8MELpSBFKEP6CrSm7Gj2U/LrMkZ8oYfj/PKMSj1upUP3jXqMlQ9WI/NXWn6YIeYz/fMPHh4zNkP24XJRcBrW8/IRI9/XOEWj+qIhGFUB5gP932wGTAL3A/Lu2b3a0Abz9aPF6c8kGCPwxBQqMZU1U/xTyD01LfZj/ZpMYvEiuQPxPEZNjQi4U/441lk6eBmT9fs2saA6pzP5S/tiwJS14/JrBBF+jYpj/AsSOZ0xKCP4MPS/uno3A/QOJ/fb0Enz/iqIZjbYlzP0jnUkoHxGg/ffIXwKHQhT85TrKyCExgP0hVq8WtpmE/ysKvVn0tbT/Jj5XiCedgP4cMuybipmE/uK2ujlZEbj/2vMLfnW+CPyXC+I8EFHI/lInNCH4RbT/NhxRHV2ODP9+LMUQCw4A//1P7cuttfT/3csh0dWNxP2qfS1I0uGc/WFEMdU+ZZT/03cjSf3htP6S5G73Tbl0/mLohFEpmij+mSSkj/X97PxR55w/xJ4U/iNqsDgTQfj8tucJejDp5P78GFazlTok/0OFm+dQ0cj8CiDCp7PNyP5QmU14jLIs/JRqEEmOanj+ImiJ0UiplP0irQ9RRvoE/l9Hzs//8VD+tUiasCAJwP9PLnMyT3l8/lncXvw9DZD8MQqLD88l2P+qemWTu3GM/MnqOVfcaYj//i/G/98FwP9IR2rV5IVw/YDhQk42XiD8BLkuz+BOKP6xxP7E/RJM/Cb13kOylYj8UELy1RyJyP2pF/fXze2g/BIbFqePBaD9IUDw+GA5/P78yO+c3FnA/aPzr7JbxXj9UPTcdJzpiP+U3lMIlDGs/ZGC3cPcvdD/GnBDkpwVRP2x4fqg6WGQ/4M4kRR8/gT+RvaSxsiBdP1VB3y2gHIM/YX8RAGNsjT84R5EZOHBzPwVB7sr4sFc/NOr++4PJWD8td5JgS4xwP3w//0ZTAmg/turbfXaDbD/WrIkCyGV3P4O5QmV9NnE/xNR8AWSAYD+ja2/r5xVjPxThc46Td2U/bNU74q6fYT84auli5VNXP/RxaUmCBpM/mLX0pf0xfz82oi0FYFhhP3qqkTXmpH0//2v9mpJmcz/drGdMSrOpP13MMq3eF2Q/LeDQBsfUiD/8wY5PBJVlPyJ9CAE1DmM/5sIeKUFEnz+YGdCOIi1nP0AOO+cPy2Y/AJqY2Ds9Vj8Ky+i1TSVsPxO2hxgtfKE/Q4Pv/D4Cdj/UPEoFQTqUP0gVlFdjbnY/aYrWHA3dbT+YCbUCBYiEP3ghq/WJhJI/Zcm97bOljD8/uXWojLBjPz7IFGAG0WI/Kk/auNo8ZT/TFUP261iWPxXyzfjeCGA/rM3SgyJ4WT8OiKUh++hyP6gqkkTqV3s/enGGVngmiT/mkITHI1Z6P90EdKIV2Gc/UZ9MiGwlUz+KisNNdpOBP1/Ezpxm7nM/tDH6MEZYcT/99V8PYDpuP1JVjGI51FQ/fLp38Ivmej9W5vD9PxGVP48Q3yqdhnQ/PJYOJYAojz9h9QlOwSl7P3cGapfVJ4U/w7JMPTYPeT8/bylRMONYPzzjJ4zlp2M/Wur3ozPJSz+lUFz2Mlp1P45o5vITIn4/btuRSG7rnD/UEpICoxZmP+reBtRoWGk/Pw8YaTFzcD97KrrnKAFpP0uZNa7XsmE/ObNkYtW/cT/N9/Xyp21lP24WlRM8Z2Y/V+4mu6Cpfj9uLoseWm2BP/0z+m4YzFc/bPvnFcaEaj9vhfALnMxRP0J4l8swyHA/eghNeBdvaT83T2j39A14PyWkFg+gwWk/ikfVODrGWz+opr2au1tdP9H236moWWY/Tg9gzEiPaT80UILhbuV4P82rccjECmo/jqzQYsHUaD+TRt35KUyDPyoX0tnN9V8/3zekyDmtYz+sLS35PPR1P7LCASn3bnA/WNf94TsqZj8F6NeJMqhmP6og/RIwK2Y/nLsLGvYYXz8HcBtvYiaBPzol8ihegHE/qkcok+ireT+6HRMjgCFhP9Lqrpn56l0/+M0itFFhZj8WMOmGzb+TP/fZllqoFIA/lnFK03UgVT/2JHE5UXt2P1yd2EVBJ1Q/LBswi3DSWj+AUwUJsJZlP9wcvHPO0Ic/ilG59+GWcz+I0GtPkDNiP8E5wXbJwHw/wd2tzN0tSj8crt7T4eB5PwZHyh1jD5w/+1O1MtYhfD/gUY41mcFuPzzlRypd8ZM/AZqiklrCTT+pFupnhABiPw+IqJB29HQ/3wuYA8fEXD9JtqZPnZVdPzMqo1u/mlw/YR1a8IE5cj/fl/UC4RtpP1QS836oL1o/LtC/Lc1NTD82JPAMMt5rP1RY8UUxQlg/DQZpWCYjcD+is/31WAiSP2RQUcdUIYg/BfNJQDFHaD8KxuA5MOFwP/hIklRJq4s/XSX4O00fbT8F++V4u+56P79PLHa5uGY/ZaO+W0REXj8N7MN9GAxsP+NFShEnWmA/qtN2hbY0Tz+6vo8MRlZ7P+9uG5aTRlg/mSUBZHIudD+GGTyaGnNoP5aYEEI3g4M/Br3nRBw5cj9uSSWLbwhlPwcss9Ni1GE/jrY6G//Kbz/z+dhBdqWAPy0bFK3K6Hg/Ia5Zp35GYj9clzTED95uP0TqMH2PqGg/plQiV15JXT9vGXvKu8ZjPz8SpeKo4WQ/XLBjYFEvdz+IcPXjkGZXP8irfPmQmZE/1xq1C/2ylz8SAfYhNwVxP1qtrlvRQG0/jALLM5sCZz+P210ZiEhpP3jAMZKkwp8/U06kGGBgXD+KwL/7cJFpPxj8LLcmpmw/vCa4vyBkWz/xka66F1phP/hVuuuqY54/9RDYGIfcoz9f4MBd1pVlP/icGknKDnI/ZeBUTUxbaT9Sxhw/AqtzPzcvJJVbN2s/dHlw+a5QdT/mHJ/ZujNrPylwupzal3s/6F8HDmHYpD9Wnauq415mPzH+3w7zRHg/z2pKtN5AZT9kti/IlKpmPykuxCLVLl4/U6CGnfJ4dD+RLwmMg/91Pz0MgdrolGs/dsRkh0erfD/xNQDrocuCPw4/3ljcN2c/VnCMReyUXz+d9vNqLZBOP6H1PoOOaGc/RnhOFtjhZz9fEtRd6OhfP1FDtGsNcF4/C2mGghOVYj/UjkOvJP1XP2hF+qk2Oo0/yFVX+CTRUz+/W2NLfiWYP4aXzldmTmQ/zTMNevcBez87SMR28QJWP9RnyfaYCWI/KjMJr1aaWD9/MCYqg75YPxj8f1UPaIs/tj+VPEAEdj8jlY9M9hBtP0YmaI52WFs/dNdXE1Ydcj9z9NFS//KLP8OLe5zJs3M/NKcao5Uagj/BeawZvo5lP64kfeQNT4Y/GP+nWuoxWD8IYKfDE2NqP2xZZ0aiXaM/X0OEkX7Ncz+JxGvMD1hnP+gX142VEXs/YXbc4aDOcj9OdGfD4CZwPw/OPpI8ZZs/7g0IJXNYTz/j287hCN2DP5yNMpZu8Gs/3TWXm+O7jz9DkDCto2KFP398sVTQuVQ/UtX+6KSZjD8TBXGWyJRoPz+j8LmTYKU/Eb0l64/7eD9a+ztWaXhtP3KSqfHlLG0/nN0lOHdehj8TQ+8s7DRiP5GgIEii6Gc/LBDePKOdhD88jKQsyrKHP+M/XkWCU2c/ehA4Le4ScT/ylwbhHCZtP6aZgwQ8TmA/mHvgGHaGbz9075/LoXV4P/t00F+qH2c/sh6mCP+HYj8UQg9ycjSCP+jvPHAJlmQ/ikMCERcRfD8t0ipzQQFYP32bKWS9Ikw/r7RH4R9zaz/xjv8IRtdWP6zCZcVYpmU/A1IJmJOpYT8bi/e9G0VfPwbialpbSZk/4JbcBtEycz9gHIKTgECRP3NKStzDIpM/Uj2JDCXzdj+N3RPQagRfPwGn6K66YFE/BA9WzHzGUz/qyXqUdCCVP/o+mOJ/d2U/7AVcsRiUYD9bpfJwm4qTP7dCszYt/WQ/EsZ820ZPVT9IQus4ThZoP7vFgrWx0Gw/s4VLsDRiZT8rFE4gW1mgPxFLcNd1SZw/VUEb014MVD9SxFhRs9xdP5Yuw7sE6HU/zT5k+ByAnj/GmrIwcw9sP1P6yB0XsIA/mlWFkteIYD+k0pSBswh1P7qdGXPnNX8/umHrkchlZD+UFtx1Ki1XPxECegv2DFA/vdc7ap2tbD/OB/26sgN3P1qci/7zL5c/PF/i83/eaT86bi3N6zGBP1G9MhFnznE/yIxZUp7CYT/f6Q2Tf317PwRDTJaDKoE/2G2Fvj4rVT/R1FF1aVuPP2SGpl/pL4Y/o3Vtn0yTeD/v8Ylk4Od2P+VGX5c3LGM/\",\"dtype\":\"float64\",\"shape\":[441]}},\"selected\":{\"id\":\"b370f244-66dc-4aa6-bbfd-059a868f6067\",\"type\":\"Selection\"},\"selection_policy\":{\"id\":\"5c2b0bc7-7443-457e-84ef-932132d8cd07\",\"type\":\"UnionRenderers\"}},\"id\":\"9429f7ec-520f-43ba-beb0-f72511120054\",\"type\":\"ColumnDataSource\"}],\"root_ids\":[\"a874fbbb-c665-4455-b9f5-f3b46de8f54f\"]},\"title\":\"Bokeh Application\",\"version\":\"0.12.16\"}};\n",
       "  var render_items = [{\"docid\":\"3d37b1e8-47e2-48d2-955d-8345e4ade03b\",\"elementid\":\"f8145189-b237-4135-b764-7b09824d3998\",\"modelid\":\"a874fbbb-c665-4455-b9f5-f3b46de8f54f\"}];\n",
       "  root.Bokeh.embed.embed_items_notebook(docs_json, render_items);\n",
       "\n",
       "  }\n",
       "  if (root.Bokeh !== undefined) {\n",
       "    embed_document(root);\n",
       "  } else {\n",
       "    var attempts = 0;\n",
       "    var timer = setInterval(function(root) {\n",
       "      if (root.Bokeh !== undefined) {\n",
       "        embed_document(root);\n",
       "        clearInterval(timer);\n",
       "      }\n",
       "      attempts++;\n",
       "      if (attempts > 100) {\n",
       "        console.log(\"Bokeh: ERROR: Unable to run BokehJS code because BokehJS library is missing\")\n",
       "        clearInterval(timer);\n",
       "      }\n",
       "    }, 10, root)\n",
       "  }\n",
       "})(window);"
      ],
      "application/vnd.bokehjs_exec.v0+json": ""
     },
     "metadata": {
      "application/vnd.bokehjs_exec.v0+json": {
       "id": "a874fbbb-c665-4455-b9f5-f3b46de8f54f"
      }
     },
     "output_type": "display_data"
    },
    {
     "name": "stdout",
     "output_type": "stream",
     "text": [
      "Train data R2 score: 0.9525115043377248\n",
      "Test data R2 score: 0.5194135463236016\n"
     ]
    }
   ],
   "source": [
    "def evaluate_model(model, X_train, X_test, y_train, y_test):\n",
    "    y_pred = model.predict(X_test)\n",
    "    y_train_pred = model.predict(X_train)\n",
    "\n",
    "    output_notebook()\n",
    "\n",
    "    hover = HoverTool()\n",
    "    test_source = ColumnDataSource(data=dict(\n",
    "        x=y_test,\n",
    "        y=y_pred,\n",
    "        desc=y_test.index,\n",
    "    ))\n",
    "\n",
    "    train_source = ColumnDataSource(data=dict(\n",
    "        x=y_train,\n",
    "        y=y_train_pred,\n",
    "        desc=y_train.index,\n",
    "    ))\n",
    "\n",
    "    p = figure(plot_width = 600, plot_height = 400, x_axis_label = 'Acutal', y_axis_label = 'Prediction')\n",
    "\n",
    "    p.circle('x', 'y', size=20, color = 'navy', alpha = 0.5, source = test_source, legend = 'Test Data')\n",
    "    p.circle('x', 'y', size=10, color = 'red', alpha = 0.5, source = train_source, legend = 'Train Data')\n",
    "    p.line([0,max(y_test)],[0, max(y_test)], legend = 'line of perfect fit')\n",
    "    hover.tooltips = [\n",
    "        (\"index\", '$index'),\n",
    "        (\"(x,y)\", \"($x, $y)\"),\n",
    "        (\"desc\", \"@desc\"),\n",
    "    ]\n",
    "\n",
    "    p.tools.append(hover)\n",
    "    p.legend.location = 'top_left'\n",
    "    p.legend.click_policy=\"hide\"\n",
    "    show(p)\n",
    "    print(\"Train data R2 score: {}\".format(r2_score(y_train, y_train_pred)))\n",
    "    print(\"Test data R2 score: {}\".format(r2_score(y_test, y_pred)))\n",
    "    return y_pred, y_train_pred\n",
    "\n",
    "y_pred, y_train_pred = evaluate_model(rf, X_train, X_test, y_train, y_test)"
   ]
  },
  {
   "cell_type": "markdown",
   "metadata": {},
   "source": [
    "A 50% r2 score on out test data isn't too bad! But the fact that we're getting a 95% R2 score on our train data would suggest that we're over-fitting quite a bit. Let's do some grid-searching to see if we can improve this model"
   ]
  },
  {
   "cell_type": "code",
   "execution_count": 10,
   "metadata": {},
   "outputs": [
    {
     "name": "stdout",
     "output_type": "stream",
     "text": [
      "Test data R2 score for values below 1% cyclists: -0.86\n",
      "Proportion of data below 0.02: 84.68%\n"
     ]
    }
   ],
   "source": [
    "print('Test data R2 score for values below 1% cyclists: {:0.2f}'.format(r2_score(y_test[y_test<0.01], y_pred[y_test<0.01])))\n",
    "print('Proportion of data below 0.02: {:0.2f}%'.format(100*sum(y_test<0.01)/y_test.shape[0]))"
   ]
  },
  {
   "cell_type": "code",
   "execution_count": 11,
   "metadata": {},
   "outputs": [
    {
     "name": "stdout",
     "output_type": "stream",
     "text": [
      "{'n_estimators': [20, 40, 60, 80, 100, 120, 140, 160, 180, 200], 'max_features': ['auto', 'sqrt'], 'max_depth': [10, 20, 30, 40, 50, 60, 70, 80, 90, 100, 110, None], 'min_samples_split': [2, 5, 10], 'min_samples_leaf': [1, 2, 4], 'bootstrap': [True, False]}\n"
     ]
    }
   ],
   "source": [
    "from sklearn.model_selection import RandomizedSearchCV\n",
    "\n",
    "# Number of trees in random forest\n",
    "n_estimators = [int(x) for x in np.linspace(start = 20, stop = 200, num = 10)]\n",
    "# Number of features to consider at every split\n",
    "max_features = ['auto', 'sqrt']\n",
    "# Maximum number of levels in tree\n",
    "max_depth = [int(x) for x in np.linspace(10, 110, num = 11)]\n",
    "max_depth.append(None)\n",
    "# Minimum number of samples required to split a node\n",
    "min_samples_split = [2, 5, 10]\n",
    "# Minimum number of samples required at each leaf node\n",
    "min_samples_leaf = [1, 2, 4]\n",
    "# Method of selecting samples for training each tree\n",
    "bootstrap = [True, False]\n",
    "\n",
    "# Create the random grid\n",
    "random_grid = {'n_estimators': n_estimators,\n",
    "               'max_features': max_features,\n",
    "               'max_depth': max_depth,\n",
    "               'min_samples_split': min_samples_split,\n",
    "               'min_samples_leaf': min_samples_leaf,\n",
    "               'bootstrap': bootstrap}\n",
    "\n",
    "print(random_grid)"
   ]
  },
  {
   "cell_type": "code",
   "execution_count": 12,
   "metadata": {},
   "outputs": [
    {
     "name": "stdout",
     "output_type": "stream",
     "text": [
      "Fitting 3 folds for each of 100 candidates, totalling 300 fits\n"
     ]
    },
    {
     "ename": "KeyboardInterrupt",
     "evalue": "",
     "output_type": "error",
     "traceback": [
      "\u001b[1;31m---------------------------------------------------------------------------\u001b[0m",
      "\u001b[1;31mKeyboardInterrupt\u001b[0m                         Traceback (most recent call last)",
      "\u001b[1;32m<ipython-input-12-d1c412018707>\u001b[0m in \u001b[0;36m<module>\u001b[1;34m()\u001b[0m\n\u001b[0;32m      7\u001b[0m \u001b[1;33m\u001b[0m\u001b[0m\n\u001b[0;32m      8\u001b[0m \u001b[1;31m# Fit the random search model\u001b[0m\u001b[1;33m\u001b[0m\u001b[1;33m\u001b[0m\u001b[0m\n\u001b[1;32m----> 9\u001b[1;33m \u001b[0mrf_random\u001b[0m\u001b[1;33m.\u001b[0m\u001b[0mfit\u001b[0m\u001b[1;33m(\u001b[0m\u001b[0mX_train\u001b[0m\u001b[1;33m,\u001b[0m \u001b[0my_train\u001b[0m\u001b[1;33m)\u001b[0m\u001b[1;33m\u001b[0m\u001b[0m\n\u001b[0m",
      "\u001b[1;32m~\\AppData\\Local\\Continuum\\anaconda3\\lib\\site-packages\\sklearn\\model_selection\\_search.py\u001b[0m in \u001b[0;36mfit\u001b[1;34m(self, X, y, groups, **fit_params)\u001b[0m\n\u001b[0;32m    637\u001b[0m                                   error_score=self.error_score)\n\u001b[0;32m    638\u001b[0m           for parameters, (train, test) in product(candidate_params,\n\u001b[1;32m--> 639\u001b[1;33m                                                    cv.split(X, y, groups)))\n\u001b[0m\u001b[0;32m    640\u001b[0m \u001b[1;33m\u001b[0m\u001b[0m\n\u001b[0;32m    641\u001b[0m         \u001b[1;31m# if one choose to see train score, \"out\" will contain train score info\u001b[0m\u001b[1;33m\u001b[0m\u001b[1;33m\u001b[0m\u001b[0m\n",
      "\u001b[1;32m~\\AppData\\Local\\Continuum\\anaconda3\\lib\\site-packages\\sklearn\\externals\\joblib\\parallel.py\u001b[0m in \u001b[0;36m__call__\u001b[1;34m(self, iterable)\u001b[0m\n\u001b[0;32m    787\u001b[0m                 \u001b[1;31m# consumption.\u001b[0m\u001b[1;33m\u001b[0m\u001b[1;33m\u001b[0m\u001b[0m\n\u001b[0;32m    788\u001b[0m                 \u001b[0mself\u001b[0m\u001b[1;33m.\u001b[0m\u001b[0m_iterating\u001b[0m \u001b[1;33m=\u001b[0m \u001b[1;32mFalse\u001b[0m\u001b[1;33m\u001b[0m\u001b[0m\n\u001b[1;32m--> 789\u001b[1;33m             \u001b[0mself\u001b[0m\u001b[1;33m.\u001b[0m\u001b[0mretrieve\u001b[0m\u001b[1;33m(\u001b[0m\u001b[1;33m)\u001b[0m\u001b[1;33m\u001b[0m\u001b[0m\n\u001b[0m\u001b[0;32m    790\u001b[0m             \u001b[1;31m# Make sure that we get a last message telling us we are done\u001b[0m\u001b[1;33m\u001b[0m\u001b[1;33m\u001b[0m\u001b[0m\n\u001b[0;32m    791\u001b[0m             \u001b[0melapsed_time\u001b[0m \u001b[1;33m=\u001b[0m \u001b[0mtime\u001b[0m\u001b[1;33m.\u001b[0m\u001b[0mtime\u001b[0m\u001b[1;33m(\u001b[0m\u001b[1;33m)\u001b[0m \u001b[1;33m-\u001b[0m \u001b[0mself\u001b[0m\u001b[1;33m.\u001b[0m\u001b[0m_start_time\u001b[0m\u001b[1;33m\u001b[0m\u001b[0m\n",
      "\u001b[1;32m~\\AppData\\Local\\Continuum\\anaconda3\\lib\\site-packages\\sklearn\\externals\\joblib\\parallel.py\u001b[0m in \u001b[0;36mretrieve\u001b[1;34m(self)\u001b[0m\n\u001b[0;32m    697\u001b[0m             \u001b[1;32mtry\u001b[0m\u001b[1;33m:\u001b[0m\u001b[1;33m\u001b[0m\u001b[0m\n\u001b[0;32m    698\u001b[0m                 \u001b[1;32mif\u001b[0m \u001b[0mgetattr\u001b[0m\u001b[1;33m(\u001b[0m\u001b[0mself\u001b[0m\u001b[1;33m.\u001b[0m\u001b[0m_backend\u001b[0m\u001b[1;33m,\u001b[0m \u001b[1;34m'supports_timeout'\u001b[0m\u001b[1;33m,\u001b[0m \u001b[1;32mFalse\u001b[0m\u001b[1;33m)\u001b[0m\u001b[1;33m:\u001b[0m\u001b[1;33m\u001b[0m\u001b[0m\n\u001b[1;32m--> 699\u001b[1;33m                     \u001b[0mself\u001b[0m\u001b[1;33m.\u001b[0m\u001b[0m_output\u001b[0m\u001b[1;33m.\u001b[0m\u001b[0mextend\u001b[0m\u001b[1;33m(\u001b[0m\u001b[0mjob\u001b[0m\u001b[1;33m.\u001b[0m\u001b[0mget\u001b[0m\u001b[1;33m(\u001b[0m\u001b[0mtimeout\u001b[0m\u001b[1;33m=\u001b[0m\u001b[0mself\u001b[0m\u001b[1;33m.\u001b[0m\u001b[0mtimeout\u001b[0m\u001b[1;33m)\u001b[0m\u001b[1;33m)\u001b[0m\u001b[1;33m\u001b[0m\u001b[0m\n\u001b[0m\u001b[0;32m    700\u001b[0m                 \u001b[1;32melse\u001b[0m\u001b[1;33m:\u001b[0m\u001b[1;33m\u001b[0m\u001b[0m\n\u001b[0;32m    701\u001b[0m                     \u001b[0mself\u001b[0m\u001b[1;33m.\u001b[0m\u001b[0m_output\u001b[0m\u001b[1;33m.\u001b[0m\u001b[0mextend\u001b[0m\u001b[1;33m(\u001b[0m\u001b[0mjob\u001b[0m\u001b[1;33m.\u001b[0m\u001b[0mget\u001b[0m\u001b[1;33m(\u001b[0m\u001b[1;33m)\u001b[0m\u001b[1;33m)\u001b[0m\u001b[1;33m\u001b[0m\u001b[0m\n",
      "\u001b[1;32m~\\AppData\\Local\\Continuum\\anaconda3\\lib\\multiprocessing\\pool.py\u001b[0m in \u001b[0;36mget\u001b[1;34m(self, timeout)\u001b[0m\n\u001b[0;32m    636\u001b[0m \u001b[1;33m\u001b[0m\u001b[0m\n\u001b[0;32m    637\u001b[0m     \u001b[1;32mdef\u001b[0m \u001b[0mget\u001b[0m\u001b[1;33m(\u001b[0m\u001b[0mself\u001b[0m\u001b[1;33m,\u001b[0m \u001b[0mtimeout\u001b[0m\u001b[1;33m=\u001b[0m\u001b[1;32mNone\u001b[0m\u001b[1;33m)\u001b[0m\u001b[1;33m:\u001b[0m\u001b[1;33m\u001b[0m\u001b[0m\n\u001b[1;32m--> 638\u001b[1;33m         \u001b[0mself\u001b[0m\u001b[1;33m.\u001b[0m\u001b[0mwait\u001b[0m\u001b[1;33m(\u001b[0m\u001b[0mtimeout\u001b[0m\u001b[1;33m)\u001b[0m\u001b[1;33m\u001b[0m\u001b[0m\n\u001b[0m\u001b[0;32m    639\u001b[0m         \u001b[1;32mif\u001b[0m \u001b[1;32mnot\u001b[0m \u001b[0mself\u001b[0m\u001b[1;33m.\u001b[0m\u001b[0mready\u001b[0m\u001b[1;33m(\u001b[0m\u001b[1;33m)\u001b[0m\u001b[1;33m:\u001b[0m\u001b[1;33m\u001b[0m\u001b[0m\n\u001b[0;32m    640\u001b[0m             \u001b[1;32mraise\u001b[0m \u001b[0mTimeoutError\u001b[0m\u001b[1;33m\u001b[0m\u001b[0m\n",
      "\u001b[1;32m~\\AppData\\Local\\Continuum\\anaconda3\\lib\\multiprocessing\\pool.py\u001b[0m in \u001b[0;36mwait\u001b[1;34m(self, timeout)\u001b[0m\n\u001b[0;32m    633\u001b[0m \u001b[1;33m\u001b[0m\u001b[0m\n\u001b[0;32m    634\u001b[0m     \u001b[1;32mdef\u001b[0m \u001b[0mwait\u001b[0m\u001b[1;33m(\u001b[0m\u001b[0mself\u001b[0m\u001b[1;33m,\u001b[0m \u001b[0mtimeout\u001b[0m\u001b[1;33m=\u001b[0m\u001b[1;32mNone\u001b[0m\u001b[1;33m)\u001b[0m\u001b[1;33m:\u001b[0m\u001b[1;33m\u001b[0m\u001b[0m\n\u001b[1;32m--> 635\u001b[1;33m         \u001b[0mself\u001b[0m\u001b[1;33m.\u001b[0m\u001b[0m_event\u001b[0m\u001b[1;33m.\u001b[0m\u001b[0mwait\u001b[0m\u001b[1;33m(\u001b[0m\u001b[0mtimeout\u001b[0m\u001b[1;33m)\u001b[0m\u001b[1;33m\u001b[0m\u001b[0m\n\u001b[0m\u001b[0;32m    636\u001b[0m \u001b[1;33m\u001b[0m\u001b[0m\n\u001b[0;32m    637\u001b[0m     \u001b[1;32mdef\u001b[0m \u001b[0mget\u001b[0m\u001b[1;33m(\u001b[0m\u001b[0mself\u001b[0m\u001b[1;33m,\u001b[0m \u001b[0mtimeout\u001b[0m\u001b[1;33m=\u001b[0m\u001b[1;32mNone\u001b[0m\u001b[1;33m)\u001b[0m\u001b[1;33m:\u001b[0m\u001b[1;33m\u001b[0m\u001b[0m\n",
      "\u001b[1;32m~\\AppData\\Local\\Continuum\\anaconda3\\lib\\threading.py\u001b[0m in \u001b[0;36mwait\u001b[1;34m(self, timeout)\u001b[0m\n\u001b[0;32m    549\u001b[0m             \u001b[0msignaled\u001b[0m \u001b[1;33m=\u001b[0m \u001b[0mself\u001b[0m\u001b[1;33m.\u001b[0m\u001b[0m_flag\u001b[0m\u001b[1;33m\u001b[0m\u001b[0m\n\u001b[0;32m    550\u001b[0m             \u001b[1;32mif\u001b[0m \u001b[1;32mnot\u001b[0m \u001b[0msignaled\u001b[0m\u001b[1;33m:\u001b[0m\u001b[1;33m\u001b[0m\u001b[0m\n\u001b[1;32m--> 551\u001b[1;33m                 \u001b[0msignaled\u001b[0m \u001b[1;33m=\u001b[0m \u001b[0mself\u001b[0m\u001b[1;33m.\u001b[0m\u001b[0m_cond\u001b[0m\u001b[1;33m.\u001b[0m\u001b[0mwait\u001b[0m\u001b[1;33m(\u001b[0m\u001b[0mtimeout\u001b[0m\u001b[1;33m)\u001b[0m\u001b[1;33m\u001b[0m\u001b[0m\n\u001b[0m\u001b[0;32m    552\u001b[0m             \u001b[1;32mreturn\u001b[0m \u001b[0msignaled\u001b[0m\u001b[1;33m\u001b[0m\u001b[0m\n\u001b[0;32m    553\u001b[0m \u001b[1;33m\u001b[0m\u001b[0m\n",
      "\u001b[1;32m~\\AppData\\Local\\Continuum\\anaconda3\\lib\\threading.py\u001b[0m in \u001b[0;36mwait\u001b[1;34m(self, timeout)\u001b[0m\n\u001b[0;32m    293\u001b[0m         \u001b[1;32mtry\u001b[0m\u001b[1;33m:\u001b[0m    \u001b[1;31m# restore state no matter what (e.g., KeyboardInterrupt)\u001b[0m\u001b[1;33m\u001b[0m\u001b[0m\n\u001b[0;32m    294\u001b[0m             \u001b[1;32mif\u001b[0m \u001b[0mtimeout\u001b[0m \u001b[1;32mis\u001b[0m \u001b[1;32mNone\u001b[0m\u001b[1;33m:\u001b[0m\u001b[1;33m\u001b[0m\u001b[0m\n\u001b[1;32m--> 295\u001b[1;33m                 \u001b[0mwaiter\u001b[0m\u001b[1;33m.\u001b[0m\u001b[0macquire\u001b[0m\u001b[1;33m(\u001b[0m\u001b[1;33m)\u001b[0m\u001b[1;33m\u001b[0m\u001b[0m\n\u001b[0m\u001b[0;32m    296\u001b[0m                 \u001b[0mgotit\u001b[0m \u001b[1;33m=\u001b[0m \u001b[1;32mTrue\u001b[0m\u001b[1;33m\u001b[0m\u001b[0m\n\u001b[0;32m    297\u001b[0m             \u001b[1;32melse\u001b[0m\u001b[1;33m:\u001b[0m\u001b[1;33m\u001b[0m\u001b[0m\n",
      "\u001b[1;31mKeyboardInterrupt\u001b[0m: "
     ]
    }
   ],
   "source": [
    "# Use the random grid to search for best hyperparameters\n",
    "# First create the base model to tune\n",
    "rf = RandomForestRegressor()\n",
    "# Random search of parameters, using 3 fold cross validation, \n",
    "# search across 100 different combinations, and use all available cores\n",
    "rf_random = RandomizedSearchCV(estimator = rf, param_distributions = random_grid, n_iter = 100, cv = 3, verbose=2, random_state=42, n_jobs = -1)\n",
    "\n",
    "# Fit the random search model\n",
    "rf_random.fit(X_train, y_train)"
   ]
  },
  {
   "cell_type": "code",
   "execution_count": null,
   "metadata": {},
   "outputs": [],
   "source": [
    "print(rf_random.best_params_)\n",
    "best_random = rf_random.best_estimator_"
   ]
  },
  {
   "cell_type": "code",
   "execution_count": null,
   "metadata": {},
   "outputs": [],
   "source": [
    "y_best_pred, y_best_train_pred = evaluate_model(best_random, X_train, X_test, y_train, y_test)"
   ]
  },
  {
   "cell_type": "markdown",
   "metadata": {},
   "source": [
    "Compared to our old R2 score of 0.50 we have a 2% increase. Not a lot, but it's something! Mousing over the higher values shows that a large number of them are in inner sydney. The bulk of the values are below 2% cyclists. I wonder if the model is being overwhelmed by signal at the high end, meaning it isn't picking up the more subtle signals at the low end. I'm going to recut the dataframe and rebuild our analysis to check."
   ]
  },
  {
   "cell_type": "code",
   "execution_count": null,
   "metadata": {},
   "outputs": [],
   "source": [
    "print('Test data R2 score for values below 1% cyclists: {:0.2f}'.format(r2_score(y_test[y_test<0.01], y_best_pred[y_test<0.01])))\n",
    "print('Proportion of data below 0.02: {:0.2f}%'.format(100*sum(y_test<0.01)/y_test.shape[0]))"
   ]
  },
  {
   "cell_type": "markdown",
   "metadata": {},
   "source": [
    "With an R2 value which is negative, we can see that our model is worse than simply taking the average of the data at predicting low end values. Given that this subset holds nearly 85% of all our data, this is definitely something we want to address"
   ]
  },
  {
   "cell_type": "code",
   "execution_count": 31,
   "metadata": {},
   "outputs": [],
   "source": [
    "y_trunc = y[y<0.02]\n",
    "X_trunc = X[y<0.02]"
   ]
  },
  {
   "cell_type": "markdown",
   "metadata": {},
   "source": [
    "We can now reuse our code from earlier to process and graph the data."
   ]
  },
  {
   "cell_type": "code",
   "execution_count": 32,
   "metadata": {},
   "outputs": [],
   "source": [
    "y_binned = np.digitize(y_trunc, y_trunc.quantile([0, 0.2, 0.4, 0.6, 0.8]))\n",
    "X_trunc_train, X_trunc_test, y_trunc_train, y_trunc_test = train_test_split(X_trunc, y_trunc, test_size = 0.2, random_state = 43, stratify = y_binned)"
   ]
  },
  {
   "cell_type": "code",
   "execution_count": 33,
   "metadata": {
    "scrolled": true
   },
   "outputs": [
    {
     "data": {
      "text/plain": [
       "RandomForestRegressor(bootstrap=True, criterion='mse', max_depth=None,\n",
       "           max_features='auto', max_leaf_nodes=None,\n",
       "           min_impurity_decrease=0.0, min_impurity_split=None,\n",
       "           min_samples_leaf=1, min_samples_split=2,\n",
       "           min_weight_fraction_leaf=0.0, n_estimators=200, n_jobs=1,\n",
       "           oob_score=False, random_state=None, verbose=0, warm_start=False)"
      ]
     },
     "execution_count": 33,
     "metadata": {},
     "output_type": "execute_result"
    }
   ],
   "source": [
    "rf_trunc = RandomForestRegressor(n_estimators=200)\n",
    "rf_trunc.fit(X_trunc_train, y_trunc_train)"
   ]
  },
  {
   "cell_type": "code",
   "execution_count": 34,
   "metadata": {},
   "outputs": [
    {
     "data": {
      "text/html": [
       "\n",
       "    <div class=\"bk-root\">\n",
       "        <a href=\"https://bokeh.pydata.org\" target=\"_blank\" class=\"bk-logo bk-logo-small bk-logo-notebook\"></a>\n",
       "        <span id=\"e6ca0aec-d654-46de-817a-f3afa767eaf5\">Loading BokehJS ...</span>\n",
       "    </div>"
      ]
     },
     "metadata": {},
     "output_type": "display_data"
    },
    {
     "data": {
      "application/javascript": [
       "\n",
       "(function(root) {\n",
       "  function now() {\n",
       "    return new Date();\n",
       "  }\n",
       "\n",
       "  var force = true;\n",
       "\n",
       "  if (typeof (root._bokeh_onload_callbacks) === \"undefined\" || force === true) {\n",
       "    root._bokeh_onload_callbacks = [];\n",
       "    root._bokeh_is_loading = undefined;\n",
       "  }\n",
       "\n",
       "  var JS_MIME_TYPE = 'application/javascript';\n",
       "  var HTML_MIME_TYPE = 'text/html';\n",
       "  var EXEC_MIME_TYPE = 'application/vnd.bokehjs_exec.v0+json';\n",
       "  var CLASS_NAME = 'output_bokeh rendered_html';\n",
       "\n",
       "  /**\n",
       "   * Render data to the DOM node\n",
       "   */\n",
       "  function render(props, node) {\n",
       "    var script = document.createElement(\"script\");\n",
       "    node.appendChild(script);\n",
       "  }\n",
       "\n",
       "  /**\n",
       "   * Handle when an output is cleared or removed\n",
       "   */\n",
       "  function handleClearOutput(event, handle) {\n",
       "    var cell = handle.cell;\n",
       "\n",
       "    var id = cell.output_area._bokeh_element_id;\n",
       "    var server_id = cell.output_area._bokeh_server_id;\n",
       "    // Clean up Bokeh references\n",
       "    if (id !== undefined) {\n",
       "      Bokeh.index[id].model.document.clear();\n",
       "      delete Bokeh.index[id];\n",
       "    }\n",
       "\n",
       "    if (server_id !== undefined) {\n",
       "      // Clean up Bokeh references\n",
       "      var cmd = \"from bokeh.io.state import curstate; print(curstate().uuid_to_server['\" + server_id + \"'].get_sessions()[0].document.roots[0]._id)\";\n",
       "      cell.notebook.kernel.execute(cmd, {\n",
       "        iopub: {\n",
       "          output: function(msg) {\n",
       "            var element_id = msg.content.text.trim();\n",
       "            Bokeh.index[element_id].model.document.clear();\n",
       "            delete Bokeh.index[element_id];\n",
       "          }\n",
       "        }\n",
       "      });\n",
       "      // Destroy server and session\n",
       "      var cmd = \"import bokeh.io.notebook as ion; ion.destroy_server('\" + server_id + \"')\";\n",
       "      cell.notebook.kernel.execute(cmd);\n",
       "    }\n",
       "  }\n",
       "\n",
       "  /**\n",
       "   * Handle when a new output is added\n",
       "   */\n",
       "  function handleAddOutput(event, handle) {\n",
       "    var output_area = handle.output_area;\n",
       "    var output = handle.output;\n",
       "\n",
       "    // limit handleAddOutput to display_data with EXEC_MIME_TYPE content only\n",
       "    if ((output.output_type != \"display_data\") || (!output.data.hasOwnProperty(EXEC_MIME_TYPE))) {\n",
       "      return\n",
       "    }\n",
       "\n",
       "    var toinsert = output_area.element.find(\".\" + CLASS_NAME.split(' ')[0]);\n",
       "\n",
       "    if (output.metadata[EXEC_MIME_TYPE][\"id\"] !== undefined) {\n",
       "      toinsert[toinsert.length - 1].firstChild.textContent = output.data[JS_MIME_TYPE];\n",
       "      // store reference to embed id on output_area\n",
       "      output_area._bokeh_element_id = output.metadata[EXEC_MIME_TYPE][\"id\"];\n",
       "    }\n",
       "    if (output.metadata[EXEC_MIME_TYPE][\"server_id\"] !== undefined) {\n",
       "      var bk_div = document.createElement(\"div\");\n",
       "      bk_div.innerHTML = output.data[HTML_MIME_TYPE];\n",
       "      var script_attrs = bk_div.children[0].attributes;\n",
       "      for (var i = 0; i < script_attrs.length; i++) {\n",
       "        toinsert[toinsert.length - 1].firstChild.setAttribute(script_attrs[i].name, script_attrs[i].value);\n",
       "      }\n",
       "      // store reference to server id on output_area\n",
       "      output_area._bokeh_server_id = output.metadata[EXEC_MIME_TYPE][\"server_id\"];\n",
       "    }\n",
       "  }\n",
       "\n",
       "  function register_renderer(events, OutputArea) {\n",
       "\n",
       "    function append_mime(data, metadata, element) {\n",
       "      // create a DOM node to render to\n",
       "      var toinsert = this.create_output_subarea(\n",
       "        metadata,\n",
       "        CLASS_NAME,\n",
       "        EXEC_MIME_TYPE\n",
       "      );\n",
       "      this.keyboard_manager.register_events(toinsert);\n",
       "      // Render to node\n",
       "      var props = {data: data, metadata: metadata[EXEC_MIME_TYPE]};\n",
       "      render(props, toinsert[toinsert.length - 1]);\n",
       "      element.append(toinsert);\n",
       "      return toinsert\n",
       "    }\n",
       "\n",
       "    /* Handle when an output is cleared or removed */\n",
       "    events.on('clear_output.CodeCell', handleClearOutput);\n",
       "    events.on('delete.Cell', handleClearOutput);\n",
       "\n",
       "    /* Handle when a new output is added */\n",
       "    events.on('output_added.OutputArea', handleAddOutput);\n",
       "\n",
       "    /**\n",
       "     * Register the mime type and append_mime function with output_area\n",
       "     */\n",
       "    OutputArea.prototype.register_mime_type(EXEC_MIME_TYPE, append_mime, {\n",
       "      /* Is output safe? */\n",
       "      safe: true,\n",
       "      /* Index of renderer in `output_area.display_order` */\n",
       "      index: 0\n",
       "    });\n",
       "  }\n",
       "\n",
       "  // register the mime type if in Jupyter Notebook environment and previously unregistered\n",
       "  if (root.Jupyter !== undefined) {\n",
       "    var events = require('base/js/events');\n",
       "    var OutputArea = require('notebook/js/outputarea').OutputArea;\n",
       "\n",
       "    if (OutputArea.prototype.mime_types().indexOf(EXEC_MIME_TYPE) == -1) {\n",
       "      register_renderer(events, OutputArea);\n",
       "    }\n",
       "  }\n",
       "\n",
       "  \n",
       "  if (typeof (root._bokeh_timeout) === \"undefined\" || force === true) {\n",
       "    root._bokeh_timeout = Date.now() + 5000;\n",
       "    root._bokeh_failed_load = false;\n",
       "  }\n",
       "\n",
       "  var NB_LOAD_WARNING = {'data': {'text/html':\n",
       "     \"<div style='background-color: #fdd'>\\n\"+\n",
       "     \"<p>\\n\"+\n",
       "     \"BokehJS does not appear to have successfully loaded. If loading BokehJS from CDN, this \\n\"+\n",
       "     \"may be due to a slow or bad network connection. Possible fixes:\\n\"+\n",
       "     \"</p>\\n\"+\n",
       "     \"<ul>\\n\"+\n",
       "     \"<li>re-rerun `output_notebook()` to attempt to load from CDN again, or</li>\\n\"+\n",
       "     \"<li>use INLINE resources instead, as so:</li>\\n\"+\n",
       "     \"</ul>\\n\"+\n",
       "     \"<code>\\n\"+\n",
       "     \"from bokeh.resources import INLINE\\n\"+\n",
       "     \"output_notebook(resources=INLINE)\\n\"+\n",
       "     \"</code>\\n\"+\n",
       "     \"</div>\"}};\n",
       "\n",
       "  function display_loaded() {\n",
       "    var el = document.getElementById(\"e6ca0aec-d654-46de-817a-f3afa767eaf5\");\n",
       "    if (el != null) {\n",
       "      el.textContent = \"BokehJS is loading...\";\n",
       "    }\n",
       "    if (root.Bokeh !== undefined) {\n",
       "      if (el != null) {\n",
       "        el.textContent = \"BokehJS \" + root.Bokeh.version + \" successfully loaded.\";\n",
       "      }\n",
       "    } else if (Date.now() < root._bokeh_timeout) {\n",
       "      setTimeout(display_loaded, 100)\n",
       "    }\n",
       "  }\n",
       "\n",
       "\n",
       "  function run_callbacks() {\n",
       "    try {\n",
       "      root._bokeh_onload_callbacks.forEach(function(callback) { callback() });\n",
       "    }\n",
       "    finally {\n",
       "      delete root._bokeh_onload_callbacks\n",
       "    }\n",
       "    console.info(\"Bokeh: all callbacks have finished\");\n",
       "  }\n",
       "\n",
       "  function load_libs(js_urls, callback) {\n",
       "    root._bokeh_onload_callbacks.push(callback);\n",
       "    if (root._bokeh_is_loading > 0) {\n",
       "      console.log(\"Bokeh: BokehJS is being loaded, scheduling callback at\", now());\n",
       "      return null;\n",
       "    }\n",
       "    if (js_urls == null || js_urls.length === 0) {\n",
       "      run_callbacks();\n",
       "      return null;\n",
       "    }\n",
       "    console.log(\"Bokeh: BokehJS not loaded, scheduling load and callback at\", now());\n",
       "    root._bokeh_is_loading = js_urls.length;\n",
       "    for (var i = 0; i < js_urls.length; i++) {\n",
       "      var url = js_urls[i];\n",
       "      var s = document.createElement('script');\n",
       "      s.src = url;\n",
       "      s.async = false;\n",
       "      s.onreadystatechange = s.onload = function() {\n",
       "        root._bokeh_is_loading--;\n",
       "        if (root._bokeh_is_loading === 0) {\n",
       "          console.log(\"Bokeh: all BokehJS libraries loaded\");\n",
       "          run_callbacks()\n",
       "        }\n",
       "      };\n",
       "      s.onerror = function() {\n",
       "        console.warn(\"failed to load library \" + url);\n",
       "      };\n",
       "      console.log(\"Bokeh: injecting script tag for BokehJS library: \", url);\n",
       "      document.getElementsByTagName(\"head\")[0].appendChild(s);\n",
       "    }\n",
       "  };var element = document.getElementById(\"e6ca0aec-d654-46de-817a-f3afa767eaf5\");\n",
       "  if (element == null) {\n",
       "    console.log(\"Bokeh: ERROR: autoload.js configured with elementid 'e6ca0aec-d654-46de-817a-f3afa767eaf5' but no matching script tag was found. \")\n",
       "    return false;\n",
       "  }\n",
       "\n",
       "  var js_urls = [\"https://cdn.pydata.org/bokeh/release/bokeh-0.12.16.min.js\", \"https://cdn.pydata.org/bokeh/release/bokeh-widgets-0.12.16.min.js\", \"https://cdn.pydata.org/bokeh/release/bokeh-tables-0.12.16.min.js\", \"https://cdn.pydata.org/bokeh/release/bokeh-gl-0.12.16.min.js\"];\n",
       "\n",
       "  var inline_js = [\n",
       "    function(Bokeh) {\n",
       "      Bokeh.set_log_level(\"info\");\n",
       "    },\n",
       "    \n",
       "    function(Bokeh) {\n",
       "      \n",
       "    },\n",
       "    function(Bokeh) {\n",
       "      console.log(\"Bokeh: injecting CSS: https://cdn.pydata.org/bokeh/release/bokeh-0.12.16.min.css\");\n",
       "      Bokeh.embed.inject_css(\"https://cdn.pydata.org/bokeh/release/bokeh-0.12.16.min.css\");\n",
       "      console.log(\"Bokeh: injecting CSS: https://cdn.pydata.org/bokeh/release/bokeh-widgets-0.12.16.min.css\");\n",
       "      Bokeh.embed.inject_css(\"https://cdn.pydata.org/bokeh/release/bokeh-widgets-0.12.16.min.css\");\n",
       "      console.log(\"Bokeh: injecting CSS: https://cdn.pydata.org/bokeh/release/bokeh-tables-0.12.16.min.css\");\n",
       "      Bokeh.embed.inject_css(\"https://cdn.pydata.org/bokeh/release/bokeh-tables-0.12.16.min.css\");\n",
       "    }\n",
       "  ];\n",
       "\n",
       "  function run_inline_js() {\n",
       "    \n",
       "    if ((root.Bokeh !== undefined) || (force === true)) {\n",
       "      for (var i = 0; i < inline_js.length; i++) {\n",
       "        inline_js[i].call(root, root.Bokeh);\n",
       "      }if (force === true) {\n",
       "        display_loaded();\n",
       "      }} else if (Date.now() < root._bokeh_timeout) {\n",
       "      setTimeout(run_inline_js, 100);\n",
       "    } else if (!root._bokeh_failed_load) {\n",
       "      console.log(\"Bokeh: BokehJS failed to load within specified timeout.\");\n",
       "      root._bokeh_failed_load = true;\n",
       "    } else if (force !== true) {\n",
       "      var cell = $(document.getElementById(\"e6ca0aec-d654-46de-817a-f3afa767eaf5\")).parents('.cell').data().cell;\n",
       "      cell.output_area.append_execute_result(NB_LOAD_WARNING)\n",
       "    }\n",
       "\n",
       "  }\n",
       "\n",
       "  if (root._bokeh_is_loading === 0) {\n",
       "    console.log(\"Bokeh: BokehJS loaded, going straight to plotting\");\n",
       "    run_inline_js();\n",
       "  } else {\n",
       "    load_libs(js_urls, function() {\n",
       "      console.log(\"Bokeh: BokehJS plotting callback run at\", now());\n",
       "      run_inline_js();\n",
       "    });\n",
       "  }\n",
       "}(window));"
      ],
      "application/vnd.bokehjs_load.v0+json": "\n(function(root) {\n  function now() {\n    return new Date();\n  }\n\n  var force = true;\n\n  if (typeof (root._bokeh_onload_callbacks) === \"undefined\" || force === true) {\n    root._bokeh_onload_callbacks = [];\n    root._bokeh_is_loading = undefined;\n  }\n\n  \n\n  \n  if (typeof (root._bokeh_timeout) === \"undefined\" || force === true) {\n    root._bokeh_timeout = Date.now() + 5000;\n    root._bokeh_failed_load = false;\n  }\n\n  var NB_LOAD_WARNING = {'data': {'text/html':\n     \"<div style='background-color: #fdd'>\\n\"+\n     \"<p>\\n\"+\n     \"BokehJS does not appear to have successfully loaded. If loading BokehJS from CDN, this \\n\"+\n     \"may be due to a slow or bad network connection. Possible fixes:\\n\"+\n     \"</p>\\n\"+\n     \"<ul>\\n\"+\n     \"<li>re-rerun `output_notebook()` to attempt to load from CDN again, or</li>\\n\"+\n     \"<li>use INLINE resources instead, as so:</li>\\n\"+\n     \"</ul>\\n\"+\n     \"<code>\\n\"+\n     \"from bokeh.resources import INLINE\\n\"+\n     \"output_notebook(resources=INLINE)\\n\"+\n     \"</code>\\n\"+\n     \"</div>\"}};\n\n  function display_loaded() {\n    var el = document.getElementById(\"e6ca0aec-d654-46de-817a-f3afa767eaf5\");\n    if (el != null) {\n      el.textContent = \"BokehJS is loading...\";\n    }\n    if (root.Bokeh !== undefined) {\n      if (el != null) {\n        el.textContent = \"BokehJS \" + root.Bokeh.version + \" successfully loaded.\";\n      }\n    } else if (Date.now() < root._bokeh_timeout) {\n      setTimeout(display_loaded, 100)\n    }\n  }\n\n\n  function run_callbacks() {\n    try {\n      root._bokeh_onload_callbacks.forEach(function(callback) { callback() });\n    }\n    finally {\n      delete root._bokeh_onload_callbacks\n    }\n    console.info(\"Bokeh: all callbacks have finished\");\n  }\n\n  function load_libs(js_urls, callback) {\n    root._bokeh_onload_callbacks.push(callback);\n    if (root._bokeh_is_loading > 0) {\n      console.log(\"Bokeh: BokehJS is being loaded, scheduling callback at\", now());\n      return null;\n    }\n    if (js_urls == null || js_urls.length === 0) {\n      run_callbacks();\n      return null;\n    }\n    console.log(\"Bokeh: BokehJS not loaded, scheduling load and callback at\", now());\n    root._bokeh_is_loading = js_urls.length;\n    for (var i = 0; i < js_urls.length; i++) {\n      var url = js_urls[i];\n      var s = document.createElement('script');\n      s.src = url;\n      s.async = false;\n      s.onreadystatechange = s.onload = function() {\n        root._bokeh_is_loading--;\n        if (root._bokeh_is_loading === 0) {\n          console.log(\"Bokeh: all BokehJS libraries loaded\");\n          run_callbacks()\n        }\n      };\n      s.onerror = function() {\n        console.warn(\"failed to load library \" + url);\n      };\n      console.log(\"Bokeh: injecting script tag for BokehJS library: \", url);\n      document.getElementsByTagName(\"head\")[0].appendChild(s);\n    }\n  };var element = document.getElementById(\"e6ca0aec-d654-46de-817a-f3afa767eaf5\");\n  if (element == null) {\n    console.log(\"Bokeh: ERROR: autoload.js configured with elementid 'e6ca0aec-d654-46de-817a-f3afa767eaf5' but no matching script tag was found. \")\n    return false;\n  }\n\n  var js_urls = [\"https://cdn.pydata.org/bokeh/release/bokeh-0.12.16.min.js\", \"https://cdn.pydata.org/bokeh/release/bokeh-widgets-0.12.16.min.js\", \"https://cdn.pydata.org/bokeh/release/bokeh-tables-0.12.16.min.js\", \"https://cdn.pydata.org/bokeh/release/bokeh-gl-0.12.16.min.js\"];\n\n  var inline_js = [\n    function(Bokeh) {\n      Bokeh.set_log_level(\"info\");\n    },\n    \n    function(Bokeh) {\n      \n    },\n    function(Bokeh) {\n      console.log(\"Bokeh: injecting CSS: https://cdn.pydata.org/bokeh/release/bokeh-0.12.16.min.css\");\n      Bokeh.embed.inject_css(\"https://cdn.pydata.org/bokeh/release/bokeh-0.12.16.min.css\");\n      console.log(\"Bokeh: injecting CSS: https://cdn.pydata.org/bokeh/release/bokeh-widgets-0.12.16.min.css\");\n      Bokeh.embed.inject_css(\"https://cdn.pydata.org/bokeh/release/bokeh-widgets-0.12.16.min.css\");\n      console.log(\"Bokeh: injecting CSS: https://cdn.pydata.org/bokeh/release/bokeh-tables-0.12.16.min.css\");\n      Bokeh.embed.inject_css(\"https://cdn.pydata.org/bokeh/release/bokeh-tables-0.12.16.min.css\");\n    }\n  ];\n\n  function run_inline_js() {\n    \n    if ((root.Bokeh !== undefined) || (force === true)) {\n      for (var i = 0; i < inline_js.length; i++) {\n        inline_js[i].call(root, root.Bokeh);\n      }if (force === true) {\n        display_loaded();\n      }} else if (Date.now() < root._bokeh_timeout) {\n      setTimeout(run_inline_js, 100);\n    } else if (!root._bokeh_failed_load) {\n      console.log(\"Bokeh: BokehJS failed to load within specified timeout.\");\n      root._bokeh_failed_load = true;\n    } else if (force !== true) {\n      var cell = $(document.getElementById(\"e6ca0aec-d654-46de-817a-f3afa767eaf5\")).parents('.cell').data().cell;\n      cell.output_area.append_execute_result(NB_LOAD_WARNING)\n    }\n\n  }\n\n  if (root._bokeh_is_loading === 0) {\n    console.log(\"Bokeh: BokehJS loaded, going straight to plotting\");\n    run_inline_js();\n  } else {\n    load_libs(js_urls, function() {\n      console.log(\"Bokeh: BokehJS plotting callback run at\", now());\n      run_inline_js();\n    });\n  }\n}(window));"
     },
     "metadata": {},
     "output_type": "display_data"
    },
    {
     "data": {
      "text/html": [
       "\n",
       "<div class=\"bk-root\">\n",
       "    <div class=\"bk-plotdiv\" id=\"2055b75f-72e6-47cf-a340-7234e4268974\"></div>\n",
       "</div>"
      ]
     },
     "metadata": {},
     "output_type": "display_data"
    },
    {
     "data": {
      "application/javascript": [
       "(function(root) {\n",
       "  function embed_document(root) {\n",
       "    \n",
       "  var docs_json = {\"d1a4fc8a-8644-469c-8121-b96b28bf14d4\":{\"roots\":{\"references\":[{\"attributes\":{\"line_color\":\"#1f77b4\",\"x\":{\"field\":\"x\"},\"y\":{\"field\":\"y\"}},\"id\":\"b2ebe250-c34f-4901-8b9a-46fb8fa291d3\",\"type\":\"Line\"},{\"attributes\":{},\"id\":\"6afff66f-4206-4a0c-8e57-9a99b16cb787\",\"type\":\"ResetTool\"},{\"attributes\":{\"data_source\":{\"id\":\"69fd0898-3560-4b38-9ef8-737599e8a915\",\"type\":\"ColumnDataSource\"},\"glyph\":{\"id\":\"c19a165c-2469-4b6e-a6a0-03d40b22f639\",\"type\":\"Circle\"},\"hover_glyph\":null,\"muted_glyph\":null,\"nonselection_glyph\":{\"id\":\"c0bed22d-f14e-4c0b-8df7-87630268e537\",\"type\":\"Circle\"},\"selection_glyph\":null,\"view\":{\"id\":\"a6d1a3e0-039b-4f05-94af-6ccd71f273bd\",\"type\":\"CDSView\"}},\"id\":\"e92db11c-352c-4693-99fd-b03e3de5939a\",\"type\":\"GlyphRenderer\"},{\"attributes\":{\"callback\":null,\"data\":{\"desc\":[\"Wyong\",\"Guildford West - Merrylands West\",\"Grafton\",\"Temora\",\"Guildford - South Granville\",\"Gunnedah\",\"Saratoga - Davistown\",\"Inverell Region - East\",\"Coffs Harbour - South\",\"Budgewoi - Buff Point - Halekulani\",\"Wiley Park\",\"Raymond Terrace\",\"Eden\",\"Nowra\",\"Holsworthy - Wattle Grove\",\"Lurnea - Cartwright\",\"Bexley\",\"Tumut\",\"Terranora - North Tumblegum\",\"Cronulla - Kurnell - Bundeena\",\"Wangi Wangi - Rathmines\",\"Edensor Park\",\"Kempsey\",\"Northmead\",\"Belmont South - Blacksmiths\",\"Avoca Beach - Copacabana\",\"Hunters Hill - Woolwich\",\"Mount Druitt - Whalan\",\"Casino\",\"Balgowlah - Clontarf - Seaforth\",\"Quakers Hill\",\"Shortland - Jesmond\",\"Epping - North Epping\",\"Chatswood (East) - Artarmon\",\"Manly Vale - Allambie Heights\",\"Miranda - Yowie Bay\",\"Maryland - Fletcher - Minmi\",\"Moruya - Tuross Head\",\"Mittagong\",\"Warriewood - Mona Vale\",\"Rockdale - Banksia\",\"Lismore\",\"Albury Region\",\"Macquarie Park - Marsfield\",\"Yass Region\",\"Griffith (NSW)\",\"Tomerong - Wandandian - Woollamia\",\"Forbes\",\"Sans Souci - Ramsgate\",\"Riverstone - Marsden Park\",\"Regents Park\",\"Winston Hills\",\"Belmont - Bennetts Green\",\"Merrylands - Holroyd\",\"Sylvania - Taren Point\",\"Inverell Region - West\",\"Gorokan - Kanwal - Charmhaven\",\"Austral - Greendale\",\"Blue Haven - San Remo\",\"Terrey Hills - Duffys Forest\",\"Hassall Grove - Plumpton\",\"Goonellabah\",\"Baulkham Hills (West) - Bella Vista\",\"Bolton Point - Teralba\",\"Waratah - North Lambton\",\"Scone\",\"Wallsend - Elermore Vale\",\"Quirindi\",\"Blayney\",\"Liverpool\",\"Wagga Wagga - West\",\"Box Head - MacMasters Beach\",\"Mulgoa - Luddenham - Orchard Hills\",\"Dubbo - West\",\"Ryde\",\"Swansea - Caves Beach\",\"Kingscliff - Fingal Head\",\"Deniliquin Region\",\"Castlereagh - Cranebrook\",\"Bowral\",\"Huskisson - Vincentia\",\"Tamworth - East\",\"Kariong\",\"Forestville - Killarney Heights\",\"Bulahdelah - Stroud\",\"Emu Plains - Leonay\",\"Wahroonga (East) - Warrawee\",\"Carlingford\",\"Merimbula - Tura Beach\",\"Kingsgrove (South) - Bardwell Park\",\"Rouse Hill - Beaumont Hills\",\"Gladesville - Huntleys Point\",\"Toongabbie - Constitution Hill\",\"Charlestown - Dudley\",\"Orange - North\",\"Ingleburn - Denham Court\",\"Wagga Wagga - North\",\"Blacktown (South)\",\"Freshwater - Brookvale\",\"Auburn - South\",\"Deniliquin\",\"Maitland - West\",\"Homebush Bay - Silverwater\",\"Bateau Bay - Killarney Vale\",\"Arncliffe - Bardwell Valley\",\"Warnervale - Wadalba\",\"Adamstown - Kotara\",\"Bega-Eden Hinterland\",\"Cromer\",\"Helensburgh\",\"Old Bar - Manning Point - Red Head\",\"Dubbo Region\",\"Goulburn\",\"Corrimal - Tarrawanna - Bellambi\",\"Ulladulla Region\",\"Cobar\",\"Queanbeyan - East\",\"Parkes (NSW)\",\"Wagga Wagga - South\",\"Chittaway Bay - Tumbi Umbi\",\"Kincumber - Picketts Valley\",\"Avalon - Palm Beach\",\"Lethbridge Park - Tregear\",\"Young\",\"Tamworth - West\",\"Grenfell\",\"Tweed Heads South\",\"Bourke - Brewarrina\",\"Port Macquarie - East\",\"Banora Point\",\"Hay\",\"Leeton\",\"Kogarah\",\"Concord West - North Strathfield\",\"Batemans Bay\",\"Tuncurry\",\"Fairfield - West\",\"Eastwood - Denistone\",\"Ermington - Rydalmere\",\"Hurstville\",\"Glen Innes\",\"Wingham\",\"Evans Head\",\"Broken Hill\",\"Chester Hill - Sefton\",\"Rooty Hill - Minchinbury\",\"Beacon Hill - Narraweena\",\"Forster-Tuncurry Region\",\"West Ryde - Meadowbank\",\"Queanbeyan\",\"Blacktown (West)\",\"Jamisontown - South Penrith\",\"Lennox Head - Skennars Head\",\"Bayview - Elanora Heights\",\"Greenfield Park - Prairiewood\",\"Mosman\",\"Double Bay - Bellevue Hill\",\"Broulee - Tomakin\",\"Peakhurst - Lugarno\",\"Cherrybrook\",\"Hornsby - West\",\"Kyogle\",\"Roselands\",\"Fairfield - East\",\"Balgownie - Fairy Meadow\",\"South West Rocks\",\"Albion Park - Macquarie Pass\",\"Young Region\",\"Moree Region\",\"Maroubra - South\",\"Ourimbah - Fountaindale\",\"Coonabarabran\",\"Normanhurst - Thornleigh - Westleigh\",\"Mascot - Eastlakes\",\"Cobbitty - Leppington\",\"Pagewood - Hillsdale - Daceyville\",\"Bradbury - Wedderburn\",\"Tuggerah - Kangy Angy\",\"Castle Hill - Central\",\"Hoxton Park - Carnes Hill - Horningsea Park\",\"Hinchinbrook\",\"North Nowra - Bomaderry\",\"Bathurst - East\",\"Cessnock Region\",\"Pyrmont - Ultimo\",\"Bankstown - North\",\"Warners Bay - Boolaroo\",\"Calga - Kulnura\",\"Castle Hill - West\",\"Katoomba - Leura\",\"Glenwood\",\"Cambridge Park\",\"Nambucca Heads Region\",\"Narara\",\"Greystanes - Pemulwuy\",\"Blackheath - Megalong Valley\",\"Doonside - Woodcroft\",\"Chipping Norton - Moorebank\",\"Port Macquarie Region\",\"Mudgee Region - West\",\"North Ryde - East Ryde\",\"Horsley Park - Kemps Creek\",\"Anna Bay\",\"Gosford - Springfield\",\"Summerland Point - Gwandalan\",\"Walgett - Lightning Ridge\",\"Sydney - Haymarket - The Rocks\",\"Corowa\",\"North Sydney - Lavender Bay\",\"Nyngan - Warren\",\"Wentworthville - Westmead\",\"Oatlands - Dundas Valley\",\"Oberon\",\"Neutral Bay - Kirribilli\",\"Woolgoolga - Arrawarra\",\"Douglas Park - Appin\",\"Bonnells Bay - Silverwater\",\"Mayfield - Warabrook\",\"Lithgow\",\"Warwick Farm\",\"Mount Hutton - Windale\",\"Cowra\",\"Hornsby - East\",\"Stockton - Fullerton Cove\",\"West Pennant Hills\",\"Laurieton - Bonny Hills\",\"Dapto - Avondale\",\"Fairfield\",\"Camden - Ellis Lane\",\"Waitara - Wahroonga (West)\",\"Muswellbrook\",\"Willoughby - Castle Cove - Northbridge\",\"Lane Cove - Greenwich\",\"Wentworth Falls\",\"Bathurst Region\",\"Penrith\",\"Ashfield\",\"Baulkham Hills (East)\",\"Campbelltown - Woodbine\",\"Kurrajong Heights - Ebenezer\",\"Karabar\",\"Wentworth-Balranald Region\",\"Cootamundra\",\"Singleton Region\",\"Narrandera\",\"Narromine\",\"Port Kembla - Warrawong\",\"Tamworth - North\",\"Narooma - Bermagui\",\"Prestons - Edmondson Park\",\"Coffs Harbour - North\",\"Punchbowl\",\"Turramurra\",\"Lake Munmorah - Mannering Park\",\"Cecil Hills\",\"Albion Park Rail\",\"Dungog\",\"Leumeah - Minto Heights\",\"Thirroul - Austinmer - Coalcliff\",\"St Leonards - Naremburn\",\"Singleton\",\"Inverell\",\"Hill Top - Colo Vale\",\"Glendale - Cardiff - Hillsborough\",\"Oatley - Hurstville Grove\",\"Asquith - Mount Colah\",\"Bega - Tathra\",\"Richmond - Clarendon\",\"Moss Vale - Berrima\",\"Illawong - Alfords Point\",\"Ballina Region\",\"Bossley Park - Abbotsbury\",\"Gymea - Grays Point\",\"Warilla\",\"Corowa Region\",\"Edgeworth - Cameron Park\",\"Glenhaven\",\"Canterbury (South) - Campsie\",\"Dorrigo\",\"Cowra Region\",\"Seven Hills - Toongabbie\",\"Castle Hill - North\",\"Branxton - Greta - Pokolbin\",\"Woollahra\",\"Galston - Laughtondale\",\"Croydon Park - Enfield\",\"Kogarah Bay - Carlton - Allawah\",\"Woolaware - Burraneer\",\"Dural - Kenthurst - Wisemans Ferry\",\"Panania - Milperra - Picnic Point\",\"Auburn - Central\",\"Lithgow Region\",\"Menai - Lucas Heights - Woronora\",\"Bangalow\",\"Canterbury (North) - Ashbury\",\"St Ives\",\"Wollongong - East\",\"Caringbah South\",\"Berowra - Brooklyn - Cowan\",\"Condobolin\",\"Wellington\",\"Ulladulla\",\"Taree\",\"Lismore Region\",\"Scone Region\",\"Drummoyne - Rodd Point\",\"Macksville - Scotts Head\",\"Malabar - La Perouse - Chifley\",\"Ashcroft - Busby - Miller\",\"Bathurst\",\"Lavington\",\"Brunswick Heads - Ocean Shores\",\"Sawtell - Boambee\",\"Kellyville\",\"Elderslie - Harrington Park\",\"Wagga Wagga - East\",\"Newport - Bilgola\",\"Queanbeyan Region\",\"Strathfield\",\"Auburn - North\",\"Putney\",\"Wagga Wagga Region\",\"Orange\",\"Pendle Hill - Girraween\",\"Rosemeadow - Glen Alpine\",\"Lidcombe\",\"Wentworth - Buronga\",\"Toronto - Awaba\",\"Concord - Mortlake - Cabarita\",\"Castle Hill - South\",\"Berry - Kangaroo Valley\",\"Niagara Park - Lisarow\",\"Kingsgrove (North) - Earlwood\",\"Monterey - Brighton-le-Sands - Kyeemagh\",\"Erskine Park\",\"Forster\",\"South Hurstville - Blakehurst\",\"St Clair\",\"Seaham - Woodville\",\"Pottsville\",\"Caringbah\",\"Mullumbimby\",\"Goulburn Region\",\"Lakemba\",\"Bargo\",\"Queanbeyan West - Jerrabomberra\",\"North Rocks\",\"Picton - Tahmoor - Buxton\",\"Kiama Downs - Minnamurra\",\"Berala\",\"Castle Hill - East\",\"Warragamba - Silverdale\",\"Engadine\",\"Bellingen\",\"Lemon Tree Passage - Tanilba Bay\",\"North Parramatta\",\"Shellharbour - Oak Flats\",\"Nambucca Heads\",\"Woy Woy - Blackwall\",\"Kingswood - Werrington\",\"Padstow\",\"St Johns Park - Wakeley\",\"Horsley - Kembla Grange\",\"Blacktown (East) - Kings Park\",\"Coonamble\",\"Dubbo - East\",\"Lalor Park - Kings Langley\",\"Terrigal - North Avoca\",\"Tea Gardens - Hawks Nest\",\"Taree Region\",\"Narrabri\",\"Moree\",\"Kempsey Region\",\"Coramba - Nana Glen - Bucca\",\"Urunga\",\"Williamtown - Medowie - Karuah\",\"Armidale Region - North\",\"Korora - Emerald Beach\",\"West Hoxton - Middleton Grange\",\"Berkeley - Lake Heights - Cringila\",\"Gunnedah Region\",\"Botany\",\"Dover Heights\",\"The Oaks - Oakdale\",\"Windsor - Bligh Park\",\"Narrabeen - Collaroy\",\"Casula\",\"Wyoming\",\"Parramatta - Rosehill\",\"Lindfield - Roseville\",\"Braidwood\",\"Revesby\",\"Parklea - Kellyville Ridge\",\"Callala Bay - Currarong\",\"Dubbo - South\",\"Mount Annan - Currans Hill\",\"Kiama Hinterland - Gerringong\",\"The Entrance\",\"Blacktown (North) - Marayong\",\"Kiama\",\"Figtree - Keiraville\",\"Mudgee\",\"Armidale Region - South\",\"Springwood - Winmalee\",\"Frenchs Forest - Belrose\",\"Dee Why - North Curl Curl\",\"Toukley - Norah Head\",\"Yagoona - Birrong\"],\"x\":{\"__ndarray__\":\"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\",\"dtype\":\"float64\",\"shape\":[408]},\"y\":{\"__ndarray__\":\"hNOafEPzYT87jALn4DFXP5FpqnhumYQ/7xXrGEfUcT//m51lax9bPwlOzBfQx2U/6u3Bpv+OXj82Zlyrl2yGP0Al7D9VCIM/L4PhNV+pXD+YBf5DUBlUPywbnaufH2U/5Eo5Mn1JcD8Yh26w+vp4PyMWixF+QHQ/vYnRGR/YVT/AOfx86ehmPwOat2PfDXA/u96468vxaj9bnZJY/P18PwhIdHsovFo/F3vg9ft9Sz9/QI7ykMprP5MepbyAFWY/Nj+X/Wv9bT/2RYz2R9JkPyC7NbOm8Xw/f8h18X0CUz8Nzn9XMbtxP//6DIwo7og/Q6uw18qPYT94cbIAToZ5P8SjW4jEBnU/Q8dPmnmufD/lMfCstJGLPxu+hwvpwWo/lE7zQZgmbT/cFuyriLdxP9qTySPSiGQ/+OAnr64Mej+yDrzFbBloP0ISioVQ7YI/fFdJkqGSaD9qRlmj54Z4P7OV+vVUamY/sYQHbVS5dD++OAvn3VF0P9RIgtExx2k/mebS6J44ZD/hnOi2H1dhP87jc2RCh2g/lfX6qGcFZD8YUm4t8l5nPwavCOcx02A/TR+dmCBDZD/Y77bFad5iP+LBGkZgTWQ/TBVsZoKaaz9YYaza8ZtfP6DnEAeX0nI/HV+6AgcfWD89Om74Vr1oPxLhcscv8mQ/sKj/ry4WYD/hbDiQ1rOEP1eH0b3N3G4/UoSKI9vndD9h5wn/HjuAP9jvAjLlQVc/5VtXuO5SWj8pv9TxRkiCP0DpKX6l+GI/rxOxByNEUT9zLJBHUcxvP1OzGS90bXg/Adz2d/KtYT9b6Lakqld9PzhIzT6AMW4/N7ADZsutWT97ilJGcrNxP/Vc2Hh/eIA/k9Z7nfNqdT9aQhXoBUFnP1+b6k5kg3Y/w6AYrNRzZD/BOSJHkr5mP6bG09DKQnM/N/p7LCY6Zz+opu7jSZhsPx3P2QeMW2Y/7uH7gj19YT8qlcgyKK5+P+15BK4Sc2s/fy6/Oe3iez+BgE8jt4NwPyN7SRMBe10/+DwFtJvwfD/S8cYcmuRcP+Q156pKB5A/yo88ui7LWD8EEX6tGpt4P0/Oz6DoeWA/Vlsa5n6xez/mkSu7Dh9nP3x2WlxfAXw/bg5peOnLXj+EEDIIoFGFPzzJz9qPrmc/CmF8TyUffz+PKu0TsUBpP72TIQrCq2I/ZaQfXxdXYz/q/LCrG/ZqPy5lp5cB7Hc/uq6TtrBgZz/T+ILRnip6P5tDkGelR3s//7HKgZPpaj/qjUsotn1yP4Bp+66p0mw/WitZDYgmZT+8thBrpEh3P4pyijBRXVU/uDmlFKKIZj+ys+kS7HpwP/YYv9H/PHA/SYHL338+gj+4wGolPWx7P/hHooL59Xg/nUT8VWmbdj+EI2adqjN2P+2i5vDr7HI/WNUku4yxaT8pqhH3Ad13P2dqP7ZDQHA/V+ij848XeD9F+ZlqIIZXPxOcQbIPDXI/aYlGA2Qmcz+ZhrkktilhPx9YzOu+8Gs/KdxQEIcAZz87ExrpdTV+P46+U+KRh3I/4Rku1H+1VT+Mz+Oo4VxVP5veZko3b3k/cAZZoMinYj9fOaTvRzZzPySb5EQyMII/H3nS6uvWXD96HRaghoBkP7Ori4qmcXw/TofPvhZEbz82DZMH2ZpRP7b/zQCTAYQ/uuZqnRwuhz+PXiqwtAyFP+OYQUszZmM/7y6HYr/8ZD/46CHo4qxrP+Sqp1c2G2U/7P873+dvVD+TUZG+iqJcPz1YEKQb7Xk//W2FK87ebD8FXwY0GhpbPzNpPwGZ2GA/UL5puuFBcD9TjO+y43SLP2ZBW+TDRmQ/xeypGNsOZj9sil93R2BvP1aIlKQsBYM/C5KJ/ewJUj+LM/0DLW2CP5YbMDvky1Q/8lEd/BoQaD+ACyzxcstnP8wjSrCxPks/zgQ+EAMcTD/NIlCMVut7P641NHL9GW4/40ZUUFmngD9FTGTG6NONP214O8VOA1o/YMoyZFI0az/0n+beu7mJPzJ/NSihq4g/oJX7MBoMdj9RjOzILURiP8Y6JD44YmU/hzrn29VIgD9RE14SkjpsP1Jlg2NPi2E/c8kU4ytddT+JiMm7EX5VP9joxU99LmI/XiiwrAiEYD80kD1FECpZPwrVKUCuhHs/lFOBgOC5iz+TlXgqpmdkP/xuSoaeJnE/lGfn1HPnhD8PsUzGJkhzP1SfqlkWqoA/Y4m4vdLscD+7zVnscp2HP1f1LjEH0XY/lDoAXbEJYz8bmrecenlnP9hGl6d9HmU/iBGZagb/ij/vSRiyDulkP3NXeXaqUVo/gdDZNEoeVT+Obbylg9iJP21PqcxoUm8/bustTzdAhj8Kq/kee4VjPwEm9ohLF2k/neGY1L8ZZz9m+zzWbRB3P2vKwy/u0nM/830qkSNzYz/iF/CmADxgPwBuJHL/jmE/XOKOHpQBVj//YBzLT85qPxZhj93jsmY/INIfGJtDhD+aXOgX49eEP0XXBAUjmmU/hmHmg7fIXz/meqfyA21vP4BcD2vrloI/RuJFKbyLZj/aLSR1z0BdPyTAzidGlFY/TXuBiJw6dT860nvwXHV3P4eoWeqE2nI/RAqm1H0Hiz8dcjCp+1VuP5Lmr0hR7W0/ZS2I3XaCbz+Wd0sMYqBxPwyDpBP9lW4/t8imb8HJUD/ag8oLEad/P0ruh6gdbFc/ckZO5zggej88xdNlDE9YP5GUBt1SjlY/gaLX716paj8TeqN/cvRgP9PKSMYAl1g/suVB/kXmdD+Owk1d3QqIP0n3wrPa8Gw/eSWazJ5icD/8v7wh4ntYPwQObPOTMXY/reElfaz5aj9XapZcouxrP3zQ7KHUu3U/s9JKzFzlfT9Fm94iKhNqP9ZF3dwaQ1s/5LrhijEobD8nNf8/bFtQPzjhN3RUanA/pCEdev11Zz9utVJDmnJwP6iX5XvgxGA/drCwvZzSYj8UAxw5Ml1tPzeZ5kA0XG8/UsDX0FjSYj+zmPF9s+FhP01ccmOrE2Q/pBwPn+vgXT8E0vTBtymKP7Z0sE9IimA/v5b7LrKtej+wmr5t9U5iPy8sE5jV0XQ/MQTxR12bYj/aYjgFmCpkPy55M98ObVU/hIrItPRRWj906W/vlJliP2RbviVyjnM/D/lOx+xEgz8E6t+ZgJ9wP9GK+oUWr4M/l99vSxIJaj9Nm2P+jq1pP/tEca7ltmU/L8BPWUuXYz+FG0hwDdhvPz7RZ9e7IXM/G1cUllt2bD9sMxyktz1hP7ju7IIroYk/vdO+1WvaaT+0O//9pDt/P8adZGwhbFk/psG4FZ3ddD8Xn0Xg5bd2P8OhXuWWAIE/BhjEWW93fT+mJ+T8vGViP5yGwChKs2A/gY/RWPwNdT/WCDeJ6YlwP/zD3EhE+Go/XOZHVtVKZz+WNj9/b1ZnP3tWju6HhH0/KD04T97IaD/YyNnBBlp3P7wh9NnYBWE/wxlgX/VKUz9JR+eEMVVpP7Ka0RnKnGo/RRFYn8WhYT83/ZrFeox6Py//MxYXyGU/L1Ke6l8Ybj/JI4Wlh3lgP03WhnTIgn4/McDn3q2sZz+u3OjQqA1hP7j7PwcmCnk/kzNh/OkNYT9h4ta4wjNWP0jl/k47cok/zobnizXAcz8N7FaZXm9xP8aY5c6vw4U/faxbRUcRXj+xWGUraPtTP30CY7Wmgl4/QWHTXTJcfT+uFjSWc+FrP9oUGUn/u1g/ZeT1OiBeZD83q4SUOOJfPyRBcwa0N2k/wXfdZjK9Xz/2/7pYFBNkPz8EdgwD33k/slrKTLCEaj+DGZyroSN6Pwxs5v/Jl2E/4Yud8Co6hj94P4AXp1FuPw1t2nm6F18/JEqrh+vxXz+DkWhvgD5QP4zcGlqN42U/0zS6FFhlYT9WnFaeY4RrPw7OYnCeNm8/OADbHLlRaD/AUf207OtnPw+bzGEhrnA/lkOsaqf3Xj89ljtfQwhwP54ryU+geHE/mGEZHIsGbj/Yz3VFV6NmP6+p/CiNMG8/g/LzL/GRcT9pkvuXjJRyP7NYCJMTs2E/s2b61HOuSz89lszdrApjP/JMlbzdpGM/j1xo+8kegz89o9MuAwp6PxkYSVxImFM/7+euu/PmZz+P8cwvGo57P4OhntNL4lM/8sbYeNPfZT/lxTV/AkltPyg5M1hfXH4/gKK8GqH/cD9zqWYRJ55kP42DXlpuhGA/I6AW+/HndD9UVn25kyl7P42wtC1Fo2I/CfOrRumQaT/gDhAHYldtP5fGJavpL14/d0XwqZC0ZD/j1hs54gF4P5Y3Lx76sWw/v4Lwvs/pcT9cxN3SXGNtP67qvFFiGHc//e+Y0eGQhT+Qmd9ppStgP5TurpLDXFQ/\",\"dtype\":\"float64\",\"shape\":[408]}},\"selected\":{\"id\":\"e2886fad-e75c-4d55-bcfc-abebf22454dd\",\"type\":\"Selection\"},\"selection_policy\":{\"id\":\"f56e079a-2baf-4900-b11f-10532f391349\",\"type\":\"UnionRenderers\"}},\"id\":\"69fd0898-3560-4b38-9ef8-737599e8a915\",\"type\":\"ColumnDataSource\"},{\"attributes\":{\"active_drag\":\"auto\",\"active_inspect\":\"auto\",\"active_scroll\":\"auto\",\"active_tap\":\"auto\",\"tools\":[{\"id\":\"2a6927d5-d4fb-43c5-923b-ec0eb99720ff\",\"type\":\"PanTool\"},{\"id\":\"16bf7558-e272-42e9-9c53-718742775b39\",\"type\":\"WheelZoomTool\"},{\"id\":\"551c523a-c150-48f3-a158-a3259bef7efb\",\"type\":\"BoxZoomTool\"},{\"id\":\"e66e6d85-e7b5-4f61-bc3d-0d9faf05b379\",\"type\":\"SaveTool\"},{\"id\":\"6afff66f-4206-4a0c-8e57-9a99b16cb787\",\"type\":\"ResetTool\"},{\"id\":\"e4e79597-27ef-4be6-8c19-4b4875cd3ab5\",\"type\":\"HelpTool\"},{\"id\":\"284b4147-fa94-4c84-88a9-0604521249bf\",\"type\":\"HoverTool\"}]},\"id\":\"ffdefe82-18ee-46b0-a447-6c1d2e39f585\",\"type\":\"Toolbar\"},{\"attributes\":{\"overlay\":{\"id\":\"a845add1-0072-4837-a55e-1383d1544aed\",\"type\":\"BoxAnnotation\"}},\"id\":\"551c523a-c150-48f3-a158-a3259bef7efb\",\"type\":\"BoxZoomTool\"},{\"attributes\":{\"source\":{\"id\":\"69fd0898-3560-4b38-9ef8-737599e8a915\",\"type\":\"ColumnDataSource\"}},\"id\":\"a6d1a3e0-039b-4f05-94af-6ccd71f273bd\",\"type\":\"CDSView\"},{\"attributes\":{\"fill_alpha\":{\"value\":0.5},\"fill_color\":{\"value\":\"red\"},\"line_alpha\":{\"value\":0.5},\"line_color\":{\"value\":\"red\"},\"size\":{\"units\":\"screen\",\"value\":10},\"x\":{\"field\":\"x\"},\"y\":{\"field\":\"y\"}},\"id\":\"c19a165c-2469-4b6e-a6a0-03d40b22f639\",\"type\":\"Circle\"},{\"attributes\":{\"label\":{\"value\":\"Test Data\"},\"renderers\":[{\"id\":\"986f5b12-ee70-42e9-97b9-3d427b302221\",\"type\":\"GlyphRenderer\"}]},\"id\":\"41436a2f-ef8f-4d39-957a-0e0b03693bfb\",\"type\":\"LegendItem\"},{\"attributes\":{\"below\":[{\"id\":\"c1ef5137-8399-4478-a66c-5aab21a3d9c5\",\"type\":\"LinearAxis\"}],\"left\":[{\"id\":\"468fe952-aa9b-4fac-bf82-a90e470201b5\",\"type\":\"LinearAxis\"}],\"plot_height\":400,\"renderers\":[{\"id\":\"c1ef5137-8399-4478-a66c-5aab21a3d9c5\",\"type\":\"LinearAxis\"},{\"id\":\"28596883-1977-4015-9fd1-c8236048d2c7\",\"type\":\"Grid\"},{\"id\":\"468fe952-aa9b-4fac-bf82-a90e470201b5\",\"type\":\"LinearAxis\"},{\"id\":\"8ca56ccc-402e-4ee5-8227-186ad2e6fb30\",\"type\":\"Grid\"},{\"id\":\"a845add1-0072-4837-a55e-1383d1544aed\",\"type\":\"BoxAnnotation\"},{\"id\":\"fa919a3b-94f0-432c-8f68-3b52ca771400\",\"type\":\"Legend\"},{\"id\":\"986f5b12-ee70-42e9-97b9-3d427b302221\",\"type\":\"GlyphRenderer\"},{\"id\":\"e92db11c-352c-4693-99fd-b03e3de5939a\",\"type\":\"GlyphRenderer\"},{\"id\":\"a63ea5dd-c0ad-4a91-8db9-8026286b66c4\",\"type\":\"GlyphRenderer\"}],\"title\":{\"id\":\"6d13dee9-3bd0-4441-b0e1-d5c3f8da7d36\",\"type\":\"Title\"},\"toolbar\":{\"id\":\"ffdefe82-18ee-46b0-a447-6c1d2e39f585\",\"type\":\"Toolbar\"},\"x_range\":{\"id\":\"2394e821-c72b-4256-b3de-6aae262b9131\",\"type\":\"DataRange1d\"},\"x_scale\":{\"id\":\"c00800b8-ead1-423e-a021-d5165124dcd2\",\"type\":\"LinearScale\"},\"y_range\":{\"id\":\"4ab3ebef-f29f-4946-9e99-a5064cd9fd86\",\"type\":\"DataRange1d\"},\"y_scale\":{\"id\":\"1dc9e8c7-0ac7-4137-9cdc-8618cd4ddb59\",\"type\":\"LinearScale\"}},\"id\":\"c6164814-aa00-4dd8-87d4-4ad7b61c9ba3\",\"subtype\":\"Figure\",\"type\":\"Plot\"},{\"attributes\":{\"callback\":null,\"data\":{\"desc\":[\"Nelson Bay Peninsula\",\"Maitland\",\"Orange Region\",\"Windang - Primbee\",\"Canley Vale - Canley Heights\",\"Tumut Region\",\"Colyton - Oxley Park\",\"Cabramatta - Lansvale\",\"Lawson - Hazelbrook - Linden\",\"Burwood - Croydon\",\"Batemans Bay - South\",\"Smithfield - Wetherill Park\",\"West Wyalong\",\"Redhead\",\"Glendenning - Dean Park\",\"Cessnock\",\"Granville - Clyde\",\"Cooma\",\"Beresfield - Hexham\",\"Maitland - East\",\"Kurri Kurri - Abermain\",\"Thornton - Millers Forest\",\"Murwillumbah\",\"Claymore - Eagle Vale - Raby\",\"Greenacre - Mount Lewis\",\"Bass Hill - Georges Hall\",\"Cremorne - Cammeray\",\"Moama\",\"Morisset - Cooranbong\",\"Bidwill - Hebersham - Emerton\",\"Jindabyne - Berridale\",\"Parkes Region\",\"Albury - East\",\"Riverwood\",\"Yarramundi - Londonderry\",\"Eurobodalla Hinterland\",\"Murwillumbah Region\",\"Sussex Inlet - Berrara\",\"Yass\",\"Oyster Bay - Como - Jannali\",\"Green Valley\",\"Valentine - Eleebana\",\"Potts Point - Woolloomooloo\",\"Minto - St Andrews\",\"Maclean - Yamba - Iluka\",\"Far West\",\"St Marys - North St Marys\",\"Armidale\",\"Five Dock - Abbotsford\",\"Shellharbour - Flinders\",\"Glenmore Park - Regentville\",\"Umina - Booker Bay - Patonga\",\"Blaxland - Warrimoo - Lapstone\",\"Port Macquarie - West\",\"Woonona - Bulli - Russell Vale\",\"Kingsford\",\"Tamworth Region\",\"Unanderra - Mount Kembla\",\"Wamberal - Forresters Beach\",\"Culburra Beach\",\"Southern Highlands\",\"Tweed Heads\",\"Casino Region\",\"Griffith Region\",\"Pennant Hills - Cheltenham\",\"Gilgandra\",\"Point Clare - Koolewong\",\"Albury - North\",\"Bonnyrigg Heights - Bonnyrigg\",\"Maroubra - North\",\"Belmore - Belfield\",\"West Wallsend - Barnsley - Killingworth\",\"Gloucester\",\"Junee\",\"Grafton Region\",\"Pymble\",\"Erina - Green Point\",\"Condell Park\",\"Macquarie Fields - Glenfield\",\"Crows Nest - Waverton\",\"Narwee - Beverly Hills\",\"Homebush\",\"Maitland - North\",\"Lilli Pilli - Port Hacking - Dolans Bay\",\"Heathcote - Waterfall\",\"Wauchope\",\"Sutherland - Kirrawee\",\"Lambton - New Lambton\",\"Mortdale - Penshurst\",\"Cabramatta West - Mount Pritchard\",\"Tocumwal - Finley - Jerilderie\",\"Chatswood (West) - Lane Cove North\",\"Albury - South\",\"Narrabri Region\",\"Ballina\",\"Pitt Town - McGraths Hill\",\"Rose Bay - Vaucluse - Watsons Bay\",\"Gordon - Killara\",\"Tenterfield\",\"Wollongong - West\",\"St Georges Basin - Erowal Bay\",\"Bankstown - South\",\"Maroubra - West\"],\"x\":{\"__ndarray__\":\"24G5dmCubT/YqPxAPrlqP5jcnB2Gd0s/cmJp3Y7paT8dDIcGmsFYPxwH/MX6EVQ/jqiPOOz7WD/HB0DDmxpfP5Z7GmG5p2E/ByOyiL9acj8QAAEQAAFwP4nITUAicmM/ZxR327NjcD/8JEAjmfWFP6Bydgu/GmM/YewIpDuuWz9Aqt2enTZjP0Uhmpu96Hk/3zbS+5ZBZz9a/G3G6xRoPwS+/9ojVFI/W44H6fNXYz8uH2cnqpx4P9pAoKISJVY/5LQbVYlpSj/oa+/ghUlXP5vb6DlBf4g/CxiTOHjfej994h4ny3hgP07XT0ogFF4/8cDuX0pCfz/cl7XsINlbP/kdiN+B+H0/wnHmn34JQT9yfltUJWxHPzfzJqFKyWc/90uGl6AeYD+7fm+pmtp5P5r/1ir4dVQ/NyajlyH8cD/F3GF+hHNEP9XvuSVO/W4/DRjfuhqakD/kKvO20PRPP7F5ZiBsnnk/KavI0L+0YT+Yxe1lFNdjPw+2wUvUUIM/AU5FuVn+hT+AW9xQ+AVhPz8a39Gs52A/P9tX+LyzbD8hKlbo7dxsP52WqX5E4Xk/cKbAlPI0fz+WT7dsqiKKPxsGlviSrVY/EobaukbycT+fw5co3zZlP+4tB6VWLWk/qwyDMnkFaT81+kaZ1pCBP+YVqZp0xIg/sf3xR5MJaT/Q64skUthrP0E7gPOioF0/FmVRFmVRdj/t+7WUDUyAPxwcHBwcHEw/7WZkFUzejT+zhzvALGtfP7tTjO3s2FM/c4+IxBQtbT+JR4qpvodWPx6RpHRBYVA/OuuDLZIseD/rZgSeFu5rP0UTTTTRRFM/j22lFHvpUT8YLoQzDLKMPxp80TpIjVA/xDt4T6XYcz/ozCThvU10P2aa2AqMamQ/EHrt5DrMZj/ABrABbABbP5H1k6JJqHU/ytFYYpeCkD8YUMsXUMtnPwqNrfmiglQ/D5f/QX6YeD9fQxyF5iSJP2psIk8IfYw/kECD20PnkT8p7UZASruRP/7CjfwZ4mE/ftIQpupAcT/PbkY0nEJ0P00XASrRdGE/XJ7ZMReTfz9ahqeqXZBnP8oMAlPJdFk/TtRvXlNMeT8=\",\"dtype\":\"float64\",\"shape\":[103]},\"y\":{\"__ndarray__\":\"WFK0nwCKdD+zaRsC6+BnP+wwKJXDQWM/VVKDiV36cz+teP5xTypcPxWZhKoYDnQ/oXXZeb0/Wj/n/gZ21i9kPyHXe2si4HA/jgOcywQIej8PB14UfvtxP61fQE8A9lY/jJNvFjCmcT/hhBmQtzF0PyXcHzZeu1o/ccN9k1duZj9q59TI9/NdP+wICpd/+HE/UBXou17RcD/8w96SqupoP7E4t5uAnmY/YGb7Jww5Zj9G4yGn4GlyP011XfTFt1c/3TttRPMOcz/6/7WqPmZbPwljS6gRO4k/vcEDuojPdj/2G8tFAI9jP3FP5g6rtV8/5Bz7VIVIdz/Pi/nxzyF0P+aMBz8GUnc/HZTM0xcIYz/suXIAneJ1P8ZUcW7Xenc/TyyYNpgKdj8jjP/GQYR5P28ebSJKDnI/Af/ps30obj/Ahv6pdvVPPzrXVbVAhmk/aM40LE4viz+OYN3BGipYP4OwZQBX5nE/tHw4dHZXgD/EvC8wllZiP/bMeVa7Zn4/vQlMp1vrgz+nMFG9mslgP2pFxLGdFmE/3eqidrAMcT8hm2a2+rpwP9y8qfDHgng/SJ6yonlLcD9WG6s035eCP+jKhePhWWg/97HzYh46bT9q8Es3uJFoP3lGgoY/W3E/RX6ME2C/bD+2G09irIl6P68Is+jbzWk/BfZsC9exZz+47yhDVFNzP96pajnmr3M/AylP08GRbT+oZ9zSzzR2P7jKFgJEtVA/2tdoMqJrhT8I84DWxrRwPzR3eYGHcHY/hPQakiECaD/FRvrNSKN1P3TjOgH18Wo/SgoTzkB9dj+M4fVmqG5wP+b0pdCoHFY/j4LKCvsBXT8xxycNT+OJPxCgj8iZRGM/QMId+gO6az8EhTTQgRtjP2C1jGThFHs/dp03fP8Ibz9jYGxlE9ZlPzYwRT6yY3Y/8cMZDxsoeT/BB17C4J1sP8Ft9LwAfFM/PS9ccjw1bz9DlytddN+EPxGSSOAMIXo/Hq9UAJZccj+K2pX180p6P7QCIE/O21s/f3i5voLrgT9Xq0WmszJ9P8m6ZcH6fHA/INd1kopIez+I1sCRPPBwP8mE2dgHLlg/Pb0fqQVAgj8=\",\"dtype\":\"float64\",\"shape\":[103]}},\"selected\":{\"id\":\"eb290d36-1d96-410d-8bf4-c544b13f9506\",\"type\":\"Selection\"},\"selection_policy\":{\"id\":\"bec26c32-7635-4703-8208-a6e2c11b6b44\",\"type\":\"UnionRenderers\"}},\"id\":\"b4a2dbd3-4edc-4196-96a5-421d3c77c994\",\"type\":\"ColumnDataSource\"},{\"attributes\":{\"axis_label\":\"Acutal\",\"formatter\":{\"id\":\"137bc617-5f48-47e9-8341-580d87da19cc\",\"type\":\"BasicTickFormatter\"},\"plot\":{\"id\":\"c6164814-aa00-4dd8-87d4-4ad7b61c9ba3\",\"subtype\":\"Figure\",\"type\":\"Plot\"},\"ticker\":{\"id\":\"086ac015-93be-4ad8-b5c8-bb19f37f6dc7\",\"type\":\"BasicTicker\"}},\"id\":\"c1ef5137-8399-4478-a66c-5aab21a3d9c5\",\"type\":\"LinearAxis\"},{\"attributes\":{\"fill_alpha\":{\"value\":0.1},\"fill_color\":{\"value\":\"#1f77b4\"},\"line_alpha\":{\"value\":0.1},\"line_color\":{\"value\":\"#1f77b4\"},\"size\":{\"units\":\"screen\",\"value\":10},\"x\":{\"field\":\"x\"},\"y\":{\"field\":\"y\"}},\"id\":\"c0bed22d-f14e-4c0b-8df7-87630268e537\",\"type\":\"Circle\"},{\"attributes\":{\"callback\":null},\"id\":\"2394e821-c72b-4256-b3de-6aae262b9131\",\"type\":\"DataRange1d\"},{\"attributes\":{},\"id\":\"e2886fad-e75c-4d55-bcfc-abebf22454dd\",\"type\":\"Selection\"},{\"attributes\":{\"callback\":null,\"data\":{\"x\":[0,0.017483768723480397],\"y\":[0,0.017483768723480397]},\"selected\":{\"id\":\"eb940727-d95d-466c-8ddf-82306d38a4a1\",\"type\":\"Selection\"},\"selection_policy\":{\"id\":\"9024a33e-5996-4885-91d2-ccee6889564d\",\"type\":\"UnionRenderers\"}},\"id\":\"ee538b10-4e00-40d9-952a-6c977d371ac9\",\"type\":\"ColumnDataSource\"},{\"attributes\":{},\"id\":\"e4e79597-27ef-4be6-8c19-4b4875cd3ab5\",\"type\":\"HelpTool\"},{\"attributes\":{},\"id\":\"bec26c32-7635-4703-8208-a6e2c11b6b44\",\"type\":\"UnionRenderers\"},{\"attributes\":{\"callback\":null,\"renderers\":\"auto\",\"tooltips\":[[\"index\",\"$index\"],[\"(x,y)\",\"($x, $y)\"],[\"desc\",\"@desc\"]]},\"id\":\"284b4147-fa94-4c84-88a9-0604521249bf\",\"type\":\"HoverTool\"},{\"attributes\":{\"click_policy\":\"hide\",\"items\":[{\"id\":\"41436a2f-ef8f-4d39-957a-0e0b03693bfb\",\"type\":\"LegendItem\"},{\"id\":\"fd2653ea-f0b3-4677-b818-63baeae78257\",\"type\":\"LegendItem\"},{\"id\":\"1587507d-0f0f-474a-bde3-259e596a4278\",\"type\":\"LegendItem\"}],\"location\":\"top_left\",\"plot\":{\"id\":\"c6164814-aa00-4dd8-87d4-4ad7b61c9ba3\",\"subtype\":\"Figure\",\"type\":\"Plot\"}},\"id\":\"fa919a3b-94f0-432c-8f68-3b52ca771400\",\"type\":\"Legend\"},{\"attributes\":{\"axis_label\":\"Prediction\",\"formatter\":{\"id\":\"a7f0f6ca-8032-4b37-b79c-a0809ef43e72\",\"type\":\"BasicTickFormatter\"},\"plot\":{\"id\":\"c6164814-aa00-4dd8-87d4-4ad7b61c9ba3\",\"subtype\":\"Figure\",\"type\":\"Plot\"},\"ticker\":{\"id\":\"d8fddbdf-d057-4a1c-bb94-c6f8409a44c4\",\"type\":\"BasicTicker\"}},\"id\":\"468fe952-aa9b-4fac-bf82-a90e470201b5\",\"type\":\"LinearAxis\"},{\"attributes\":{\"fill_alpha\":{\"value\":0.5},\"fill_color\":{\"value\":\"navy\"},\"line_alpha\":{\"value\":0.5},\"line_color\":{\"value\":\"navy\"},\"size\":{\"units\":\"screen\",\"value\":20},\"x\":{\"field\":\"x\"},\"y\":{\"field\":\"y\"}},\"id\":\"332bd26d-e43d-435e-af7f-d7921bdc141d\",\"type\":\"Circle\"},{\"attributes\":{\"label\":{\"value\":\"Train Data\"},\"renderers\":[{\"id\":\"e92db11c-352c-4693-99fd-b03e3de5939a\",\"type\":\"GlyphRenderer\"}]},\"id\":\"fd2653ea-f0b3-4677-b818-63baeae78257\",\"type\":\"LegendItem\"},{\"attributes\":{\"dimension\":1,\"plot\":{\"id\":\"c6164814-aa00-4dd8-87d4-4ad7b61c9ba3\",\"subtype\":\"Figure\",\"type\":\"Plot\"},\"ticker\":{\"id\":\"d8fddbdf-d057-4a1c-bb94-c6f8409a44c4\",\"type\":\"BasicTicker\"}},\"id\":\"8ca56ccc-402e-4ee5-8227-186ad2e6fb30\",\"type\":\"Grid\"},{\"attributes\":{\"bottom_units\":\"screen\",\"fill_alpha\":{\"value\":0.5},\"fill_color\":{\"value\":\"lightgrey\"},\"left_units\":\"screen\",\"level\":\"overlay\",\"line_alpha\":{\"value\":1.0},\"line_color\":{\"value\":\"black\"},\"line_dash\":[4,4],\"line_width\":{\"value\":2},\"plot\":null,\"render_mode\":\"css\",\"right_units\":\"screen\",\"top_units\":\"screen\"},\"id\":\"a845add1-0072-4837-a55e-1383d1544aed\",\"type\":\"BoxAnnotation\"},{\"attributes\":{\"line_alpha\":0.1,\"line_color\":\"#1f77b4\",\"x\":{\"field\":\"x\"},\"y\":{\"field\":\"y\"}},\"id\":\"8db517ed-ed6d-4e4c-ac18-b28f8ceebeab\",\"type\":\"Line\"},{\"attributes\":{\"data_source\":{\"id\":\"ee538b10-4e00-40d9-952a-6c977d371ac9\",\"type\":\"ColumnDataSource\"},\"glyph\":{\"id\":\"b2ebe250-c34f-4901-8b9a-46fb8fa291d3\",\"type\":\"Line\"},\"hover_glyph\":null,\"muted_glyph\":null,\"nonselection_glyph\":{\"id\":\"8db517ed-ed6d-4e4c-ac18-b28f8ceebeab\",\"type\":\"Line\"},\"selection_glyph\":null,\"view\":{\"id\":\"86b11d63-2997-44ba-8a9d-98944f6b72e6\",\"type\":\"CDSView\"}},\"id\":\"a63ea5dd-c0ad-4a91-8db9-8026286b66c4\",\"type\":\"GlyphRenderer\"},{\"attributes\":{\"fill_alpha\":{\"value\":0.1},\"fill_color\":{\"value\":\"#1f77b4\"},\"line_alpha\":{\"value\":0.1},\"line_color\":{\"value\":\"#1f77b4\"},\"size\":{\"units\":\"screen\",\"value\":20},\"x\":{\"field\":\"x\"},\"y\":{\"field\":\"y\"}},\"id\":\"b47fdf2f-d187-402e-bb62-7b2cc8b06759\",\"type\":\"Circle\"},{\"attributes\":{},\"id\":\"137bc617-5f48-47e9-8341-580d87da19cc\",\"type\":\"BasicTickFormatter\"},{\"attributes\":{},\"id\":\"9024a33e-5996-4885-91d2-ccee6889564d\",\"type\":\"UnionRenderers\"},{\"attributes\":{\"data_source\":{\"id\":\"b4a2dbd3-4edc-4196-96a5-421d3c77c994\",\"type\":\"ColumnDataSource\"},\"glyph\":{\"id\":\"332bd26d-e43d-435e-af7f-d7921bdc141d\",\"type\":\"Circle\"},\"hover_glyph\":null,\"muted_glyph\":null,\"nonselection_glyph\":{\"id\":\"b47fdf2f-d187-402e-bb62-7b2cc8b06759\",\"type\":\"Circle\"},\"selection_glyph\":null,\"view\":{\"id\":\"d34e9e35-8524-43d6-8cdc-4d85b8905f27\",\"type\":\"CDSView\"}},\"id\":\"986f5b12-ee70-42e9-97b9-3d427b302221\",\"type\":\"GlyphRenderer\"},{\"attributes\":{\"label\":{\"value\":\"line of perfect fit\"},\"renderers\":[{\"id\":\"a63ea5dd-c0ad-4a91-8db9-8026286b66c4\",\"type\":\"GlyphRenderer\"}]},\"id\":\"1587507d-0f0f-474a-bde3-259e596a4278\",\"type\":\"LegendItem\"},{\"attributes\":{\"source\":{\"id\":\"b4a2dbd3-4edc-4196-96a5-421d3c77c994\",\"type\":\"ColumnDataSource\"}},\"id\":\"d34e9e35-8524-43d6-8cdc-4d85b8905f27\",\"type\":\"CDSView\"},{\"attributes\":{\"source\":{\"id\":\"ee538b10-4e00-40d9-952a-6c977d371ac9\",\"type\":\"ColumnDataSource\"}},\"id\":\"86b11d63-2997-44ba-8a9d-98944f6b72e6\",\"type\":\"CDSView\"},{\"attributes\":{},\"id\":\"086ac015-93be-4ad8-b5c8-bb19f37f6dc7\",\"type\":\"BasicTicker\"},{\"attributes\":{},\"id\":\"eb290d36-1d96-410d-8bf4-c544b13f9506\",\"type\":\"Selection\"},{\"attributes\":{\"callback\":null},\"id\":\"4ab3ebef-f29f-4946-9e99-a5064cd9fd86\",\"type\":\"DataRange1d\"},{\"attributes\":{},\"id\":\"a7f0f6ca-8032-4b37-b79c-a0809ef43e72\",\"type\":\"BasicTickFormatter\"},{\"attributes\":{},\"id\":\"e66e6d85-e7b5-4f61-bc3d-0d9faf05b379\",\"type\":\"SaveTool\"},{\"attributes\":{},\"id\":\"eb940727-d95d-466c-8ddf-82306d38a4a1\",\"type\":\"Selection\"},{\"attributes\":{},\"id\":\"2a6927d5-d4fb-43c5-923b-ec0eb99720ff\",\"type\":\"PanTool\"},{\"attributes\":{},\"id\":\"d8fddbdf-d057-4a1c-bb94-c6f8409a44c4\",\"type\":\"BasicTicker\"},{\"attributes\":{},\"id\":\"f56e079a-2baf-4900-b11f-10532f391349\",\"type\":\"UnionRenderers\"},{\"attributes\":{},\"id\":\"c00800b8-ead1-423e-a021-d5165124dcd2\",\"type\":\"LinearScale\"},{\"attributes\":{},\"id\":\"1dc9e8c7-0ac7-4137-9cdc-8618cd4ddb59\",\"type\":\"LinearScale\"},{\"attributes\":{\"plot\":{\"id\":\"c6164814-aa00-4dd8-87d4-4ad7b61c9ba3\",\"subtype\":\"Figure\",\"type\":\"Plot\"},\"ticker\":{\"id\":\"086ac015-93be-4ad8-b5c8-bb19f37f6dc7\",\"type\":\"BasicTicker\"}},\"id\":\"28596883-1977-4015-9fd1-c8236048d2c7\",\"type\":\"Grid\"},{\"attributes\":{\"plot\":null,\"text\":\"\"},\"id\":\"6d13dee9-3bd0-4441-b0e1-d5c3f8da7d36\",\"type\":\"Title\"},{\"attributes\":{},\"id\":\"16bf7558-e272-42e9-9c53-718742775b39\",\"type\":\"WheelZoomTool\"}],\"root_ids\":[\"c6164814-aa00-4dd8-87d4-4ad7b61c9ba3\"]},\"title\":\"Bokeh Application\",\"version\":\"0.12.16\"}};\n",
       "  var render_items = [{\"docid\":\"d1a4fc8a-8644-469c-8121-b96b28bf14d4\",\"elementid\":\"2055b75f-72e6-47cf-a340-7234e4268974\",\"modelid\":\"c6164814-aa00-4dd8-87d4-4ad7b61c9ba3\"}];\n",
       "  root.Bokeh.embed.embed_items_notebook(docs_json, render_items);\n",
       "\n",
       "  }\n",
       "  if (root.Bokeh !== undefined) {\n",
       "    embed_document(root);\n",
       "  } else {\n",
       "    var attempts = 0;\n",
       "    var timer = setInterval(function(root) {\n",
       "      if (root.Bokeh !== undefined) {\n",
       "        embed_document(root);\n",
       "        clearInterval(timer);\n",
       "      }\n",
       "      attempts++;\n",
       "      if (attempts > 100) {\n",
       "        console.log(\"Bokeh: ERROR: Unable to run BokehJS code because BokehJS library is missing\")\n",
       "        clearInterval(timer);\n",
       "      }\n",
       "    }, 10, root)\n",
       "  }\n",
       "})(window);"
      ],
      "application/vnd.bokehjs_exec.v0+json": ""
     },
     "metadata": {
      "application/vnd.bokehjs_exec.v0+json": {
       "id": "c6164814-aa00-4dd8-87d4-4ad7b61c9ba3"
      }
     },
     "output_type": "display_data"
    },
    {
     "name": "stdout",
     "output_type": "stream",
     "text": [
      "Train data R2 score: 0.9082215362078521\n",
      "Test data R2 score: 0.46322243941860564\n"
     ]
    }
   ],
   "source": [
    "y_low_pred, y_low_train_pred = evaluate_model(rf_trunc, X_trunc_train, X_trunc_test, y_trunc_train, y_trunc_test)"
   ]
  },
  {
   "cell_type": "code",
   "execution_count": null,
   "metadata": {},
   "outputs": [],
   "source": [
    "importlib.reload(cleanfunc)\n",
    "cleanfunc.feature_impact_plot(rf_trunc, X_trunc_train, 10, 'Cycling to Work')"
   ]
  },
  {
   "cell_type": "code",
   "execution_count": null,
   "metadata": {},
   "outputs": [],
   "source": []
  },
  {
   "cell_type": "code",
   "execution_count": null,
   "metadata": {},
   "outputs": [],
   "source": []
  },
  {
   "cell_type": "code",
   "execution_count": 17,
   "metadata": {},
   "outputs": [
    {
     "name": "stdout",
     "output_type": "stream",
     "text": [
      "Fitting 3 folds for each of 100 candidates, totalling 300 fits\n"
     ]
    },
    {
     "name": "stderr",
     "output_type": "stream",
     "text": [
      "[Parallel(n_jobs=-1)]: Done  33 tasks      | elapsed:   52.0s\n",
      "[Parallel(n_jobs=-1)]: Done 154 tasks      | elapsed:  2.8min\n"
     ]
    },
    {
     "ename": "KeyboardInterrupt",
     "evalue": "",
     "output_type": "error",
     "traceback": [
      "\u001b[1;31m---------------------------------------------------------------------------\u001b[0m",
      "\u001b[1;31mKeyboardInterrupt\u001b[0m                         Traceback (most recent call last)",
      "\u001b[1;32m<ipython-input-17-3d037c892fb9>\u001b[0m in \u001b[0;36m<module>\u001b[1;34m()\u001b[0m\n\u001b[0;32m      4\u001b[0m \u001b[1;33m\u001b[0m\u001b[0m\n\u001b[0;32m      5\u001b[0m \u001b[1;31m# Fit the random search model\u001b[0m\u001b[1;33m\u001b[0m\u001b[1;33m\u001b[0m\u001b[0m\n\u001b[1;32m----> 6\u001b[1;33m \u001b[0mrf_random_trunc\u001b[0m\u001b[1;33m.\u001b[0m\u001b[0mfit\u001b[0m\u001b[1;33m(\u001b[0m\u001b[0mX_trunc_train\u001b[0m\u001b[1;33m,\u001b[0m \u001b[0my_trunc_train\u001b[0m\u001b[1;33m)\u001b[0m\u001b[1;33m\u001b[0m\u001b[0m\n\u001b[0m",
      "\u001b[1;32m~\\AppData\\Local\\Continuum\\anaconda3\\lib\\site-packages\\sklearn\\model_selection\\_search.py\u001b[0m in \u001b[0;36mfit\u001b[1;34m(self, X, y, groups, **fit_params)\u001b[0m\n\u001b[0;32m    637\u001b[0m                                   error_score=self.error_score)\n\u001b[0;32m    638\u001b[0m           for parameters, (train, test) in product(candidate_params,\n\u001b[1;32m--> 639\u001b[1;33m                                                    cv.split(X, y, groups)))\n\u001b[0m\u001b[0;32m    640\u001b[0m \u001b[1;33m\u001b[0m\u001b[0m\n\u001b[0;32m    641\u001b[0m         \u001b[1;31m# if one choose to see train score, \"out\" will contain train score info\u001b[0m\u001b[1;33m\u001b[0m\u001b[1;33m\u001b[0m\u001b[0m\n",
      "\u001b[1;32m~\\AppData\\Local\\Continuum\\anaconda3\\lib\\site-packages\\sklearn\\externals\\joblib\\parallel.py\u001b[0m in \u001b[0;36m__call__\u001b[1;34m(self, iterable)\u001b[0m\n\u001b[0;32m    787\u001b[0m                 \u001b[1;31m# consumption.\u001b[0m\u001b[1;33m\u001b[0m\u001b[1;33m\u001b[0m\u001b[0m\n\u001b[0;32m    788\u001b[0m                 \u001b[0mself\u001b[0m\u001b[1;33m.\u001b[0m\u001b[0m_iterating\u001b[0m \u001b[1;33m=\u001b[0m \u001b[1;32mFalse\u001b[0m\u001b[1;33m\u001b[0m\u001b[0m\n\u001b[1;32m--> 789\u001b[1;33m             \u001b[0mself\u001b[0m\u001b[1;33m.\u001b[0m\u001b[0mretrieve\u001b[0m\u001b[1;33m(\u001b[0m\u001b[1;33m)\u001b[0m\u001b[1;33m\u001b[0m\u001b[0m\n\u001b[0m\u001b[0;32m    790\u001b[0m             \u001b[1;31m# Make sure that we get a last message telling us we are done\u001b[0m\u001b[1;33m\u001b[0m\u001b[1;33m\u001b[0m\u001b[0m\n\u001b[0;32m    791\u001b[0m             \u001b[0melapsed_time\u001b[0m \u001b[1;33m=\u001b[0m \u001b[0mtime\u001b[0m\u001b[1;33m.\u001b[0m\u001b[0mtime\u001b[0m\u001b[1;33m(\u001b[0m\u001b[1;33m)\u001b[0m \u001b[1;33m-\u001b[0m \u001b[0mself\u001b[0m\u001b[1;33m.\u001b[0m\u001b[0m_start_time\u001b[0m\u001b[1;33m\u001b[0m\u001b[0m\n",
      "\u001b[1;32m~\\AppData\\Local\\Continuum\\anaconda3\\lib\\site-packages\\sklearn\\externals\\joblib\\parallel.py\u001b[0m in \u001b[0;36mretrieve\u001b[1;34m(self)\u001b[0m\n\u001b[0;32m    697\u001b[0m             \u001b[1;32mtry\u001b[0m\u001b[1;33m:\u001b[0m\u001b[1;33m\u001b[0m\u001b[0m\n\u001b[0;32m    698\u001b[0m                 \u001b[1;32mif\u001b[0m \u001b[0mgetattr\u001b[0m\u001b[1;33m(\u001b[0m\u001b[0mself\u001b[0m\u001b[1;33m.\u001b[0m\u001b[0m_backend\u001b[0m\u001b[1;33m,\u001b[0m \u001b[1;34m'supports_timeout'\u001b[0m\u001b[1;33m,\u001b[0m \u001b[1;32mFalse\u001b[0m\u001b[1;33m)\u001b[0m\u001b[1;33m:\u001b[0m\u001b[1;33m\u001b[0m\u001b[0m\n\u001b[1;32m--> 699\u001b[1;33m                     \u001b[0mself\u001b[0m\u001b[1;33m.\u001b[0m\u001b[0m_output\u001b[0m\u001b[1;33m.\u001b[0m\u001b[0mextend\u001b[0m\u001b[1;33m(\u001b[0m\u001b[0mjob\u001b[0m\u001b[1;33m.\u001b[0m\u001b[0mget\u001b[0m\u001b[1;33m(\u001b[0m\u001b[0mtimeout\u001b[0m\u001b[1;33m=\u001b[0m\u001b[0mself\u001b[0m\u001b[1;33m.\u001b[0m\u001b[0mtimeout\u001b[0m\u001b[1;33m)\u001b[0m\u001b[1;33m)\u001b[0m\u001b[1;33m\u001b[0m\u001b[0m\n\u001b[0m\u001b[0;32m    700\u001b[0m                 \u001b[1;32melse\u001b[0m\u001b[1;33m:\u001b[0m\u001b[1;33m\u001b[0m\u001b[0m\n\u001b[0;32m    701\u001b[0m                     \u001b[0mself\u001b[0m\u001b[1;33m.\u001b[0m\u001b[0m_output\u001b[0m\u001b[1;33m.\u001b[0m\u001b[0mextend\u001b[0m\u001b[1;33m(\u001b[0m\u001b[0mjob\u001b[0m\u001b[1;33m.\u001b[0m\u001b[0mget\u001b[0m\u001b[1;33m(\u001b[0m\u001b[1;33m)\u001b[0m\u001b[1;33m)\u001b[0m\u001b[1;33m\u001b[0m\u001b[0m\n",
      "\u001b[1;32m~\\AppData\\Local\\Continuum\\anaconda3\\lib\\multiprocessing\\pool.py\u001b[0m in \u001b[0;36mget\u001b[1;34m(self, timeout)\u001b[0m\n\u001b[0;32m    636\u001b[0m \u001b[1;33m\u001b[0m\u001b[0m\n\u001b[0;32m    637\u001b[0m     \u001b[1;32mdef\u001b[0m \u001b[0mget\u001b[0m\u001b[1;33m(\u001b[0m\u001b[0mself\u001b[0m\u001b[1;33m,\u001b[0m \u001b[0mtimeout\u001b[0m\u001b[1;33m=\u001b[0m\u001b[1;32mNone\u001b[0m\u001b[1;33m)\u001b[0m\u001b[1;33m:\u001b[0m\u001b[1;33m\u001b[0m\u001b[0m\n\u001b[1;32m--> 638\u001b[1;33m         \u001b[0mself\u001b[0m\u001b[1;33m.\u001b[0m\u001b[0mwait\u001b[0m\u001b[1;33m(\u001b[0m\u001b[0mtimeout\u001b[0m\u001b[1;33m)\u001b[0m\u001b[1;33m\u001b[0m\u001b[0m\n\u001b[0m\u001b[0;32m    639\u001b[0m         \u001b[1;32mif\u001b[0m \u001b[1;32mnot\u001b[0m \u001b[0mself\u001b[0m\u001b[1;33m.\u001b[0m\u001b[0mready\u001b[0m\u001b[1;33m(\u001b[0m\u001b[1;33m)\u001b[0m\u001b[1;33m:\u001b[0m\u001b[1;33m\u001b[0m\u001b[0m\n\u001b[0;32m    640\u001b[0m             \u001b[1;32mraise\u001b[0m \u001b[0mTimeoutError\u001b[0m\u001b[1;33m\u001b[0m\u001b[0m\n",
      "\u001b[1;32m~\\AppData\\Local\\Continuum\\anaconda3\\lib\\multiprocessing\\pool.py\u001b[0m in \u001b[0;36mwait\u001b[1;34m(self, timeout)\u001b[0m\n\u001b[0;32m    633\u001b[0m \u001b[1;33m\u001b[0m\u001b[0m\n\u001b[0;32m    634\u001b[0m     \u001b[1;32mdef\u001b[0m \u001b[0mwait\u001b[0m\u001b[1;33m(\u001b[0m\u001b[0mself\u001b[0m\u001b[1;33m,\u001b[0m \u001b[0mtimeout\u001b[0m\u001b[1;33m=\u001b[0m\u001b[1;32mNone\u001b[0m\u001b[1;33m)\u001b[0m\u001b[1;33m:\u001b[0m\u001b[1;33m\u001b[0m\u001b[0m\n\u001b[1;32m--> 635\u001b[1;33m         \u001b[0mself\u001b[0m\u001b[1;33m.\u001b[0m\u001b[0m_event\u001b[0m\u001b[1;33m.\u001b[0m\u001b[0mwait\u001b[0m\u001b[1;33m(\u001b[0m\u001b[0mtimeout\u001b[0m\u001b[1;33m)\u001b[0m\u001b[1;33m\u001b[0m\u001b[0m\n\u001b[0m\u001b[0;32m    636\u001b[0m \u001b[1;33m\u001b[0m\u001b[0m\n\u001b[0;32m    637\u001b[0m     \u001b[1;32mdef\u001b[0m \u001b[0mget\u001b[0m\u001b[1;33m(\u001b[0m\u001b[0mself\u001b[0m\u001b[1;33m,\u001b[0m \u001b[0mtimeout\u001b[0m\u001b[1;33m=\u001b[0m\u001b[1;32mNone\u001b[0m\u001b[1;33m)\u001b[0m\u001b[1;33m:\u001b[0m\u001b[1;33m\u001b[0m\u001b[0m\n",
      "\u001b[1;32m~\\AppData\\Local\\Continuum\\anaconda3\\lib\\threading.py\u001b[0m in \u001b[0;36mwait\u001b[1;34m(self, timeout)\u001b[0m\n\u001b[0;32m    549\u001b[0m             \u001b[0msignaled\u001b[0m \u001b[1;33m=\u001b[0m \u001b[0mself\u001b[0m\u001b[1;33m.\u001b[0m\u001b[0m_flag\u001b[0m\u001b[1;33m\u001b[0m\u001b[0m\n\u001b[0;32m    550\u001b[0m             \u001b[1;32mif\u001b[0m \u001b[1;32mnot\u001b[0m \u001b[0msignaled\u001b[0m\u001b[1;33m:\u001b[0m\u001b[1;33m\u001b[0m\u001b[0m\n\u001b[1;32m--> 551\u001b[1;33m                 \u001b[0msignaled\u001b[0m \u001b[1;33m=\u001b[0m \u001b[0mself\u001b[0m\u001b[1;33m.\u001b[0m\u001b[0m_cond\u001b[0m\u001b[1;33m.\u001b[0m\u001b[0mwait\u001b[0m\u001b[1;33m(\u001b[0m\u001b[0mtimeout\u001b[0m\u001b[1;33m)\u001b[0m\u001b[1;33m\u001b[0m\u001b[0m\n\u001b[0m\u001b[0;32m    552\u001b[0m             \u001b[1;32mreturn\u001b[0m \u001b[0msignaled\u001b[0m\u001b[1;33m\u001b[0m\u001b[0m\n\u001b[0;32m    553\u001b[0m \u001b[1;33m\u001b[0m\u001b[0m\n",
      "\u001b[1;32m~\\AppData\\Local\\Continuum\\anaconda3\\lib\\threading.py\u001b[0m in \u001b[0;36mwait\u001b[1;34m(self, timeout)\u001b[0m\n\u001b[0;32m    293\u001b[0m         \u001b[1;32mtry\u001b[0m\u001b[1;33m:\u001b[0m    \u001b[1;31m# restore state no matter what (e.g., KeyboardInterrupt)\u001b[0m\u001b[1;33m\u001b[0m\u001b[0m\n\u001b[0;32m    294\u001b[0m             \u001b[1;32mif\u001b[0m \u001b[0mtimeout\u001b[0m \u001b[1;32mis\u001b[0m \u001b[1;32mNone\u001b[0m\u001b[1;33m:\u001b[0m\u001b[1;33m\u001b[0m\u001b[0m\n\u001b[1;32m--> 295\u001b[1;33m                 \u001b[0mwaiter\u001b[0m\u001b[1;33m.\u001b[0m\u001b[0macquire\u001b[0m\u001b[1;33m(\u001b[0m\u001b[1;33m)\u001b[0m\u001b[1;33m\u001b[0m\u001b[0m\n\u001b[0m\u001b[0;32m    296\u001b[0m                 \u001b[0mgotit\u001b[0m \u001b[1;33m=\u001b[0m \u001b[1;32mTrue\u001b[0m\u001b[1;33m\u001b[0m\u001b[0m\n\u001b[0;32m    297\u001b[0m             \u001b[1;32melse\u001b[0m\u001b[1;33m:\u001b[0m\u001b[1;33m\u001b[0m\u001b[0m\n",
      "\u001b[1;31mKeyboardInterrupt\u001b[0m: "
     ]
    }
   ],
   "source": [
    "# Random search of parameters, using 3 fold cross validation, \n",
    "# search across 100 different combinations, and use all available cores\n",
    "rf_random_trunc = RandomizedSearchCV(estimator = rf, param_distributions = random_grid, n_iter = 100, cv = 3, verbose=2, random_state=42, n_jobs = -1)\n",
    "\n",
    "# Fit the random search model\n",
    "rf_random_trunc.fit(X_trunc_train, y_trunc_train)"
   ]
  },
  {
   "cell_type": "code",
   "execution_count": null,
   "metadata": {},
   "outputs": [],
   "source": [
    "print(rf_random.best_params_)\n",
    "best_trunc = rf_random_trunc.best_estimator_\n",
    "y_best_pred, y_best_train_pred = evaluate_model(best_trunc, X_trunc_train, X_trunc_test, y_trunc_train, y_trunc_test)"
   ]
  },
  {
   "cell_type": "code",
   "execution_count": null,
   "metadata": {},
   "outputs": [],
   "source": []
  },
  {
   "cell_type": "code",
   "execution_count": null,
   "metadata": {},
   "outputs": [],
   "source": []
  },
  {
   "cell_type": "code",
   "execution_count": null,
   "metadata": {},
   "outputs": [],
   "source": []
  },
  {
   "cell_type": "code",
   "execution_count": null,
   "metadata": {},
   "outputs": [],
   "source": []
  },
  {
   "cell_type": "code",
   "execution_count": null,
   "metadata": {},
   "outputs": [],
   "source": []
  },
  {
   "cell_type": "code",
   "execution_count": null,
   "metadata": {},
   "outputs": [],
   "source": []
  }
 ],
 "metadata": {
  "kernelspec": {
   "display_name": "Python 3",
   "language": "python",
   "name": "python3"
  },
  "language_info": {
   "codemirror_mode": {
    "name": "ipython",
    "version": 3
   },
   "file_extension": ".py",
   "mimetype": "text/x-python",
   "name": "python",
   "nbconvert_exporter": "python",
   "pygments_lexer": "ipython3",
   "version": "3.6.5"
  }
 },
 "nbformat": 4,
 "nbformat_minor": 2
}
